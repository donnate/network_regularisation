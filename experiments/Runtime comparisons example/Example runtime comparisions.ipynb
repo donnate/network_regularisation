{
 "cells": [
  {
   "cell_type": "markdown",
   "id": "668ec125",
   "metadata": {},
   "source": [
    "# Example: Runtime comparisons\n",
    "\n",
    "- This example explains the experiments for the runtime comparisons section. We solve the same objective function using different algorithms, and compare their runtimes. \n",
    "- We first explain the codes to be used in this example. These include the codes for the coordinate descent (CD), interior point (IP) and ADMM methods. "
   ]
  },
  {
   "cell_type": "markdown",
   "id": "0c8fe55e",
   "metadata": {},
   "source": [
    "#### Codes for algorithms (implicitly used in this example):\n",
    "1. Coordinate Descent (CD):\n",
    "    - The function `CGD(X,y, Gamma, lambda1, lambda2, eps = 1e-4, max_it = 50000)` takes in:\n",
    "       - `X` as the design matrix of size $n \\times p$\n",
    "       - `y` as the response vector of length $n$\n",
    "       - `Gamma` as the incidence matrix of the given graph $G$\n",
    "       - `lambda1` as the $\\lambda_1$ in $\\lambda_1 \\|\\Gamma \\beta\\|_1$\n",
    "       - `lambda2` as the $\\lambda_2$ in $\\lambda_2 \\|\\Gamma \\beta\\|_2^2$\n",
    "       - `eps` as the tolerance for stopping criterion, with default value `eps = 1e-4`\n",
    "       - `max_it` as the maximum number of iterations allowed for the algorithm\n",
    "    - The function `GCD` returns the estimation $\\hat{\\beta}$ as an array of size $p$\n",
    "    - The dual vector $u$ is initialized to an array of all zeros, as described in the paper.\n",
    "\n",
    "\n",
    "2. Interior Point (IP):\n",
    "    - The function `IP(X,y, Gamma, lambda1, lambda2, tau = 1.5, eps = 1e-4, max_it = 10000)` takes in:\n",
    "        - `X`, `y`, `Gamma`, `lambda1`, `lambda2`, `eps`, `max_it` the same as the function `CGD`\n",
    "        - `tau` as the factor which $t$ increased by in each iteration, as described in the paper. Here, the default choice is `tau = 1.5`.\n",
    "    - The function `IP` returns the estimation $\\hat{\\beta}$ as an array of size $p$.\n",
    "    - The dual vector $u$ is initialized to an array of all zeros. $\\mu_1$ and $\\mu_2$ are initialized to arrays of all $10$s, which are just an arbitrary choice to satisfy $\\mu_1 > 0$ and $\\mu_2 > 0$.\n",
    "    - The $\\alpha, \\gamma$ backtracking line search is done by the function `line_search(..., a = 0.1, b = 0.7)`, where the default values of $(\\alpha, \\gamma)$ are $(0.1, 0.7)$ \n",
    "\n",
    "\n",
    "\n",
    "3. ADMM:\n",
    "    - The function `Gauss_ADMM(X, y, Gamma, lambda1, lambda2, rho = 1, eps = 1e-3, max_it = 50000)` takes in:\n",
    "         - `X`, `y`, `Gamma`, `lambda1`, `lambda2`, `eps`, `max_it` the same as the function `CGD`\n",
    "             - Note that for this section, the default tolerance is `eps = 1e-3` instead. \n",
    "         - `rho` is  the Lagrangian augmentation factor; equivalently the step-size for dual ascent. Here, its default value is set to $1$. For discussions on its influence on convergence speed, see Boyd et al. (2010).\n",
    "    - The function `Gauss_ADMM` returns the estimation $\\hat{\\beta}$ as an array of size $p$\n",
    "  \n",
    "  \n",
    "  \n",
    "4. ECOS(CVXPY):\n",
    "    - Here, we simply call the functions for estimators written in `estimators.py`, which use ECOS algorithm in CVXPY package to solve for the signal estimations."
   ]
  },
  {
   "cell_type": "markdown",
   "id": "8ce18e12",
   "metadata": {},
   "source": [
    "#### Import functions:"
   ]
  },
  {
   "cell_type": "code",
   "execution_count": 13,
   "id": "89f939ee",
   "metadata": {},
   "outputs": [],
   "source": [
    "import matplotlib.pyplot as plt\n",
    "import numpy as np\n",
    "import scipy\n",
    "import time\n",
    "import numpy.linalg as la\n",
    "import networkx as nx\n",
    "\n",
    "from estimators import *\n",
    "from signals import *\n"
   ]
  },
  {
   "cell_type": "markdown",
   "id": "482ce181",
   "metadata": {},
   "source": [
    "#### Functions from `signals.py` that will be used for this section:\n",
    "\n",
    "- The function `gauss_sample(n, p, beta_star, Psi, sigma, set_seed = 1)` returns a randomly generated data set `X, y` according to $y = X \\beta^* + \\epsilon$.\n",
    "    - `n`: number of observations for this data set\n",
    "    - `p` (redundant): length of `beta_star` \n",
    "    - `beta_star`: a **1D** array that represents $\\beta^*$\n",
    "    - `sigma`: The noise $\\sigma$ for $\\epsilon$ drawn i.i.d. from $N(0, \\sigma^2)$\n",
    "    - `Psi`: Corresponds to the covariance matrix $\\Psi$. Rows of `X` are drawn i.i.d. from $N(0, \\Psi)$\n",
    "    - `set_seed`: used to set seed for the random generation.\n",
    "\n",
    "\n",
    "\n",
    "-  The function `smooth_stair(slope_length, slope_height, step_length, start_value, n_repeat)` returns a 1D array that corresponds to a signal indexed by a 1D chain graph. \n",
    "    - It returns a signal whose values contains multiple smooth increasing parts and flat parts (looks like a stair).\n",
    "    - `slope_length` is the number of nodes in the increasing part, `slope height` is the total increase of values in the increasing part. `step_length` is the number of nodes in the flat part. The signal consists of `n_repeat` number of 'step'+'slope' structures. `start_value` is simple the minimum value of the signal.\n",
    "    \n",
    "    \n",
    "- The function `smooth_2d(side_len, disk_radi, period, height, start_value)` returns a ***2D*** array that corresponds to a signal indexed by a 2D grid graph. \n",
    "    - Use `.flatten()` to turn this 2D array output to a 1D array. Then we can use this 1D array as input for `gauss_sample`\n",
    "    - It returns a signal whose values contain a flat disk in the middle of the 2D grid, and smoothly decrease. \n",
    "    - `side_len` is the side length (number of nodes on one side) of the 2D grid graph (for symmetry consideration, we always use an odd number of nodes). `disk_radi` is the radius of the flat disk in terms of number of nodes. `period` describes how fast the values decrease sinusoidally (larger period gives slower decrease). Again, `start_value` is the minimum value, the disk part has value `start_value` + `height`\n",
    "    \n",
    "    \n",
    "    \n",
    "- `chain_incidence(p)` returns the incidence matrix of a 1D chain graph with $p$ nodes as a 2D array.\n",
    "- `grid_incidence(a)` returns the incidence matrix of a 2D grid graph with $a \\times a$ nodes as a 2D array.\n",
    "- `cor_from_G(G, a)` takes in a graph object G and returns the correlation matrix constructed from $(L+ aI)^{-1}$ (For 2D grid case)\n",
    "    - We choose `a` $ = 0.5$ for following experiments.\n",
    "- `toeplitz(a, p)` returns the toeplitz covariance matrix with factor `a` and size $p \\times p$ (For 1D chain case)\n",
    "    - We choose `a` $ = 0.5$ for following experiments.\n",
    "#### Functions from `estimators.py` that will be used for this section:\n",
    "\n",
    "- `GEN(l1 = 0, l2 = 0, D = 0)` returns an estimator object initialized with $\\lambda_1 = $ `l1`, $\\lambda_2 = $ `l2`  , and incidence matrix $\\Gamma = $ `D`. The default values are $0$.\n",
    "    - Its method `fit(self, X, y)` returns a fitted estimator whose attribute `beta` is the fitted $\\hat{\\beta}$\n",
    "    - The algorithm used for this fitting method is ECOS with `abstol = 1e-4`.\n",
    "\n",
    "- `GEN_CGD` uses Coordinate Descent (CD) as its fitting method. `GEN_IP` uses Interior Point method (IP) as its fitting method. `GEN_ADMM` uses ADMM as its fitting method. Default settings of the 3 methods have been described before."
   ]
  },
  {
   "cell_type": "markdown",
   "id": "e1d08cd1",
   "metadata": {},
   "source": [
    "### Experiment design:\n",
    "- Observe how runtime grows with respect to scaling of size of the signal $p$, while number of obervations $n$ is fixed. \n",
    "    - Here, we can simply fix $n = 2000$. Try $p = 200, 400$ for 1D chain case, and $p = 15 \\times 15, 19 \\times 19$ for 2D grid case to get a rough sense.\n",
    "    - We used `smooth_stair` and `smooth_2d` to construct signals of different size $p$\n",
    "- Fix the noise $\\sigma = 1$\n",
    "- $\\lambda_1, \\lambda_2$ can be chosen by cross validation or by theory. Here, for convenience, we can simply try $\\lambda_1, \\lambda_2$ = $25, 10$.\n"
   ]
  },
  {
   "cell_type": "code",
   "execution_count": 16,
   "id": "1baf8268",
   "metadata": {},
   "outputs": [],
   "source": [
    "n = 2000\n",
    "sigma = 1"
   ]
  },
  {
   "cell_type": "markdown",
   "id": "72915282",
   "metadata": {},
   "source": [
    "#### 1. 1D Chain graph\n",
    "- (a) $p = 200$   \n",
    "- (b) $p = 400$"
   ]
  },
  {
   "cell_type": "code",
   "execution_count": 8,
   "id": "57b8da23",
   "metadata": {},
   "outputs": [],
   "source": [
    "### construct signals\n",
    "beta_1d_a = smooth_stair(10, 5, 20, 0, 30)[0:200]   \n",
    "beta_1d_b = smooth_stair(10, 5, 20, 0, 30)[0:400]\n",
    "\n",
    "### construct covariance matrices\n",
    "Psi_a = toeplitz(0.5, 200)\n",
    "Psi_b = toeplitz(0.5, 400)\n",
    "\n",
    "### generate data\n",
    "X_a, y_a = gauss_sample(n, 200, beta_1d_a, Psi_a, sigma, 1)\n",
    "X_b, y_b = gauss_sample(n, 400, beta_1d_b, Psi_b, sigma, 2)\n",
    "\n",
    "### construct the incidence matrices:\n",
    "D_a = chain_incidence(200)\n",
    "D_b = chain_incidence(400)\n",
    "\n",
    "### iterate through the 4 algorithms. Record the runtime using time.time()\n",
    "\n",
    "runtimes_a = []\n",
    "runtimes_b = []\n",
    "\n",
    "\n",
    "for est in [GEN, GEN_CGD, GEN_IP, GEN_ADMM]:\n",
    "    start_time = time.time()\n",
    "    est(25, 10, D_a).fit(X_a, y_a)  #l1 = 25, l2 = 10 is just a choice for simplicity\n",
    "    runtimes_a.append(time.time() - start_time)\n",
    "    \n",
    "    start_time = time.time()\n",
    "    est(25, 10, D_b).fit(X_b, y_b)   # repeat for (b)\n",
    "    runtimes_b.append(time.time() - start_time)"
   ]
  },
  {
   "cell_type": "markdown",
   "id": "c45933fd",
   "metadata": {},
   "source": [
    "#### We can visualize the runtimes by plotting:"
   ]
  },
  {
   "cell_type": "code",
   "execution_count": 9,
   "id": "ba93d307",
   "metadata": {},
   "outputs": [],
   "source": [
    "ps = [200, 400]\n",
    "ecos_time, cd_time, ip_time, admm_time = list(zip(runtimes_a, runtimes_b))\n"
   ]
  },
  {
   "cell_type": "code",
   "execution_count": 10,
   "id": "5b19ad4f",
   "metadata": {},
   "outputs": [
    {
     "data": {
      "text/plain": [
       "<matplotlib.legend.Legend at 0x273c715b310>"
      ]
     },
     "execution_count": 10,
     "metadata": {},
     "output_type": "execute_result"
    },
    {
     "data": {
      "image/png": "[encoded data removed]",
      "text/plain": [
       "<Figure size 432x288 with 1 Axes>"
      ]
     },
     "metadata": {
      "needs_background": "light"
     },
     "output_type": "display_data"
    }
   ],
   "source": [
    "plt.plot(ps,ecos_time, color = 'steelblue', marker = '.', label = 'ECOS')\n",
    "plt.plot(ps, admm_time, color = 'red', marker = '.', label = 'ADMM')\n",
    "plt.plot(ps, ip_time,  marker = '.',color = \"darkgreen\", label = 'IP')\n",
    "plt.plot(ps, cd_time , color = 'yellowgreen', marker = '.', label = 'CD')\n",
    "plt.ylabel('time [s]', size = 14)\n",
    "plt.xlabel('p', size = 14)\n",
    "plt.yscale('log')  ### log scale is used since some runtimes are much larger than others\n",
    "plt.xticks(size = 13)\n",
    "plt.yticks(size = 13)\n",
    "plt.legend(fontsize = 11)"
   ]
  },
  {
   "cell_type": "markdown",
   "id": "910621a3",
   "metadata": {},
   "source": [
    "#### 2. 2D grid graph\n",
    "- (a) $p = 15 \\times 15 = 225$\n",
    "- (b) $p = 19 \\times 19 = 361$\n",
    "- We are mostly repeating the procedures in 1., with slight modifications.\n",
    "- runtimes for the interior point (IP) method is not recorded here. Sometimes it is very slow. Partially because `IP` uses the dense incidence matrix `Gamma` for matrix multiplications, which is not optimized at all."
   ]
  },
  {
   "cell_type": "code",
   "execution_count": 39,
   "id": "f36bba32",
   "metadata": {},
   "outputs": [],
   "source": [
    "### construct signals\n",
    "beta_2d_a = smooth_2d(15,1, 7, 3, 5).flatten()\n",
    "beta_2d_b = smooth_2d(19,1.25, 8.75, 3.75, 5).flatten()\n",
    "\n",
    "\n",
    "### construct covariance matrices\n",
    "G_a =  nx.grid_graph(dim = (15,15)) ## first create graph objects\n",
    "G_b =  nx.grid_graph(dim = (19,19))\n",
    " \n",
    "Psi_a = cor_from_G(G_a, 0.5)  ## then use cor_from_G to output covariance matrices\n",
    "Psi_b = cor_from_G(G_b, 0.5)\n",
    "\n",
    "### generate data\n",
    "X_a, y_a = gauss_sample(n, 225, beta_2d_a, Psi_a, sigma, 3)\n",
    "X_b, y_b = gauss_sample(n, 361, beta_2d_b, Psi_b, sigma, 4)\n",
    "\n",
    "### construct the incidence matrices:\n",
    "D_a = grid_incidence(15)\n",
    "D_b = grid_incidence(19)\n"
   ]
  },
  {
   "cell_type": "code",
   "execution_count": 40,
   "id": "6058ea45",
   "metadata": {},
   "outputs": [],
   "source": [
    "### iterate through GEN, GEN_CGD, GEN_ADMM (GEN_IP is very slow sometimes). Record the runtime using time.time()\n",
    "\n",
    "runtimes_a = []\n",
    "runtimes_b = []\n",
    "\n",
    "\n",
    "for est in [GEN, GEN_CGD, GEN_ADMM]:\n",
    "    start_time = time.time()\n",
    "    est(25, 10, D_a).fit(X_a, y_a)  \n",
    "    runtimes_a.append(time.time() - start_time)\n",
    "    \n",
    "    start_time = time.time()\n",
    "    est(25, 10, D_b).fit(X_b, y_b)   # repeat for (b)\n",
    "    runtimes_b.append(time.time() - start_time)\n"
   ]
  },
  {
   "cell_type": "markdown",
   "id": "cf6d3da5",
   "metadata": {},
   "source": [
    "#### Again, we plot the results:"
   ]
  },
  {
   "cell_type": "code",
   "execution_count": 41,
   "id": "c0f3454b",
   "metadata": {},
   "outputs": [],
   "source": [
    "ps = [225, 361]\n",
    "ecos_time, cd_time, admm_time = list(zip(runtimes_a, runtimes_b))"
   ]
  },
  {
   "cell_type": "code",
   "execution_count": 42,
   "id": "b161ba59",
   "metadata": {},
   "outputs": [
    {
     "data": {
      "text/plain": [
       "<matplotlib.legend.Legend at 0x273c7242c10>"
      ]
     },
     "execution_count": 42,
     "metadata": {},
     "output_type": "execute_result"
    },
    {
     "data": {
      "image/png": "[encoded data removed]",
      "text/plain": [
       "<Figure size 432x288 with 1 Axes>"
      ]
     },
     "metadata": {
      "needs_background": "light"
     },
     "output_type": "display_data"
    }
   ],
   "source": [
    "plt.plot(ps,ecos_time, color = 'steelblue', marker = '.', label = 'ECOS')\n",
    "plt.plot(ps, admm_time, color = 'red', marker = '.', label = 'ADMM')\n",
    "plt.plot(ps, cd_time , color = 'yellowgreen', marker = '.', label = 'CD')\n",
    "plt.ylabel('time [s]', size = 14)\n",
    "plt.xlabel('p', size = 14)\n",
    "plt.yscale('log')  ### log scale is used since some runtimes are much larger than others\n",
    "plt.xticks(size = 13)\n",
    "plt.yticks(size = 13)\n",
    "plt.legend(fontsize = 11)"
   ]
  },
  {
   "cell_type": "markdown",
   "id": "590c5cce",
   "metadata": {},
   "source": [
    "#### Note that different choices of $\\lambda_1, \\lambda_2$ and signals can greatly influence the runtimes. \n",
    "- choices of tolerance, default $\\rho, \\alpha, \\gamma$ values for algorithms (as discussed before) may also make big difference.\n",
    "\n",
    "#### In general, CD scales better than other algorithms. "
   ]
  },
  {
   "cell_type": "code",
   "execution_count": null,
   "id": "44594e4b",
   "metadata": {},
   "outputs": [],
   "source": []
  }
 ],
 "metadata": {
  "kernelspec": {
   "display_name": "Python 3",
   "language": "python",
   "name": "python3"
  },
  "language_info": {
   "codemirror_mode": {
    "name": "ipython",
    "version": 3
   },
   "file_extension": ".py",
   "mimetype": "text/x-python",
   "name": "python",
   "nbconvert_exporter": "python",
   "pygments_lexer": "ipython3",
   "version": "3.8.8"
  }
 },
 "nbformat": 4,
 "nbformat_minor": 5
}
