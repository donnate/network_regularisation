{
 "cells": [
  {
   "cell_type": "code",
   "execution_count": 2,
   "id": "758102f1",
   "metadata": {},
   "outputs": [
    {
     "data": {
      "text/plain": [
       "'/Users/vvr/jupyter/network_regularisation_test/simulations'"
      ]
     },
     "execution_count": 2,
     "metadata": {},
     "output_type": "execute_result"
    }
   ],
   "source": [
    "pwd"
   ]
  },
  {
   "cell_type": "code",
   "execution_count": 4,
   "id": "45120215",
   "metadata": {},
   "outputs": [],
   "source": [
    "def cov_from_G(G, a): ### Covariance is inverse of L + a*I\n",
    "    L = nx.laplacian_matrix(G)\n",
    "    p = L.shape[0]\n",
    "    C = la.inv(L.todense() + a*np.identity(p))\n",
    "    return C"
   ]
  },
  {
   "cell_type": "code",
   "execution_count": 5,
   "id": "2fd1fa76",
   "metadata": {
    "scrolled": true
   },
   "outputs": [
    {
     "ename": "SyntaxError",
     "evalue": "invalid syntax (588137539.py, line 1)",
     "output_type": "error",
     "traceback": [
      "\u001b[0;36m  File \u001b[0;32m\"/var/folders/19/sxn1rm81105bg9w40cjxr_kc0000gn/T/ipykernel_22882/588137539.py\"\u001b[0;36m, line \u001b[0;32m1\u001b[0m\n\u001b[0;31m    from ../graph_utils import Cov_from_G\u001b[0m\n\u001b[0m           ^\u001b[0m\n\u001b[0;31mSyntaxError\u001b[0m\u001b[0;31m:\u001b[0m invalid syntax\n"
     ]
    }
   ],
   "source": [
    "from ../graph_utils import Cov_from_G\n"
   ]
  },
  {
   "cell_type": "code",
   "execution_count": 42,
   "id": "007659d4",
   "metadata": {},
   "outputs": [],
   "source": [
    "import matplotlib.pyplot as plt\n",
    "import examples\n",
    "import numpy as np\n",
    "import pywt\n",
    "from numpy import linalg as la\n",
    "import timeit\n",
    "from copy import deepcopy\n",
    "import networkx as nx\n",
    "import seaborn as sb\n",
    "\n",
    "def toeplitz_covariance(a, p):\n",
    "    return np.exp(-np.log(a) * np.abs(np.subtract.outer(range(p),\n",
    "                    range(p))))\n",
    "\n",
    "def gaussian_sample(n, p, beta_star, Psi, sigma, set_seed=1):\n",
    "    np.random.seed(set_seed)\n",
    "    print(beta_star.shape, Psi.shape)\n",
    "    X = np.random.multivariate_normal(mean = np.zeros(p),\n",
    "                                      cov=Psi, size=n)\n",
    "    y = X.dot(beta_star)+ sigma * np.random.normal(size=n)\n",
    "    return X, y\n",
    "\n",
    "\n",
    "import matplotlib.pyplot as plt\n",
    "import examples\n",
    "import numpy as np\n",
    "import pywt\n",
    "from numpy import linalg as la\n",
    "import timeit\n",
    "from copy import deepcopy\n",
    "import networkx as nx\n",
    "import seaborn as sb\n",
    "import matplotlib.pyplot as plt\n",
    "import networkx as nx\n",
    "import numpy as np\n",
    "import pywt\n",
    "import random\n",
    "import time\n",
    "\n",
    "\n",
    "\n",
    "\n",
    "class Example:\n",
    "    def __init__(self):\n",
    "        self.G = nx.Graph()\n",
    "        self.n_nodes = nx.number_of_nodes(self.G)\n",
    "        self.coordinates = None\n",
    "\n",
    "    def plot_signal(self):\n",
    "        plt.figure()\n",
    "        plt.plot(range(len(self.beta_star)), self.beta_star)\n",
    "        plt.show()\n",
    "\n",
    "    def draw_graph(self, node_size=1,\n",
    "                   axis=False):\n",
    "        fig, ax = plt.subplots()\n",
    "        if self.coordinates is None:\n",
    "\n",
    "            nx.draw(self.G, node_color=self.beta_star, cmap='Spectral', ax=ax)\n",
    "        else:\n",
    "            plt.figure()\n",
    "            nx.draw(self.G, pos = self.coordinates, node_color=self.beta_star,\n",
    "                    node_size = node_size,\n",
    "                    cmap='Spectral', ax =ax)\n",
    "        if axis:\n",
    "            ax.tick_params(left=True, bottom=True, labelleft=True, labelbottom=True)\n",
    "        plt.show()\n",
    "\n",
    "    def plot_adjacency(self):\n",
    "        return\n",
    "\n",
    "\n",
    "class Smooth2D(Example):\n",
    "    def __init__(self, side_len: int=30, disk_radi: float =3.,\n",
    "                 period: float=3., height: float=4., start_value: float=2):\n",
    "        if side_len % 2 == 0:\n",
    "            left_end = -(side_len//2) + 1\n",
    "        else:\n",
    "            left_end = -(side_len//2)\n",
    "        x, y = np.meshgrid(np.linspace(left_end, side_len//2, side_len),\n",
    "                           np.linspace(left_end, side_len//2, side_len))\n",
    "        ds = np.sqrt(x**2 + y**2)\n",
    "        ds = pywt.threshold(ds, disk_radi, 'soft')\n",
    "        ds[abs(ds) > period] = -period\n",
    "        ds = np.array([x + period/2 for x in ds])\n",
    "        part = np.sin(np.pi*ds/period)\n",
    "        self.beta_star = np.array([height/2 * x + start_value + height/2 for x in part]).flatten()\n",
    "        self.G = nx.grid_graph(dim=((len(x), len(y))))\n",
    "        self.incidence = np.asarray(nx.incidence_matrix(self.G, oriented=True).T.todense())\n",
    "        self.coordinates = {k : n for k, n in enumerate(self.G.nodes)}\n",
    "\n",
    "    def plot_3d():\n",
    "        return\n",
    "\n",
    "from sklearn.cluster import SpectralClustering\n",
    "\n",
    "class GeneralGraph(Example):\n",
    "    def __init__(self,G, start_value: float=0., height: float=1.,\n",
    "                nb_clusters=2, sigma_gen=0.3, signal_type =\"tree\"):\n",
    "        self.G = G\n",
    "        self.coordinates = None\n",
    "        self.n_nodes = nx.number_of_nodes(self.G)\n",
    "        self.incidence = np.asarray(nx.incidence_matrix(self.G, oriented=True).T.todense())\n",
    "        self.beta_star = np.zeros(self.n_nodes)\n",
    "        #### Define what kind of signal we want\n",
    "        if signal_type == \"piecewise_cnst\":\n",
    "            ### Cluster the nodes\n",
    "            ### decrease sigma_gen for more smoothness\n",
    "            clustering = SpectralClustering(n_clusters=nb_clusters, assign_labels='discretize',random_state=0,\n",
    "                                           affinity='precomputed').fit(nx.adjacency_matrix(G))\n",
    "            for i in np.unique(clustering.labels_):\n",
    "                mu = np.random.normal(loc=np.random.normal(loc=0.0, scale=sigma_gen))\n",
    "                self.beta_star[np.where(clustering.labels_ == i)] = mu\n",
    "                print([i, mu])\n",
    "        else:\n",
    "            ### Find MST\n",
    "            T = nx.minimum_spanning_tree(G)\n",
    "            edges_T = nx.incidence_matrix(T)\n",
    "            #### generate edges differences:\n",
    "            edges_diff = np.random.normal(loc=0, scale=sigma_gen, size=edges_T.shape[1])\n",
    "            self.beta_star = np.linalg.pinv(edges_T.todense()).T.dot(edges_diff)\n",
    "        self.incidence = np.asarray(nx.incidence_matrix(self.G, oriented=True).T.todense())"
   ]
  },
  {
   "cell_type": "markdown",
   "id": "4993856f",
   "metadata": {},
   "source": [
    "had to delete oriented argument in adjacency matrix (not a thing..?)"
   ]
  },
  {
   "cell_type": "code",
   "execution_count": 7,
   "id": "53bd6273",
   "metadata": {},
   "outputs": [
    {
     "name": "stderr",
     "output_type": "stream",
     "text": [
      "/var/folders/19/sxn1rm81105bg9w40cjxr_kc0000gn/T/ipykernel_22882/2213382032.py:94: FutureWarning: incidence_matrix will return a scipy.sparse array instead of a matrix in Networkx 3.0.\n",
      "  self.incidence = np.asarray(nx.incidence_matrix(self.G, oriented=True).T.todense())\n",
      "/var/folders/19/sxn1rm81105bg9w40cjxr_kc0000gn/T/ipykernel_22882/2213382032.py:107: FutureWarning: incidence_matrix will return a scipy.sparse array instead of a matrix in Networkx 3.0.\n",
      "  edges_T = nx.incidence_matrix(T)\n",
      "/var/folders/19/sxn1rm81105bg9w40cjxr_kc0000gn/T/ipykernel_22882/2213382032.py:111: FutureWarning: incidence_matrix will return a scipy.sparse array instead of a matrix in Networkx 3.0.\n",
      "  self.incidence = np.asarray(nx.incidence_matrix(self.G, oriented=True).T.todense())\n"
     ]
    },
    {
     "data": {
      "text/plain": [
       "[<matplotlib.lines.Line2D at 0x109259c30>]"
      ]
     },
     "execution_count": 7,
     "metadata": {},
     "output_type": "execute_result"
    },
    {
     "data": {
      "image/png": "[encoded data removed]",
      "text/plain": [
       "<Figure size 432x288 with 1 Axes>"
      ]
     },
     "metadata": {
      "needs_background": "light"
     },
     "output_type": "display_data"
    }
   ],
   "source": [
    "n = 70\n",
    "p = 1\n",
    "m1 = 30\n",
    "m2 = 6\n",
    "m = 55\n",
    "G = nx.powerlaw_cluster_graph(n, m, p)\n",
    "\n",
    "test = GeneralGraph(G, 10, 20)\n",
    "\n",
    "test.n_nodes\n",
    "\n",
    "plt.plot(test.beta_star)"
   ]
  },
  {
   "cell_type": "code",
   "execution_count": 28,
   "id": "cbf4a9c0",
   "metadata": {},
   "outputs": [],
   "source": [
    "y = examples.Example()"
   ]
  },
  {
   "cell_type": "code",
   "execution_count": 29,
   "id": "6e959c83",
   "metadata": {},
   "outputs": [
    {
     "name": "stderr",
     "output_type": "stream",
     "text": [
      "/Users/vvr/jupyter/network_regularisation_test/simulations/examples.py:55: FutureWarning: incidence_matrix will return a scipy.sparse array instead of a matrix in Networkx 3.0.\n",
      "  self.incidence = np.asarray(nx.incidence_matrix(self.G, oriented=True).T.todense())\n"
     ]
    }
   ],
   "source": [
    "stairs = examples.SmoothStair()"
   ]
  },
  {
   "cell_type": "code",
   "execution_count": 30,
   "id": "3f111d28",
   "metadata": {},
   "outputs": [
    {
     "name": "stderr",
     "output_type": "stream",
     "text": [
      "/Users/vvr/jupyter/network_regularisation_test/simulations/examples.py:65: FutureWarning: incidence_matrix will return a scipy.sparse array instead of a matrix in Networkx 3.0.\n",
      "  self.incidence = np.asarray(nx.incidence_matrix(self.G, oriented=True).T.todense())\n",
      "/Users/vvr/jupyter/network_regularisation_test/simulations/examples.py:68: FutureWarning: incidence_matrix will return a scipy.sparse array instead of a matrix in Networkx 3.0.\n",
      "  self.incidence = np.asarray(nx.incidence_matrix(self.G, oriented=True).T.todense())\n"
     ]
    }
   ],
   "source": [
    "barbell = examples.BarbellGraph(length_chain = 20, size_clique = 2)"
   ]
  },
  {
   "cell_type": "code",
   "execution_count": 18,
   "id": "15913d18",
   "metadata": {},
   "outputs": [],
   "source": [
    "def project_op(vector, param): \n",
    "    vector[vector > param] = param\n",
    "    vector[vector < -param] = -param\n",
    "    return vector"
   ]
  },
  {
   "cell_type": "code",
   "execution_count": 32,
   "id": "ec25205f",
   "metadata": {},
   "outputs": [],
   "source": [
    "c = np.array([-2, 3, 5, -1, -10, 24, 8, 4])"
   ]
  },
  {
   "cell_type": "code",
   "execution_count": 33,
   "id": "7221cc30",
   "metadata": {},
   "outputs": [
    {
     "data": {
      "text/plain": [
       "5"
      ]
     },
     "execution_count": 33,
     "metadata": {},
     "output_type": "execute_result"
    }
   ],
   "source": [
    "np.argmax(np.abs(c))"
   ]
  },
  {
   "cell_type": "code",
   "execution_count": 87,
   "id": "67e5f89b",
   "metadata": {},
   "outputs": [],
   "source": [
    "def cgd_solver_greedy(X, y, Gamma, lambda1, lambda2, eps = 1e-5, max_it = 50000):\n",
    "    start_time = timeit.default_timer()\n",
    "    m, p = Gamma.shape\n",
    "    X_til, y_til = np.vstack((X, np.sqrt(2*lambda2) * Gamma)), np.concatenate((y, np.zeros(m)))\n",
    "    X_til_pinv = la.pinv(X_til)\n",
    "\n",
    "    y_v = X_til @ X_til_pinv @ y_til\n",
    "    Gamma_v = Gamma @ X_til_pinv\n",
    "\n",
    "    Q = Gamma_v @ Gamma_v.T\n",
    "    b = Gamma_v @ y_v\n",
    "\n",
    "    u = np.zeros(m)\n",
    "    n_iter = 0\n",
    "    comps = 0\n",
    "    #print(m)\n",
    "    prev_u = 1 # For stopping criteria\n",
    "    gradient = -np.copy(Q.dot(np.ones(b.shape[0])-b))\n",
    "    \n",
    "    print(timeit.default_timer() - start_time)\n",
    "    print(\"proj gradient\", gradient)\n",
    "    \n",
    "    while True:\n",
    "        n_iter += 1\n",
    "        if n_iter >= max_it:\n",
    "            #raise ValueError(\"Iterations exceed max_it\")\n",
    "            print(\"Iterations exceed max_it\")\n",
    "            return X_til_pinv @ (y_v - Gamma_v.T @ u), n_iter, comps\n",
    "        #projected_gradient = u - project_op(u - gradient, lambda1)\n",
    "        projected_gradient = project_op(u - gradient, lambda1)\n",
    "        greedy_coord = np.argmax(np.abs(projected_gradient))\n",
    "        i = greedy_coord\n",
    "        delta = min(max(u[i] - ((1/Q[i,i]) * -gradient[i]), -lambda1), lambda1) - u[i]\n",
    "        gradient += delta *Q[i]\n",
    "        u[i] += delta\n",
    "        \n",
    "        #add back well conditioned block...? \n",
    "        print( \"i is \" + str(i))\n",
    "        print(delta)\n",
    "\n",
    "        #u[i] = np.sign(t) * min(np.abs(t), lambda1)   #there should be better truncation methods\n",
    "        if (la.norm(u - prev_u) <= eps) & (n_iter>10):\n",
    "            print(\"break reason 1\")\n",
    "            break\n",
    "        \n",
    "#         print(gradient)\n",
    "#         if la.norm(gradient) <= eps:\n",
    "#             print(\"break reason gradient\")\n",
    "#             break\n",
    "\n",
    "        prev_u = np.copy(u)   # Recall array is similar to list\n",
    "        \n",
    "\n",
    "    beta = X_til_pinv @ (y_v - Gamma_v.T @ u)\n",
    "    return beta, n_iter, comps"
   ]
  },
  {
   "cell_type": "code",
   "execution_count": null,
   "id": "fbc1ae54",
   "metadata": {},
   "outputs": [],
   "source": []
  },
  {
   "cell_type": "code",
   "execution_count": 9,
   "id": "98f27e33",
   "metadata": {},
   "outputs": [
    {
     "data": {
      "text/plain": [
       "array([[0.59791556, 0.84806572, 0.68208358],\n",
       "       [0.84806572, 0.75796541, 0.52797368],\n",
       "       [0.68208358, 0.52797368, 0.88655349]])"
      ]
     },
     "execution_count": 9,
     "metadata": {},
     "output_type": "execute_result"
    }
   ],
   "source": [
    "test_probs = np.random.rand(3, 3)\n",
    "test_probs = (test_probs + test_probs.T)/2\n",
    "test_probs "
   ]
  },
  {
   "cell_type": "code",
   "execution_count": 10,
   "id": "3cb97d80",
   "metadata": {},
   "outputs": [
    {
     "data": {
      "text/plain": [
       "array([[0.59791556, 0.84806572, 0.68208358],\n",
       "       [0.84806572, 0.75796541, 0.52797368],\n",
       "       [0.68208358, 0.52797368, 0.88655349]])"
      ]
     },
     "execution_count": 10,
     "metadata": {},
     "output_type": "execute_result"
    }
   ],
   "source": [
    "test_probs"
   ]
  },
  {
   "cell_type": "code",
   "execution_count": 58,
   "id": "04c91f6d",
   "metadata": {},
   "outputs": [
    {
     "name": "stderr",
     "output_type": "stream",
     "text": [
      "/var/folders/19/sxn1rm81105bg9w40cjxr_kc0000gn/T/ipykernel_22882/1547666199.py:94: FutureWarning: incidence_matrix will return a scipy.sparse array instead of a matrix in Networkx 3.0.\n",
      "  self.incidence = np.asarray(nx.incidence_matrix(self.G, oriented=True).T.todense())\n",
      "/var/folders/19/sxn1rm81105bg9w40cjxr_kc0000gn/T/ipykernel_22882/1547666199.py:109: FutureWarning: incidence_matrix will return a scipy.sparse array instead of a matrix in Networkx 3.0.\n",
      "  edges_T = nx.incidence_matrix(T)\n",
      "/var/folders/19/sxn1rm81105bg9w40cjxr_kc0000gn/T/ipykernel_22882/1547666199.py:113: FutureWarning: incidence_matrix will return a scipy.sparse array instead of a matrix in Networkx 3.0.\n",
      "  self.incidence = np.asarray(nx.incidence_matrix(self.G, oriented=True).T.todense())\n"
     ]
    }
   ],
   "source": [
    "n = 200\n",
    "p = 0.8\n",
    "m1 = 30\n",
    "m2 = 6\n",
    "m = 120\n",
    "sizes = [55, 78, 88]\n",
    "probs = [[0.25, 0.05, 0.02], [0.05, 0.35, 0.07], [0.02, 0.07, 0.40]]\n",
    "G = nx.stochastic_block_model(sizes, probs)\n",
    "#(self,G, length_chain, size_clique, start_value: float=0., height: float=1.,\n",
    " # nb_clusters=2, sigma_gen=0.3, signal_type =\"tree\")\n",
    "power = GeneralGraph(G,  nb_clusters=3)\n",
    "\n",
    "#test.n_nodes\n",
    "\n",
    "#plt.plot(test.beta_star)"
   ]
  },
  {
   "cell_type": "code",
   "execution_count": 59,
   "id": "ef249433",
   "metadata": {},
   "outputs": [
    {
     "data": {
      "text/plain": [
       "array([ 0.4060138 , -0.03847042,  0.01696475,  0.11992147, -0.61872328,\n",
       "        0.08675176, -0.00526553, -0.36209202,  0.16709099, -0.08888137,\n",
       "       -0.68027137,  0.29776363,  0.02856152, -0.33098999,  0.30304378,\n",
       "       -0.17692082, -0.72488462,  0.42189055, -0.8402129 , -0.12680091,\n",
       "       -0.55356168, -0.45988836,  0.40696841, -0.03412397, -0.42699161,\n",
       "        0.121954  ,  0.56674464, -0.46324074,  0.31898589,  0.14508758,\n",
       "       -0.71493559, -0.5812574 ,  0.27432632, -0.55367974, -0.78585426,\n",
       "        0.13148405, -0.18920653,  0.44702212, -0.86515636,  0.42478371,\n",
       "       -0.5819563 , -0.45101928, -0.44698255, -0.1166293 , -0.03431498,\n",
       "       -0.21011864, -0.1710469 , -0.93513094,  0.04763073,  0.03868971,\n",
       "       -0.2030867 ,  0.36428275,  0.02765188, -0.1251242 ,  0.09399128,\n",
       "       -0.17424072,  1.17000779,  0.66223327,  0.52398317, -0.02311761,\n",
       "        0.89300659, -0.56201922, -0.19839405, -0.12706717,  0.01113437,\n",
       "        0.99622421,  0.22268923, -0.15339039, -0.32323517,  0.62406967,\n",
       "        0.86495752,  0.28324938, -0.02956399, -0.57715069,  0.21905815,\n",
       "        0.16269728,  0.63376038, -0.12544983,  0.21216876,  0.75734212,\n",
       "       -0.44612917,  0.12373387,  0.76905061, -0.1847402 ,  0.73659211,\n",
       "        0.31129401,  0.28853123, -0.42355918, -0.46722177,  0.56529764,\n",
       "       -0.5016555 ,  0.79304596, -0.66058057,  0.82213803,  0.51668434,\n",
       "        0.09711415, -0.17654912, -0.67267545, -0.0871728 ,  0.64450822,\n",
       "        1.21611123,  0.13836726, -0.06249039,  0.56739447, -0.95802688,\n",
       "       -0.38245922,  0.32830428, -0.35743821,  0.55425933,  0.07535576,\n",
       "       -0.08994017,  0.87951263,  0.87612384, -0.13968287,  0.37566139,\n",
       "        1.02969975,  0.4171188 , -0.1634678 , -0.10849551,  0.18641769,\n",
       "        0.40548064,  0.83236187,  0.49288118,  0.36656682,  0.14764004,\n",
       "       -0.04579937,  0.38332876, -0.07830021,  0.48004051,  0.34004534,\n",
       "       -0.46455316,  0.32001393, -0.06139151, -0.5952713 , -0.41707255,\n",
       "        1.09598269, -0.29761866,  0.20146601,  0.94603503, -0.6979782 ,\n",
       "        0.18770529,  0.88108644,  0.12520067,  0.03433161,  0.53459822,\n",
       "       -0.46796896,  0.54660735, -1.05548936,  0.16816798,  0.075711  ,\n",
       "        0.64316732, -0.59396305,  0.63413261,  0.59629296, -0.53692491,\n",
       "       -0.60970247,  0.4722102 , -0.06489482, -0.49229221,  0.47045025,\n",
       "        0.31700466,  1.06491922,  0.0499913 , -0.6217501 ,  0.25569449,\n",
       "        0.08751903, -0.34951991, -0.25324963, -0.77831323, -0.25088682,\n",
       "       -0.944412  ,  0.0736799 ,  0.61671301,  0.5920997 , -0.13547462,\n",
       "       -0.97900433,  0.33382663, -0.03320519, -0.29400533, -0.42804799,\n",
       "       -0.25310428, -0.15061577,  0.36268287, -0.20287234,  0.15144916,\n",
       "       -0.66213001, -0.26782371, -0.45866065, -1.06234025, -0.00178922,\n",
       "        0.97917899,  0.36712369, -1.05958642,  1.10135076,  0.26760938,\n",
       "       -0.50273704,  0.73509525,  0.23626489, -0.42411239, -0.13306107,\n",
       "       -0.10029678, -0.03827754, -1.14148074, -0.01959466, -0.26860446,\n",
       "        0.5963042 ,  0.91735246, -0.42446924, -0.78930998,  0.47748165,\n",
       "        0.36288722,  0.02495193, -0.18530624, -0.28263329, -0.45329849,\n",
       "        0.35693149, -0.58599408, -0.12371471,  0.16829727, -0.10443974,\n",
       "       -0.45018397])"
      ]
     },
     "execution_count": 59,
     "metadata": {},
     "output_type": "execute_result"
    }
   ],
   "source": [
    "power.beta_star"
   ]
  },
  {
   "cell_type": "code",
   "execution_count": 88,
   "id": "21e3d20f",
   "metadata": {},
   "outputs": [
    {
     "name": "stderr",
     "output_type": "stream",
     "text": [
      "<class 'networkx.utils.decorators.argmap'> compilation 16:4: FutureWarning: laplacian_matrix will return a scipy.sparse array instead of a matrix in Networkx 3.0.\n"
     ]
    },
    {
     "name": "stdout",
     "output_type": "stream",
     "text": [
      "(221,) (221, 221)\n",
      "1.1644996470131446\n",
      "proj gradient [-0.05971997 -0.10849014 -0.19321877 ...  0.08883616  0.06590918\n",
      " -0.04208647]\n",
      "i is 0\n",
      "-1e-07\n",
      "i is 0\n",
      "0.0\n",
      "i is 0\n",
      "0.0\n",
      "i is 0\n",
      "0.0\n",
      "i is 0\n",
      "0.0\n",
      "i is 0\n",
      "0.0\n",
      "i is 0\n",
      "0.0\n",
      "i is 0\n",
      "0.0\n",
      "i is 0\n",
      "0.0\n",
      "i is 0\n",
      "0.0\n",
      "i is 0\n",
      "0.0\n",
      "break reason 1\n",
      "duration parallel cgd: 1.2260014690109529\n",
      "iters parallel cgd: 11\n",
      "update_loops parallel cgd: 0\n",
      "beta_normal [ 2.19689047e-01 -9.12614100e-02 -4.43529575e-02  5.83995067e-02\n",
      " -4.00381552e-01 -5.31311744e-02  3.69652728e-03 -2.73469392e-01\n",
      " -2.16603287e-02  8.21050563e-03 -5.12374573e-01  1.60201001e-01\n",
      " -5.83009919e-02 -1.74877744e-01  2.14950013e-01 -1.29374001e-01\n",
      " -4.86384312e-01  3.29540227e-01 -6.90307873e-01 -1.48677945e-01\n",
      " -3.75178709e-01 -3.30095993e-01  3.20989477e-01 -3.63658621e-02\n",
      " -3.40167846e-01  1.19920924e-01  4.24871670e-01 -3.35930902e-01\n",
      "  1.76626921e-01  5.58861052e-02 -5.87286848e-01 -5.09641835e-01\n",
      "  2.30094835e-01 -4.40736243e-01 -7.07304247e-01  1.11491345e-01\n",
      " -1.52813138e-01  2.60544552e-01 -6.87825030e-01  3.47999263e-01\n",
      " -4.42517776e-01 -3.77482566e-01 -2.85692483e-01 -3.92147536e-02\n",
      " -3.82734706e-02 -1.48677945e-01 -1.77333823e-01 -7.65122230e-01\n",
      " -2.22105048e-02 -1.52571483e-02 -9.50656616e-02  2.71337765e-01\n",
      "  9.62358461e-03 -2.22105043e-02 -1.57546998e-02  6.25486297e-03\n",
      "  8.04521986e-01  3.63349572e-01  2.40695396e-01  9.48983273e-02\n",
      "  4.54008959e-01 -1.06702609e-01  1.22577613e-02  1.17913128e-01\n",
      "  1.02393640e-01  5.27936735e-01  1.31410931e-01 -3.39698037e-02\n",
      " -9.39184022e-02  4.46203301e-01  5.06614315e-01  1.17913128e-01\n",
      " -1.87988653e-02 -1.06702610e-01  2.03100396e-01  2.03100396e-01\n",
      "  4.05949347e-01  1.66751546e-02  2.40695396e-01  4.49451918e-01\n",
      " -6.80570399e-02  1.20071964e-01  5.06614315e-01 -1.87988559e-02\n",
      "  3.99098521e-01  2.40695397e-01  2.88861257e-01 -1.74399882e-01\n",
      " -1.91233822e-01  3.45651620e-01 -1.81667086e-01  4.27424546e-01\n",
      " -2.76298841e-01  5.36982584e-01  3.13864052e-01  1.19653701e-01\n",
      " -1.45037502e-02 -3.68811157e-01 -1.87988563e-02  3.10471175e-01\n",
      "  9.17765851e-01  7.32958401e-02  1.22577614e-02  2.03100396e-01\n",
      " -2.85692483e-01 -7.23008369e-02  2.40695397e-01 -6.80570405e-02\n",
      "  2.79989281e-01  2.03100396e-01 -3.41159220e-03  4.75722123e-01\n",
      "  5.17563490e-01 -1.87988646e-02  2.40695397e-01  5.67005900e-01\n",
      "  3.00817767e-01 -1.87988643e-02 -4.22480359e-03  1.14847412e-01\n",
      "  2.03100397e-01  5.17563490e-01  3.18550278e-01  1.38220508e-01\n",
      "  6.16243101e-02  5.00758535e-02  2.40695397e-01  8.60272158e-03\n",
      "  2.40695397e-01  2.40695397e-01 -7.23008366e-02  2.03100396e-01\n",
      "  1.17913128e-01 -1.53808295e-01 -1.17994176e-01  3.98277578e-01\n",
      " -8.42911916e-04  8.82225536e-02  4.60256717e-01 -3.06732421e-01\n",
      "  1.66751887e-02  2.56003418e-01  6.25486256e-03  6.25486324e-03\n",
      "  1.48960230e-01 -1.64337010e-01  3.29989999e-01 -3.65045714e-01\n",
      "  1.66751669e-02 -6.77740670e-02  1.35756559e-01 -1.64337012e-01\n",
      "  1.48273608e-01  2.03971371e-01 -2.05714072e-01 -2.05714072e-01\n",
      "  6.14628679e-02 -1.88374285e-02 -1.64337011e-01  1.62177634e-01\n",
      "  9.48983274e-02  4.59712614e-01 -5.74118785e-03 -1.69775660e-01\n",
      "  6.50868268e-02  1.66751776e-02 -1.13417447e-01 -4.34176550e-02\n",
      " -3.65045713e-01 -8.42913165e-04 -4.26775846e-01  1.66751832e-02\n",
      "  3.18550278e-01  6.50868267e-02 -2.16603287e-02 -3.58822577e-01\n",
      "  6.14628676e-02 -8.42913346e-04 -1.01998066e-01 -1.53808295e-01\n",
      " -7.61833558e-02 -9.98767448e-02  2.93099394e-02 -9.10163974e-02\n",
      " -2.16603286e-02 -2.57565956e-01 -1.96991871e-01 -1.95808265e-01\n",
      " -4.48897162e-01 -2.29770465e-02  5.03100624e-01  6.50868268e-02\n",
      " -4.45909603e-01  4.59712614e-01  6.50868268e-02 -1.76748480e-01\n",
      "  2.51275238e-01  1.66751607e-02 -1.13417447e-01 -5.63840379e-02\n",
      "  1.66751718e-02 -1.88374284e-02 -4.26775845e-01 -1.57466633e-02\n",
      " -1.13417447e-01  2.87763359e-01  3.09453856e-01 -9.92928158e-02\n",
      " -4.26775845e-01  6.50868265e-02  2.16621904e-02  6.25486292e-03\n",
      "  6.25486252e-03 -6.77740672e-02 -1.64337013e-01  1.08386540e-01\n",
      " -1.76765211e-01  1.66751718e-02  5.71204337e-02 -2.29770463e-02\n",
      " -1.53808295e-01]\n",
      "beta_parallel [ 4.17078551e-01 -4.07887384e-02  5.52114287e-03  1.19076327e-01\n",
      " -6.17622197e-01  8.87000844e-02 -3.74453278e-03 -3.57066977e-01\n",
      "  1.66417870e-01 -7.77940969e-02 -6.78259424e-01  2.92021823e-01\n",
      "  2.42872875e-02 -3.18428497e-01  3.04410318e-01 -1.69721799e-01\n",
      " -7.14138752e-01  4.18271212e-01 -8.50044649e-01 -1.31327263e-01\n",
      " -5.45975439e-01 -4.64143143e-01  4.11624947e-01 -3.06251746e-02\n",
      " -4.21861392e-01  1.22387277e-01  5.53833874e-01 -4.60628829e-01\n",
      "  3.23499952e-01  1.42518500e-01 -7.28305044e-01 -5.85914731e-01\n",
      "  2.66648447e-01 -5.60221553e-01 -7.91461878e-01  1.25094510e-01\n",
      " -1.82200240e-01  4.48614483e-01 -8.62440593e-01  4.35877486e-01\n",
      " -5.80162747e-01 -4.52671524e-01 -4.44071294e-01 -1.14292117e-01\n",
      " -3.03150774e-02 -2.22501104e-01 -1.67665244e-01 -9.41257722e-01\n",
      "  4.06756283e-02  4.72915750e-02 -2.00623881e-01  3.58300681e-01\n",
      "  3.43231696e-02 -1.19501196e-01  9.03319970e-02 -1.79337563e-01\n",
      "  1.16170776e+00  6.53253420e-01  5.15477481e-01 -3.14903393e-02\n",
      "  9.00526888e-01 -5.58016462e-01 -1.93994109e-01 -1.27186533e-01\n",
      " -4.30560059e-04  1.00046765e+00  2.22044350e-01 -1.65399494e-01\n",
      " -3.25586642e-01  6.10994962e-01  8.62000930e-01  2.61470605e-01\n",
      " -2.68581359e-02 -5.68170503e-01  2.27182543e-01  1.78170893e-01\n",
      "  6.28958598e-01 -1.38214210e-01  2.12502183e-01  7.58541656e-01\n",
      " -4.52723080e-01  1.29863990e-01  7.74770078e-01 -1.87199096e-01\n",
      "  7.52940030e-01  3.10017494e-01  2.90275366e-01 -4.28617934e-01\n",
      " -4.68118466e-01  5.59868281e-01 -4.96058633e-01  8.00008132e-01\n",
      " -6.56282639e-01  8.39102377e-01  5.09525367e-01  1.06773055e-01\n",
      " -1.81696393e-01 -6.84396695e-01 -7.01667365e-02  6.58812298e-01\n",
      "  1.22448792e+00  1.35413685e-01 -6.91566260e-02  5.53190375e-01\n",
      " -9.51568052e-01 -3.83455273e-01  3.35866022e-01 -3.65995544e-01\n",
      "  5.42496970e-01  8.68616628e-02 -9.74516672e-02  8.71272577e-01\n",
      "  8.77622859e-01 -1.23909928e-01  3.67002504e-01  1.02606579e+00\n",
      "  4.12060947e-01 -1.78541825e-01 -9.80199674e-02  1.91475229e-01\n",
      "  4.04390262e-01  8.48387848e-01  4.95260507e-01  3.78101281e-01\n",
      "  1.50009320e-01 -4.73121848e-02  3.76030583e-01 -6.80711845e-02\n",
      "  4.77526195e-01  3.15588233e-01 -4.65447955e-01  3.21296027e-01\n",
      " -6.39263269e-02 -5.97929937e-01 -4.12136242e-01  1.09749553e+00\n",
      " -2.87131234e-01  2.07113070e-01  9.47043321e-01 -7.02726296e-01\n",
      "  1.93301676e-01  8.89703852e-01  1.18081873e-01  2.31871482e-02\n",
      "  5.47064634e-01 -4.61227581e-01  5.43181740e-01 -1.04054545e+00\n",
      "  1.71085894e-01  8.20761120e-02  6.43758858e-01 -6.04452946e-01\n",
      "  6.28830790e-01  6.00733069e-01 -5.30099410e-01 -5.94861091e-01\n",
      "  4.50049101e-01 -5.88410105e-02 -4.96870091e-01  4.74987097e-01\n",
      "  3.20229866e-01  1.06094626e+00  3.74208379e-02 -6.11597566e-01\n",
      "  2.59129234e-01  9.59071148e-02 -3.42767447e-01 -2.55904643e-01\n",
      " -7.82984689e-01 -2.41580685e-01 -9.49373870e-01  7.23483533e-02\n",
      "  6.12803372e-01  5.94086343e-01 -1.29956812e-01 -9.78258608e-01\n",
      "  3.42367658e-01 -3.20964726e-02 -2.81796972e-01 -4.15847799e-01\n",
      " -2.63685851e-01 -1.64227886e-01  3.63983514e-01 -2.07780098e-01\n",
      "  1.49881693e-01 -6.78707292e-01 -2.68027379e-01 -4.63797602e-01\n",
      " -1.06604088e+00 -1.79505801e-02  9.81392697e-01  3.74935136e-01\n",
      " -1.06606188e+00  1.08814353e+00  2.57625103e-01 -4.97047063e-01\n",
      "  7.36341407e-01  2.40560800e-01 -4.11069123e-01 -1.39143110e-01\n",
      " -7.93361188e-02 -3.49980966e-02 -1.14428600e+00 -2.94516354e-02\n",
      " -2.68571750e-01  6.08258787e-01  9.12085072e-01 -4.43309401e-01\n",
      " -7.86554758e-01  4.76892082e-01  3.68277470e-01  1.59975409e-02\n",
      " -1.72322516e-01 -2.74363871e-01 -4.43699827e-01  3.51138167e-01\n",
      " -5.96363978e-01 -1.13571929e-01  1.53997148e-01 -9.82268192e-02\n",
      " -4.63238375e-01]\n",
      "normed diff normal 0.27361342996003046\n",
      "normed diff parallel 0.00833620125250032\n"
     ]
    },
    {
     "data": {
      "text/plain": [
       "<matplotlib.legend.Legend at 0x1427ac040>"
      ]
     },
     "execution_count": 88,
     "metadata": {},
     "output_type": "execute_result"
    },
    {
     "data": {
      "image/png": "[encoded data removed]",
      "text/plain": [
       "<Figure size 432x288 with 1 Axes>"
      ]
     },
     "metadata": {
      "needs_background": "light"
     },
     "output_type": "display_data"
    }
   ],
   "source": [
    "X, y = gaussian_sample(5000, power.n_nodes, beta_star = power.beta_star, Psi = cov_from_G(power.G, 0.1), sigma = 0.1)\n",
    "\n",
    "# #X, y = gaussian_sample(10000, barbell.n_nodes, beta_star = barbell.beta_star, Psi = np.eye(barbell.n_nodes), sigma = 2)\n",
    "# start_time = timeit.default_timer()\n",
    "# beta, iters, comps = cgd_solver(X, y, power.incidence, lambda1 = 1, lambda2 = 1)\n",
    "# end_time = timeit.default_timer()\n",
    "# duration = end_time - start_time\n",
    "# print(\"duration normal cgd:\", duration)\n",
    "# print(\"iters normal cgd:\", iters)\n",
    "# print(\"computations?\", comps)\n",
    "\n",
    "\n",
    "start_time = timeit.default_timer()\n",
    "beta_parallel, iters, update_loops = cgd_solver_greedy(X, y, power.incidence, lambda1 = 0.0000001, lambda2 = 0, eps = 1e-9)\n",
    "end_time = timeit.default_timer()\n",
    "duration = end_time - start_time\n",
    "print(\"duration parallel cgd:\", duration)\n",
    "print(\"iters parallel cgd:\", iters)\n",
    "print(\"update_loops parallel cgd:\", update_loops)\n",
    "\n",
    "print(\"beta_normal\", beta)\n",
    "print(\"beta_parallel\", beta_parallel)\n",
    "print(\"normed diff normal\", la.norm(beta - power.beta_star)/np.sqrt(len(beta)))\n",
    "print(\"normed diff parallel\", la.norm(beta_parallel - power.beta_star)/np.sqrt(len(beta_parallel)))\n",
    "\n",
    "\n",
    "plt.plot(power.beta_star, label = 'true')\n",
    "plt.plot(beta, label = 'beta')\n",
    "plt.plot(beta_parallel, label = 'beta_terrible')\n",
    "\n",
    "plt.legend()\n",
    "\n",
    "#print(np.max(la.norm(beta - barbell.beta_star)), np.max(la.norm(beta_parallel - barbell.beta_star)))\n"
   ]
  },
  {
   "cell_type": "code",
   "execution_count": 81,
   "id": "03e2f1e1",
   "metadata": {},
   "outputs": [
    {
     "data": {
      "text/plain": [
       "array([ 4.17078552e-01, -4.07887384e-02,  5.52114288e-03,  1.19076326e-01,\n",
       "       -6.17622197e-01,  8.87000845e-02, -3.74453280e-03, -3.57066977e-01,\n",
       "        1.66417870e-01, -7.77940969e-02, -6.78259424e-01,  2.92021823e-01,\n",
       "        2.42872876e-02, -3.18428497e-01,  3.04410318e-01, -1.69721799e-01,\n",
       "       -7.14138752e-01,  4.18271212e-01, -8.50044649e-01, -1.31327263e-01,\n",
       "       -5.45975439e-01, -4.64143143e-01,  4.11624947e-01, -3.06251746e-02,\n",
       "       -4.21861392e-01,  1.22387277e-01,  5.53833874e-01, -4.60628829e-01,\n",
       "        3.23499952e-01,  1.42518500e-01, -7.28305044e-01, -5.85914731e-01,\n",
       "        2.66648447e-01, -5.60221553e-01, -7.91461878e-01,  1.25094510e-01,\n",
       "       -1.82200240e-01,  4.48614483e-01, -8.62440593e-01,  4.35877486e-01,\n",
       "       -5.80162747e-01, -4.52671524e-01, -4.44071294e-01, -1.14292117e-01,\n",
       "       -3.03150774e-02, -2.22501104e-01, -1.67665244e-01, -9.41257722e-01,\n",
       "        4.06756283e-02,  4.72915751e-02, -2.00623881e-01,  3.58300681e-01,\n",
       "        3.43231697e-02, -1.19501196e-01,  9.03319969e-02, -1.79337563e-01,\n",
       "        1.16170776e+00,  6.53253420e-01,  5.15477481e-01, -3.14903393e-02,\n",
       "        9.00526888e-01, -5.58016462e-01, -1.93994109e-01, -1.27186533e-01,\n",
       "       -4.30560087e-04,  1.00046765e+00,  2.22044350e-01, -1.65399494e-01,\n",
       "       -3.25586642e-01,  6.10994962e-01,  8.62000930e-01,  2.61470605e-01,\n",
       "       -2.68581359e-02, -5.68170503e-01,  2.27182543e-01,  1.78170893e-01,\n",
       "        6.28958598e-01, -1.38214210e-01,  2.12502183e-01,  7.58541656e-01,\n",
       "       -4.52723080e-01,  1.29863990e-01,  7.74770078e-01, -1.87199096e-01,\n",
       "        7.52940030e-01,  3.10017494e-01,  2.90275366e-01, -4.28617934e-01,\n",
       "       -4.68118465e-01,  5.59868281e-01, -4.96058633e-01,  8.00008132e-01,\n",
       "       -6.56282639e-01,  8.39102377e-01,  5.09525366e-01,  1.06773055e-01,\n",
       "       -1.81696393e-01, -6.84396695e-01, -7.01667365e-02,  6.58812298e-01,\n",
       "        1.22448792e+00,  1.35413685e-01, -6.91566260e-02,  5.53190375e-01,\n",
       "       -9.51568052e-01, -3.83455273e-01,  3.35866022e-01, -3.65995544e-01,\n",
       "        5.42496970e-01,  8.68616628e-02, -9.74516671e-02,  8.71272577e-01,\n",
       "        8.77622859e-01, -1.23909928e-01,  3.67002504e-01,  1.02606579e+00,\n",
       "        4.12060947e-01, -1.78541825e-01, -9.80199674e-02,  1.91475229e-01,\n",
       "        4.04390262e-01,  8.48387848e-01,  4.95260507e-01,  3.78101281e-01,\n",
       "        1.50009320e-01, -4.73121848e-02,  3.76030583e-01, -6.80711845e-02,\n",
       "        4.77526194e-01,  3.15588233e-01, -4.65447955e-01,  3.21296027e-01,\n",
       "       -6.39263269e-02, -5.97929937e-01, -4.12136242e-01,  1.09749553e+00,\n",
       "       -2.87131234e-01,  2.07113070e-01,  9.47043321e-01, -7.02726296e-01,\n",
       "        1.93301676e-01,  8.89703852e-01,  1.18081873e-01,  2.31871482e-02,\n",
       "        5.47064634e-01, -4.61227581e-01,  5.43181740e-01, -1.04054545e+00,\n",
       "        1.71085894e-01,  8.20761120e-02,  6.43758858e-01, -6.04452946e-01,\n",
       "        6.28830790e-01,  6.00733069e-01, -5.30099410e-01, -5.94861091e-01,\n",
       "        4.50049101e-01, -5.88410105e-02, -4.96870091e-01,  4.74987097e-01,\n",
       "        3.20229866e-01,  1.06094626e+00,  3.74208379e-02, -6.11597566e-01,\n",
       "        2.59129234e-01,  9.59071148e-02, -3.42767447e-01, -2.55904643e-01,\n",
       "       -7.82984690e-01, -2.41580685e-01, -9.49373870e-01,  7.23483533e-02,\n",
       "        6.12803372e-01,  5.94086343e-01, -1.29956812e-01, -9.78258608e-01,\n",
       "        3.42367658e-01, -3.20964727e-02, -2.81796972e-01, -4.15847799e-01,\n",
       "       -2.63685851e-01, -1.64227886e-01,  3.63983514e-01, -2.07780098e-01,\n",
       "        1.49881693e-01, -6.78707292e-01, -2.68027379e-01, -4.63797602e-01,\n",
       "       -1.06604088e+00, -1.79505801e-02,  9.81392697e-01,  3.74935136e-01,\n",
       "       -1.06606188e+00,  1.08814353e+00,  2.57625103e-01, -4.97047063e-01,\n",
       "        7.36341407e-01,  2.40560800e-01, -4.11069123e-01, -1.39143110e-01,\n",
       "       -7.93361189e-02, -3.49980965e-02, -1.14428600e+00, -2.94516354e-02,\n",
       "       -2.68571750e-01,  6.08258787e-01,  9.12085072e-01, -4.43309401e-01,\n",
       "       -7.86554758e-01,  4.76892082e-01,  3.68277470e-01,  1.59975409e-02,\n",
       "       -1.72322516e-01, -2.74363871e-01, -4.43699827e-01,  3.51138167e-01,\n",
       "       -5.96363978e-01, -1.13571929e-01,  1.53997148e-01, -9.82268192e-02,\n",
       "       -4.63238375e-01])"
      ]
     },
     "execution_count": 81,
     "metadata": {},
     "output_type": "execute_result"
    }
   ],
   "source": [
    "beta_parallel"
   ]
  },
  {
   "cell_type": "code",
   "execution_count": 83,
   "id": "3c6a8703",
   "metadata": {},
   "outputs": [
    {
     "data": {
      "text/plain": [
       "<matplotlib.legend.Legend at 0x141f9f9d0>"
      ]
     },
     "execution_count": 83,
     "metadata": {},
     "output_type": "execute_result"
    },
    {
     "data": {
      "image/png": "[encoded data removed]",
      "text/plain": [
       "<Figure size 432x288 with 1 Axes>"
      ]
     },
     "metadata": {
      "needs_background": "light"
     },
     "output_type": "display_data"
    }
   ],
   "source": [
    "plt.plot(power.beta_star, label = 'true')\n",
    "plt.plot(beta_parallel, label = 'beta_terrible')\n",
    "\n",
    "plt.legend()\n"
   ]
  },
  {
   "cell_type": "code",
   "execution_count": null,
   "id": "576538d1",
   "metadata": {},
   "outputs": [],
   "source": []
  },
  {
   "cell_type": "code",
   "execution_count": null,
   "id": "c45bf0d9",
   "metadata": {},
   "outputs": [],
   "source": []
  },
  {
   "cell_type": "code",
   "execution_count": null,
   "id": "84158eb1",
   "metadata": {},
   "outputs": [],
   "source": []
  },
  {
   "cell_type": "code",
   "execution_count": null,
   "id": "ace4c6b5",
   "metadata": {},
   "outputs": [],
   "source": []
  },
  {
   "cell_type": "code",
   "execution_count": 40,
   "id": "ee9464e2",
   "metadata": {},
   "outputs": [],
   "source": [
    "n = 500237\n",
    "procs = 5\n",
    "c = np.zeros(n)"
   ]
  },
  {
   "cell_type": "code",
   "execution_count": 37,
   "id": "491590dd",
   "metadata": {},
   "outputs": [
    {
     "data": {
      "text/plain": [
       "array([0., 0., 0., ..., 0., 0., 0.])"
      ]
     },
     "execution_count": 37,
     "metadata": {},
     "output_type": "execute_result"
    }
   ],
   "source": [
    "np.array_split(c, procs)[1]"
   ]
  },
  {
   "cell_type": "code",
   "execution_count": 38,
   "id": "cfb64ac9",
   "metadata": {},
   "outputs": [],
   "source": [
    "def split(a, n):\n",
    "    k, m = divmod(len(a), n)\n",
    "    return (a[i*k+min(i, m):(i+1)*k+min(i+1, m)] for i in range(n))"
   ]
  },
  {
   "cell_type": "code",
   "execution_count": 39,
   "id": "54dbdfd0",
   "metadata": {},
   "outputs": [
    {
     "name": "stdout",
     "output_type": "stream",
     "text": [
      "(100048,)\n",
      "(100048,)\n",
      "(100047,)\n",
      "(100047,)\n",
      "(100047,)\n"
     ]
    }
   ],
   "source": [
    "for i in split(c, 5): \n",
    "    print(i.shape)"
   ]
  },
  {
   "cell_type": "code",
   "execution_count": null,
   "id": "05f05cc0",
   "metadata": {},
   "outputs": [],
   "source": [
    "range(5)\n"
   ]
  },
  {
   "cell_type": "code",
   "execution_count": 67,
   "id": "9a14322a",
   "metadata": {},
   "outputs": [
    {
     "data": {
      "text/plain": [
       "500237"
      ]
     },
     "execution_count": 67,
     "metadata": {},
     "output_type": "execute_result"
    }
   ],
   "source": [
    "n"
   ]
  },
  {
   "cell_type": "code",
   "execution_count": 69,
   "id": "5ff54e81",
   "metadata": {},
   "outputs": [
    {
     "data": {
      "text/plain": [
       "array([5.00237000e+05, 4.90028184e+05, 4.79819367e+05, 4.69610551e+05,\n",
       "       4.59401735e+05, 4.49192918e+05, 4.38984102e+05, 4.28775286e+05,\n",
       "       4.18566469e+05, 4.08357653e+05, 3.98148837e+05, 3.87940020e+05,\n",
       "       3.77731204e+05, 3.67522388e+05, 3.57313571e+05, 3.47104755e+05,\n",
       "       3.36895939e+05, 3.26687122e+05, 3.16478306e+05, 3.06269490e+05,\n",
       "       2.96060673e+05, 2.85851857e+05, 2.75643041e+05, 2.65434224e+05,\n",
       "       2.55225408e+05, 2.45016592e+05, 2.34807776e+05, 2.24598959e+05,\n",
       "       2.14390143e+05, 2.04181327e+05, 1.93972510e+05, 1.83763694e+05,\n",
       "       1.73554878e+05, 1.63346061e+05, 1.53137245e+05, 1.42928429e+05,\n",
       "       1.32719612e+05, 1.22510796e+05, 1.12301980e+05, 1.02093163e+05,\n",
       "       9.18843469e+04, 8.16755306e+04, 7.14667143e+04, 6.12578980e+04,\n",
       "       5.10490816e+04, 4.08402653e+04, 3.06314490e+04, 2.04226327e+04,\n",
       "       1.02138163e+04, 5.00000000e+00])"
      ]
     },
     "execution_count": 69,
     "metadata": {},
     "output_type": "execute_result"
    }
   ],
   "source": [
    "np.linspace(n, 5)"
   ]
  },
  {
   "cell_type": "code",
   "execution_count": 65,
   "id": "b21fb7bb",
   "metadata": {
    "scrolled": true
   },
   "outputs": [
    {
     "data": {
      "text/plain": [
       "[(100048,), (100048,), (100047,), (100047,), (100047,)]"
      ]
     },
     "execution_count": 65,
     "metadata": {},
     "output_type": "execute_result"
    }
   ],
   "source": [
    "[np.array_split(c, procs)[i].shape for i in range(5)]"
   ]
  },
  {
   "cell_type": "code",
   "execution_count": 76,
   "id": "1e127986",
   "metadata": {},
   "outputs": [
    {
     "name": "stderr",
     "output_type": "stream",
     "text": [
      "/Users/vvr/jupyter/network_regularisation_test/simulations/examples.py:65: FutureWarning: incidence_matrix will return a scipy.sparse array instead of a matrix in Networkx 3.0.\n",
      "  self.incidence = np.asarray(nx.incidence_matrix(self.G, oriented=True).T.todense())\n",
      "/Users/vvr/jupyter/network_regularisation_test/simulations/examples.py:68: FutureWarning: incidence_matrix will return a scipy.sparse array instead of a matrix in Networkx 3.0.\n",
      "  self.incidence = np.asarray(nx.incidence_matrix(self.G, oriented=True).T.todense())\n"
     ]
    },
    {
     "name": "stdout",
     "output_type": "stream",
     "text": [
      "(390,) (390, 390)\n",
      "(390,) (390, 390)\n",
      "duration normal cgd: 73.1446063839976\n",
      "iters normal cgd: 41\n",
      "computations? 692941\n",
      "36.61757570999907\n",
      "[-0.00974368  0.04126917  0.01893243 ...  0.02567847  0.01810736\n",
      " -0.00757111]\n",
      "break reason 1\n",
      "duration parallel cgd: 37.210274778990424\n",
      "iters parallel cgd: 2\n",
      "update_loops parallel cgd: 0\n",
      "beta_normal [ 1.92816159e-02  2.67430446e-02 -5.83634260e-03  7.24723629e-03\n",
      " -5.03401807e-03  3.54236679e-03  5.90800549e-03  1.26777606e-02\n",
      " -2.55954026e-02  8.14901452e-03 -6.72069564e-03  1.54157323e-02\n",
      "  9.10366900e-03  5.90800534e-03 -2.56442257e-03  6.69725370e-03\n",
      "  4.70447607e-03 -3.25963845e-03  1.08907300e-02  2.43964943e-02\n",
      "  1.39283149e-02  7.91375683e-04 -1.58554200e-02  1.84696280e-02\n",
      "  1.04799251e-02 -2.30176844e-03 -2.30176844e-03  5.90800535e-03\n",
      " -9.66616914e-04  1.39283150e-02  5.33122616e-04 -2.55954026e-02\n",
      "  7.24723628e-03  4.92249752e-03 -1.39877329e-02  2.74643325e-02\n",
      "  3.66708097e-02 -1.08381876e-02  3.92513341e-04 -8.07798022e-03\n",
      "  2.32013614e-03  5.33122641e-04 -5.83634250e-03  3.10412386e-02\n",
      " -2.56442264e-03  4.70447600e-03  8.14901457e-03  1.64808931e-02\n",
      "  1.64710793e-03  3.92513308e-04  5.90800534e-03  4.70447602e-03\n",
      " -2.72580253e-03  3.50645798e-02 -1.71100162e-02 -1.30602597e-03\n",
      "  1.92701792e-02  1.33888247e-02 -3.60364194e-04  1.03416733e-02\n",
      "  4.31589848e-03  5.33122631e-04  4.92249746e-03 -1.05890530e-02\n",
      "  1.97980056e-02  1.09950255e-02 -8.07798017e-03  7.81883322e-03\n",
      " -7.00917258e-03 -1.31792379e-02  8.14901458e-03  5.29091744e-03\n",
      " -2.83534915e-02  8.76186058e-04  8.14901454e-03  4.03179787e-03\n",
      "  4.01646177e-03  7.92451577e-03  5.44852363e-03 -3.25963846e-03\n",
      " -3.25963845e-03  1.20534814e-02  5.29091746e-03  5.33122574e-04\n",
      " -1.95866050e-02 -1.79824078e-02 -7.23597480e-03 -2.25920455e-02\n",
      "  2.06867255e-03  6.99688056e-03  1.26636062e-02  4.70447600e-03\n",
      "  1.63527317e-02  1.77436562e-02  2.11653732e-02  3.27972965e-03\n",
      " -1.36037309e-02 -1.71349542e-03  5.90800531e-03  1.00737184e-03\n",
      " -2.55954026e-02  2.20699278e-03 -5.58942097e-03  1.92701792e-02\n",
      "  3.92513350e-04  1.92701792e-02 -1.95866050e-02  5.33122570e-04\n",
      " -1.17370668e-03 -1.71349546e-03  4.92904982e-03  1.20534814e-02\n",
      "  3.98779387e-02 -1.86822600e-02  5.33122548e-04  2.65039334e-03\n",
      " -1.05890530e-02  5.90800536e-03 -6.72069558e-03 -1.17370673e-03\n",
      "  4.31589848e-03 -4.55745443e-04  1.49446356e-02  1.22882444e-02\n",
      "  3.61131420e-03  1.14240435e-02  1.51545861e-02  1.09950254e-02\n",
      "  3.10412385e-02  5.90800533e-03 -3.35264241e-02 -2.46531032e-02\n",
      "  3.68507123e-03 -2.67566791e-03  7.06672942e-03  1.41014255e-02\n",
      "  1.65018860e-02 -1.24851177e-02  3.90848605e-02  3.23902672e-02\n",
      "  4.07453749e-04  2.60358768e-04  4.29314830e-02  1.46506350e-02\n",
      "  2.08448102e-02  2.48292173e-02  4.12987776e-02  5.99122984e-02\n",
      "  4.70750078e-02  4.37864048e-02  6.60580383e-02  6.91166065e-02\n",
      "  7.70652570e-02  8.08021178e-02  9.29497617e-02  1.01220957e-01\n",
      "  1.04244919e-01  8.69608903e-02  1.33925760e-01  1.53550953e-01\n",
      "  1.31837409e-01  1.17829130e-01  1.38991893e-01  1.83208772e-01\n",
      "  1.57372226e-01  1.66662536e-01  1.66983491e-01  1.75485904e-01\n",
      "  2.06181586e-01  2.30624188e-01  2.42571746e-01  1.84142942e-01\n",
      "  2.69091385e-01  2.42036042e-01  2.55034384e-01  2.72438354e-01\n",
      "  2.72357144e-01  3.31603335e-01  3.15441794e-01  2.82563591e-01\n",
      "  3.49631458e-01  3.18144466e-01  3.60679024e-01  3.68494846e-01\n",
      "  3.48872562e-01  3.83027480e-01  4.03207127e-01  3.79918884e-01\n",
      "  3.75077422e-01  4.38099218e-01  4.40181646e-01  4.67597665e-01\n",
      "  4.79258639e-01  4.83006873e-01  5.08908340e-01  5.34374886e-01\n",
      "  5.18229861e-01  5.41984793e-01  5.24999491e-01  5.46841501e-01\n",
      "  5.72286489e-01  5.82848297e-01  5.82848297e-01  5.74472976e-01\n",
      "  6.40038610e-01  6.42156858e-01  6.50698052e-01  6.34163294e-01\n",
      "  6.40184298e-01  6.85151322e-01  6.80342977e-01  6.74738510e-01\n",
      "  6.80417117e-01  7.11679456e-01  7.37636627e-01  7.44947156e-01\n",
      "  7.36887963e-01  7.60175470e-01  7.74679540e-01  7.73868383e-01\n",
      "  7.75543144e-01  7.77453127e-01  7.99196554e-01  8.23896942e-01\n",
      "  8.18476764e-01  8.10126105e-01  8.42536845e-01  8.73790377e-01\n",
      "  9.09908808e-01  8.76167818e-01  8.70591226e-01  8.60593483e-01\n",
      "  8.70937553e-01  8.86259461e-01  9.53347541e-01  8.95671836e-01\n",
      "  9.49572107e-01  9.15828564e-01  9.48483048e-01  9.20245118e-01\n",
      "  9.77662069e-01  9.48386035e-01  9.65841952e-01  9.93381358e-01\n",
      "  9.51526330e-01  9.72174615e-01  9.55651955e-01  9.34415223e-01\n",
      "  9.81109867e-01  9.94540658e-01  9.55228990e-01  1.00313504e+00\n",
      "  1.03334396e+00  9.95851738e-01  1.03610544e+00  9.97321797e-01\n",
      "  1.00344243e+00  1.01051915e+00  9.93239279e-01  1.02809632e+00\n",
      "  1.00150081e+00  9.85551122e-01  1.00150081e+00  1.00513151e+00\n",
      "  9.82392974e-01  1.01372139e+00  1.00164794e+00  1.00150081e+00\n",
      "  1.00150081e+00  1.00159990e+00  1.00159990e+00  1.00164794e+00\n",
      "  1.00150081e+00  1.00150081e+00  1.01154427e+00  1.01657583e+00\n",
      "  9.98335851e-01  1.00821917e+00  1.01712727e+00  1.01372139e+00\n",
      "  1.00513151e+00  9.98407272e-01  1.00819679e+00  9.98335851e-01\n",
      "  1.02438978e+00  9.86908601e-01  1.00408371e+00  1.01657583e+00\n",
      "  9.99262670e-01  1.00821917e+00  9.95196416e-01  1.01372139e+00\n",
      "  1.04908469e+00  1.00893221e+00  1.01497947e+00  1.00893221e+00\n",
      "  1.00150081e+00  1.00821917e+00  9.98881238e-01  1.00428201e+00\n",
      "  1.00150081e+00  9.99262670e-01  1.00150081e+00  1.01125689e+00\n",
      "  1.01372139e+00  1.00150082e+00  9.95196416e-01  9.80440094e-01\n",
      "  1.00723365e+00  9.90640708e-01  9.99125755e-01  9.99262670e-01\n",
      "  1.01115858e+00  1.00480568e+00  1.00185707e+00  1.00108584e+00\n",
      "  9.97336619e-01  1.00150082e+00  1.00480568e+00  1.00330609e+00\n",
      "  9.95196416e-01  1.00150082e+00  1.00150082e+00  1.00480568e+00\n",
      "  9.90946686e-01  1.00480568e+00  1.00480568e+00  9.95196416e-01\n",
      "  9.97706195e-01  1.00614502e+00  9.97706195e-01  9.88892102e-01\n",
      "  1.02110531e+00  1.02861981e+00  1.02545989e+00  1.00164794e+00\n",
      "  1.02284405e+00  1.00893221e+00  1.01192740e+00  1.00129955e+00\n",
      "  1.00687401e+00  1.02544727e+00  1.01026233e+00  1.00614502e+00\n",
      "  1.01691993e+00  1.00150082e+00  1.01487279e+00  1.00917837e+00\n",
      "  9.98282683e-01  1.01657583e+00  1.00978241e+00  1.00006402e+00\n",
      "  1.00918065e+00  1.00408371e+00  1.00690341e+00  1.00690341e+00\n",
      "  1.00892935e+00  1.00408371e+00  1.00150082e+00  1.01154427e+00\n",
      "  1.01712727e+00  9.99262670e-01  9.95196416e-01  1.00150082e+00\n",
      "  1.01158810e+00  9.81780448e-01  9.99262670e-01  9.99289647e-01\n",
      "  1.00893221e+00  9.95138690e-01  1.00164794e+00  1.01154427e+00\n",
      "  1.00893221e+00  1.00819679e+00  1.00150082e+00  1.00723365e+00\n",
      "  1.01487279e+00  1.01630881e+00  1.00821917e+00  9.82392974e-01\n",
      "  9.92058377e-01  9.77177186e-01  9.72448662e-01  9.98526650e-01\n",
      "  1.01018925e+00  1.00687401e+00  9.99262670e-01  1.01487279e+00\n",
      "  1.00192298e+00  1.00662757e+00]\n",
      "beta_parallel [ 2.94437540e-02  3.91874347e-02 -1.18254153e-02  1.05113237e-02\n",
      " -1.09851630e-02  3.80773866e-03  8.45401334e-03  1.84830279e-02\n",
      " -3.66722992e-02  1.45530431e-02 -1.55131306e-02  2.48654510e-02\n",
      "  1.51796585e-02  9.78888989e-03 -8.22958842e-03  1.07373412e-02\n",
      "  6.06867719e-03 -1.21775738e-02  1.77639560e-02  3.68750172e-02\n",
      "  2.14399640e-02 -7.88536390e-04 -2.59368543e-02  2.90173204e-02\n",
      "  1.61272361e-02 -9.12886932e-03 -1.01191960e-02  8.73499045e-03\n",
      " -6.16625579e-03  2.16041790e-02 -2.79928566e-03 -3.83805070e-02\n",
      "  1.22652572e-02  6.13687592e-03 -2.45887598e-02  3.85161337e-02\n",
      "  4.98476504e-02 -2.06505455e-02 -3.00579739e-03 -1.77866956e-02\n",
      "  7.67912181e-04 -2.22163505e-03 -1.41676891e-02  4.40046098e-02\n",
      " -9.96250809e-03  5.64975035e-03  1.37918032e-02  2.41392245e-02\n",
      " -4.63951474e-04 -4.03667079e-03  8.67488009e-03  5.61474662e-03\n",
      " -8.76412109e-03  4.88105097e-02 -2.99484469e-02 -8.15530732e-03\n",
      "  2.96243461e-02  2.27419713e-02 -4.79942598e-03  1.64684592e-02\n",
      "  5.85342528e-03 -1.48815890e-03  6.88329217e-03 -2.10341659e-02\n",
      "  2.90231884e-02  1.69809604e-02 -1.52738118e-02  1.42568532e-02\n",
      " -1.39558852e-02 -2.33543917e-02  1.40323842e-02  6.91167355e-03\n",
      " -4.22839406e-02 -4.64520091e-03  1.36704166e-02  4.08177139e-03\n",
      "  5.59943064e-03  1.61713656e-02  1.02136999e-02 -1.04894109e-02\n",
      " -1.10457711e-02  2.09296259e-02  6.05356605e-03 -2.58650754e-03\n",
      " -2.96010260e-02 -3.16159218e-02 -1.79377971e-02 -3.45944075e-02\n",
      " -1.50733912e-04  1.36400591e-02  2.27998365e-02  4.53432714e-03\n",
      "  2.62041275e-02  2.72029635e-02  3.14165575e-02  2.43051077e-03\n",
      " -2.39304771e-02 -8.93360527e-03  1.14101877e-02 -2.30751538e-03\n",
      " -3.68024427e-02  2.77067575e-05 -1.41749096e-02  3.03060996e-02\n",
      " -2.93682985e-03  3.00251147e-02 -3.13198773e-02 -3.01816292e-03\n",
      " -6.90928607e-03 -7.13513796e-03  5.30784477e-03  2.17159723e-02\n",
      "  5.50765109e-02 -3.11556265e-02 -1.48606692e-03  1.77918009e-03\n",
      " -2.14972126e-02  9.53709765e-03 -1.54056471e-02 -5.63578775e-03\n",
      "  3.83538406e-03 -5.77966726e-03  2.42834506e-02  2.08892802e-02\n",
      "  3.94258371e-03  1.74235870e-02  2.62140721e-02  1.85161826e-02\n",
      "  4.18950280e-02  8.03156724e-03 -3.47663191e-02 -2.59763873e-02\n",
      "  3.82173885e-03 -2.27579968e-03  7.05905275e-03  1.53170992e-02\n",
      "  1.53497060e-02 -1.21670739e-02  4.05610018e-02  3.38646491e-02\n",
      " -1.00927464e-03 -1.23691030e-03  4.39469486e-02  1.31561738e-02\n",
      "  1.98018285e-02  2.40088847e-02  4.08119700e-02  5.90650077e-02\n",
      "  4.57956629e-02  4.52361320e-02  6.68799229e-02  6.81235970e-02\n",
      "  7.46408712e-02  8.15140794e-02  9.38728996e-02  1.00281666e-01\n",
      "  1.06299769e-01  8.77326425e-02  1.32414276e-01  1.52154066e-01\n",
      "  1.31412213e-01  1.15962246e-01  1.38054782e-01  1.80805947e-01\n",
      "  1.56926683e-01  1.66552522e-01  1.66871059e-01  1.75348363e-01\n",
      "  2.03341292e-01  2.31955965e-01  2.42092757e-01  1.82832391e-01\n",
      "  2.68356573e-01  2.44075344e-01  2.57245432e-01  2.73945072e-01\n",
      "  2.72959542e-01  3.32573341e-01  3.16517496e-01  2.82641489e-01\n",
      "  3.48244615e-01  3.18416183e-01  3.59704057e-01  3.67294638e-01\n",
      "  3.48863832e-01  3.83268699e-01  4.02415898e-01  3.80981381e-01\n",
      "  3.74043324e-01  4.38336380e-01  4.38953468e-01  4.66493615e-01\n",
      "  4.80629937e-01  4.82652231e-01  5.08380217e-01  5.35247391e-01\n",
      "  5.17668035e-01  5.42652752e-01  5.24590074e-01  5.47785910e-01\n",
      "  5.72719018e-01  5.83020983e-01  5.83329027e-01  5.74957882e-01\n",
      "  6.40747966e-01  6.43348508e-01  6.49473102e-01  6.35187926e-01\n",
      "  6.39470859e-01  6.83927656e-01  6.79125204e-01  6.74625275e-01\n",
      "  6.77952131e-01  7.12499355e-01  7.35510175e-01  7.47152594e-01\n",
      "  7.36287523e-01  7.57809470e-01  7.74437356e-01  7.75665050e-01\n",
      "  7.76211696e-01  7.76465228e-01  7.98615511e-01  8.24579005e-01\n",
      "  8.18761305e-01  8.10360474e-01  8.41275440e-01  8.73758474e-01\n",
      "  9.12327960e-01  8.75076496e-01  8.70882842e-01  8.60167873e-01\n",
      "  8.70646024e-01  8.87944801e-01  9.53907982e-01  8.96156470e-01\n",
      "  9.48711414e-01  9.16282863e-01  9.48958189e-01  9.21082733e-01\n",
      "  9.76864339e-01  9.48193390e-01  9.66377259e-01  9.93766148e-01\n",
      "  9.50965985e-01  9.72435373e-01  9.53753162e-01  9.33506016e-01\n",
      "  9.80282046e-01  9.95291443e-01  9.54471071e-01  1.00386817e+00\n",
      "  1.03417050e+00  9.94379000e-01  1.03593224e+00  9.97377743e-01\n",
      "  1.00194685e+00  1.01051305e+00  9.92009327e-01  1.02866495e+00\n",
      "  9.96794391e-01  9.75199843e-01  9.97817353e-01  1.00757836e+00\n",
      "  9.70592599e-01  1.02277216e+00  9.98755102e-01  9.97451821e-01\n",
      "  9.96650744e-01  9.98833940e-01  9.99695121e-01  9.99839164e-01\n",
      "  9.97459623e-01  9.96552955e-01  1.01869270e+00  1.02642305e+00\n",
      "  9.88349293e-01  1.01490035e+00  1.02961811e+00  1.02380304e+00\n",
      "  1.00904537e+00  9.90222878e-01  1.01229254e+00  9.88649324e-01\n",
      "  1.03533783e+00  9.75270662e-01  1.00516026e+00  1.02745271e+00\n",
      "  9.93415283e-01  1.01198115e+00  9.86539096e-01  1.02361402e+00\n",
      "  1.06125516e+00  1.01520234e+00  1.02458204e+00  1.01475150e+00\n",
      "  9.98926873e-01  1.00968721e+00  9.89075144e-01  1.00467015e+00\n",
      "  9.99426966e-01  9.94774810e-01  9.97400874e-01  1.02100743e+00\n",
      "  1.02564289e+00  9.97717660e-01  9.85713723e-01  9.67813159e-01\n",
      "  1.01222297e+00  9.79385051e-01  9.91077233e-01  9.91345099e-01\n",
      "  1.01714073e+00  1.00691382e+00  1.00084545e+00  9.93829991e-01\n",
      "  9.88613782e-01  9.98030431e-01  1.00520036e+00  1.00368294e+00\n",
      "  9.86155566e-01  1.00036775e+00  9.96693796e-01  1.00519464e+00\n",
      "  9.81358868e-01  1.00660629e+00  1.00610129e+00  9.84486992e-01\n",
      "  9.87384729e-01  1.00890930e+00  9.88370658e-01  9.77338193e-01\n",
      "  1.03279337e+00  1.04041639e+00  1.03759716e+00  1.00077800e+00\n",
      "  1.03555987e+00  1.01428327e+00  1.02048467e+00  9.95535379e-01\n",
      "  1.00837909e+00  1.03957712e+00  1.01788318e+00  1.00828027e+00\n",
      "  1.02802456e+00  9.97603092e-01  1.02378248e+00  1.01332158e+00\n",
      "  9.90281570e-01  1.02753446e+00  1.01563083e+00  9.93029882e-01\n",
      "  1.01536654e+00  1.00419235e+00  1.01102878e+00  1.01059169e+00\n",
      "  1.01486362e+00  1.00445319e+00  9.98305867e-01  1.01736139e+00\n",
      "  1.02878186e+00  9.93733657e-01  9.85218664e-01  9.99308998e-01\n",
      "  1.02121882e+00  9.68195052e-01  9.92759740e-01  9.92331250e-01\n",
      "  1.01556249e+00  9.84700975e-01  9.98593187e-01  1.02085253e+00\n",
      "  1.01271216e+00  1.01368432e+00  9.97823261e-01  1.01117160e+00\n",
      "  1.02437196e+00  1.02537979e+00  1.01260116e+00  9.71203130e-01\n",
      "  9.82469410e-01  9.63368105e-01  9.61554307e-01  9.89828009e-01\n",
      "  1.01793143e+00  1.00905921e+00  9.94548078e-01  1.02518705e+00\n",
      "  9.99508576e-01  1.00707969e+00]\n",
      "normed diff normal 0.014797163777883126\n",
      "normed diff parallel 0.0191859961885736\n"
     ]
    },
    {
     "data": {
      "text/plain": [
       "<matplotlib.legend.Legend at 0x14444bc10>"
      ]
     },
     "execution_count": 76,
     "metadata": {},
     "output_type": "execute_result"
    },
    {
     "data": {
      "image/png": "[encoded data removed]",
      "text/plain": [
       "<Figure size 432x288 with 1 Axes>"
      ]
     },
     "metadata": {
      "needs_background": "light"
     },
     "output_type": "display_data"
    }
   ],
   "source": [
    "barbell = examples.BarbellGraph(length_chain = 130, size_clique = 130)\n",
    "X, y = gaussian_sample(5000, barbell.n_nodes, beta_star = barbell.beta_star, Psi = np.eye(barbell.n_nodes), sigma = 2)\n",
    "\n",
    "X, y = gaussian_sample(10000, barbell.n_nodes, beta_star = barbell.beta_star, Psi = np.eye(barbell.n_nodes), sigma = 2)\n",
    "start_time = timeit.default_timer()\n",
    "beta, iters, comps = cgd_solver(X, y, barbell.incidence, lambda1 = 1, lambda2 = 1)\n",
    "end_time = timeit.default_timer()\n",
    "duration = end_time - start_time\n",
    "print(\"duration normal cgd:\", duration)\n",
    "print(\"iters normal cgd:\", iters)\n",
    "print(\"computations?\", comps)\n",
    "\n",
    "\n",
    "start_time = timeit.default_timer()\n",
    "beta_parallel, iters, update_loops = cgd_solver_greedy(X, y, barbell.incidence, lambda1 = 1, lambda2 = 1)\n",
    "end_time = timeit.default_timer()\n",
    "duration = end_time - start_time\n",
    "print(\"duration parallel cgd:\", duration)\n",
    "print(\"iters parallel cgd:\", iters)\n",
    "print(\"update_loops parallel cgd:\", update_loops)\n",
    "\n",
    "print(\"beta_normal\", beta)\n",
    "print(\"beta_parallel\", beta_parallel)\n",
    "print(\"normed diff normal\", la.norm(beta - barbell.beta_star)/np.sqrt(len(beta)))\n",
    "print(\"normed diff parallel\", la.norm(beta_parallel - barbell.beta_star)/np.sqrt(len(beta_parallel)))\n",
    "\n",
    "\n",
    "plt.plot(barbell.beta_star, label = 'true')\n",
    "plt.plot(beta, label = 'beta')\n",
    "plt.plot(beta_parallel, label = 'beta_terrible')\n",
    "\n",
    "plt.legend()\n",
    "\n",
    "#print(np.max(la.norm(beta - barbell.beta_star)), np.max(la.norm(beta_parallel - barbell.beta_star)))\n"
   ]
  },
  {
   "cell_type": "code",
   "execution_count": 75,
   "id": "51ee35c3",
   "metadata": {},
   "outputs": [
    {
     "name": "stderr",
     "output_type": "stream",
     "text": [
      "/Users/vvr/jupyter/network_regularisation_test/simulations/examples.py:55: FutureWarning: incidence_matrix will return a scipy.sparse array instead of a matrix in Networkx 3.0.\n",
      "  self.incidence = np.asarray(nx.incidence_matrix(self.G, oriented=True).T.todense())\n"
     ]
    },
    {
     "name": "stdout",
     "output_type": "stream",
     "text": [
      "(1047,) (1047, 1047)\n",
      "1.3736526650027372\n",
      "[-0.05658908  0.03389959 -0.03602199 ... -0.03600808  0.05571565\n",
      "  0.01046076]\n",
      "break reason 1\n",
      "duration parallel cgd: 1.3967027879989473\n",
      "iters parallel cgd: 2\n",
      "update_loops parallel cgd: 0\n",
      "duration normal cgd: 1.360117136995541\n",
      "iters normal cgd: 5\n",
      "computations? 5230\n",
      "beta_normal [  2.97675403   3.03212974   3.00042053 ... 450.04265717 449.98809933\n",
      " 449.97802268]\n",
      "beta_parallel [  2.97659733   3.03318641   2.99928682 ... 450.04367847 449.98796282\n",
      " 449.97750206]\n",
      "normed diff normal 0.03323171259659446\n",
      "normed diff parallel 0.033569945300821885\n",
      "1.0752911317598968 1.0862354556875236\n"
     ]
    },
    {
     "data": {
      "image/png": "[encoded data removed]",
      "text/plain": [
       "<Figure size 432x288 with 1 Axes>"
      ]
     },
     "metadata": {
      "needs_background": "light"
     },
     "output_type": "display_data"
    }
   ],
   "source": [
    "stairs = examples.SmoothStair(n_repeat= 150)\n",
    "\n",
    "X, y = gaussian_sample(5000, stairs.n_nodes, beta_star = stairs.beta_star, Psi = stairs.Psi, sigma = 2)\n",
    "\n",
    "start_time = timeit.default_timer()\n",
    "beta_parallel, iters, update_loops = cgd_solver_greedy(X, y, stairs.incidence, lambda1 = 1, lambda2 = 2)\n",
    "end_time = timeit.default_timer()\n",
    "duration = end_time - start_time\n",
    "print(\"duration parallel cgd:\", duration)\n",
    "print(\"iters parallel cgd:\", iters)\n",
    "print(\"update_loops parallel cgd:\", update_loops)\n",
    "\n",
    "start_time = timeit.default_timer()\n",
    "beta, iters, comps = cgd_solver(X, y, stairs.incidence, lambda1 = 1, lambda2 = 2)\n",
    "end_time = timeit.default_timer()\n",
    "duration = end_time - start_time\n",
    "print(\"duration normal cgd:\", duration)\n",
    "print(\"iters normal cgd:\", iters)\n",
    "print(\"computations?\", comps)\n",
    "\n",
    "\n",
    "print(\"beta_normal\", beta)\n",
    "print(\"beta_parallel\", beta_parallel)\n",
    "print(\"normed diff normal\", la.norm(beta - stairs.beta_star)/np.sqrt(len(beta)))\n",
    "print(\"normed diff parallel\", la.norm(beta_parallel - stairs.beta_star)/np.sqrt(len(beta_parallel)))\n",
    "\n",
    "\n",
    "plt.plot(stairs.beta_star, label = 'true')\n",
    "plt.plot(beta, label = 'beta')\n",
    "plt.plot(beta_parallel, label = 'beta_parallel')\n",
    "\n",
    "plt.legend()\n",
    "\n",
    "print(np.max(la.norm(beta - stairs.beta_star)), np.max(la.norm(beta_parallel - stairs.beta_star)))"
   ]
  },
  {
   "cell_type": "code",
   "execution_count": 14,
   "id": "d7603ae2",
   "metadata": {},
   "outputs": [],
   "source": [
    "def cgd_solver(X, y, Gamma, lambda1, lambda2, eps = 1e-5, max_it = 50000):\n",
    "    m, p = Gamma.shape\n",
    "    X_til, y_til = np.vstack((X, np.sqrt(2*lambda2) * Gamma)), np.concatenate((y, np.zeros(m)))\n",
    "    X_til_pinv = la.pinv(X_til)\n",
    "\n",
    "    y_v = X_til @ X_til_pinv @ y_til\n",
    "    Gamma_v = Gamma @ X_til_pinv\n",
    "\n",
    "    Q = Gamma_v @ Gamma_v.T\n",
    "    b = Gamma_v @ y_v\n",
    "\n",
    "    u = np.zeros(m)\n",
    "    n_iter = 0\n",
    "    comps = 0\n",
    "    #print(m)\n",
    "    prev_u = 0 # For stopping criteria\n",
    "    while True:\n",
    "        n_iter += 1\n",
    "        if n_iter >= max_it:\n",
    "            #raise ValueError(\"Iterations exceed max_it\")\n",
    "            print(\"Iterations exceed max_it\")\n",
    "            return X_til_pinv @ (y_v - Gamma_v.T @ u)\n",
    "        for i in range(m):\n",
    "            if Q[i, i] > 1e-4:\n",
    "                t = 1/Q[i,i] * (b[i] - np.dot(np.delete(Q[i], i), np.delete(u, i)))\n",
    "                comps +=1 \n",
    "            else:\n",
    "                t = 0\n",
    "\n",
    "            u[i] = np.sign(t) * min(np.abs(t), lambda1)   #there should be better truncation methods\n",
    "\n",
    "        if la.norm(u - prev_u) <= eps:\n",
    "            break\n",
    "\n",
    "        prev_u = np.copy(u)   # Recall array is similar to list\n",
    "\n",
    "    beta = X_til_pinv @ (y_v - Gamma_v.T @ u)\n",
    "    return beta, n_iter, comps\n",
    "\n",
    "def eval_obj(Q, b, v): \n",
    "    return 0.5*(np.dot(v, Q@v)) - np.dot(b, v)\n",
    "\n",
    "def cgd_solver_parallel(X, y, Gamma, lambda1, lambda2, weight = 5, processors = 20, eps = 1e-5, max_it = 800000):\n",
    "    m, p = Gamma.shape\n",
    "    X_til, y_til = np.vstack((X, np.sqrt(2*lambda2) * Gamma)), np.concatenate((y, np.zeros(m)))\n",
    "    X_til_pinv = la.pinv(X_til)\n",
    "\n",
    "    y_v = X_til @ X_til_pinv @ y_til\n",
    "    Gamma_v = Gamma @ X_til_pinv\n",
    "    Q = Gamma_v @ Gamma_v.T\n",
    "    b = Gamma_v @ y_v\n",
    "    \n",
    "    single_blocks = np.arange(m)\n",
    "    max_vals = [max(Q[i]) for i in range(Q.shape[0])]\n",
    "    \n",
    "    \n",
    "    u = np.zeros(m)\n",
    "    n_iter = 0\n",
    "    update_loops = 0\n",
    "    prev_u = 0 # For stopping criteria\n",
    "    while True:\n",
    "        n_iter += 1\n",
    "        if n_iter >= max_it:\n",
    "            #raise ValueError(\"Iterations exceed max_it\")\n",
    "            print(\"Iterations exceed max_it\")\n",
    "            return (X_til_pinv @ (y_v - Gamma_v.T @ u)), n_iter, update_loops\n",
    "        updates = []\n",
    "\n",
    "        samples = np.random.choice(single_blocks, processors, replace = False)\n",
    "        for i in samples: \n",
    "            update_loops +=1\n",
    "            t = -(np.dot(Q[i], u) + b[i])/(processors*max_vals[i])\n",
    "            updates.append((i, t))\n",
    "            \n",
    "        #print(np.shape(samples))\n",
    "        \n",
    "        for pair in updates:\n",
    "            index = pair[0]\n",
    "            update = pair[1]\n",
    "            u[index] = np.sign(u[index] + update) * min(u[index] + update, lambda1)\n",
    "            \n",
    "                #break\n",
    "            \n",
    "            #there should be better truncation methods\n",
    "            \n",
    "        if la.norm(u - prev_u) <= eps:\n",
    "            break\n",
    "\n",
    "        prev_u = np.copy(u)   # Recall array is similar to list\n",
    "\n",
    "    beta = X_til_pinv @ (y_v - Gamma_v.T @ u)\n",
    "    return beta, n_iter, update_loops"
   ]
  },
  {
   "cell_type": "code",
   "execution_count": 31,
   "id": "2b373617",
   "metadata": {},
   "outputs": [
    {
     "data": {
      "text/plain": [
       "array([[0.1021121 , 0.71883102, 0.51511085],\n",
       "       [0.33757767, 0.96848289, 0.73587841]])"
      ]
     },
     "execution_count": 31,
     "metadata": {},
     "output_type": "execute_result"
    }
   ],
   "source": [
    "np.random.rand(3, 3)[[1, 2]]"
   ]
  },
  {
   "cell_type": "code",
   "execution_count": null,
   "id": "c93ff19c",
   "metadata": {},
   "outputs": [],
   "source": []
  },
  {
   "cell_type": "code",
   "execution_count": 32,
   "id": "83bd0caf",
   "metadata": {},
   "outputs": [],
   "source": [
    "def cgd_solver_test(X, y, Gamma, lambda1, lambda2, weight = 5, processors = 20, eps = 1e-5, max_it = 800000):\n",
    "    m, p = Gamma.shape\n",
    "    X_til, y_til = np.vstack((X, np.sqrt(2*lambda2) * Gamma)), np.concatenate((y, np.zeros(m)))\n",
    "    X_til_pinv = la.pinv(X_til)\n",
    "\n",
    "    y_v = X_til @ X_til_pinv @ y_til\n",
    "    Gamma_v = Gamma @ X_til_pinv\n",
    "    Q = Gamma_v @ Gamma_v.T\n",
    "    b = Gamma_v @ y_v\n",
    "    \n",
    "    single_blocks = np.arange(m)\n",
    "    max_vals = [max(Q[i]) for i in range(Q.shape[0])]\n",
    "    \n",
    "    \n",
    "    u = np.zeros(m)\n",
    "    n_iter = 0\n",
    "    update_loops = 0\n",
    "    prev_u = 0 # For stopping criteria\n",
    "    while True:\n",
    "        n_iter += 1\n",
    "        if n_iter >= max_it:\n",
    "            #raise ValueError(\"Iterations exceed max_it\")\n",
    "            print(\"Iterations exceed max_it\")\n",
    "            return (X_til_pinv @ (y_v - Gamma_v.T @ u)), n_iter, update_loops\n",
    "        updates = []\n",
    "\n",
    "        samples = np.random.choice(single_blocks, processors, replace = False)\n",
    "        for i in samples: \n",
    "            update_loops +=1\n",
    "            t = -(np.dot(Q[i], u) + b[i])/(processors*max_vals[i])\n",
    "            updates.append((i, t))\n",
    "            \n",
    "        #print(np.shape(samples))\n",
    "        \n",
    "        for pair in updates:\n",
    "            index = pair[0]\n",
    "            update = pair[1]\n",
    "            u[index] = np.sign(u[index] + update) * min(u[index] + update, lambda1)\n",
    "            \n",
    "                #break\n",
    "            \n",
    "            #there should be better truncation methods\n",
    "            \n",
    "        if la.norm(u - prev_u) <= eps:\n",
    "            break\n",
    "\n",
    "        prev_u = np.copy(u)   # Recall array is similar to list\n",
    "\n",
    "    beta = X_til_pinv @ (y_v - Gamma_v.T @ u)\n",
    "    return beta, n_iter, update_loops"
   ]
  },
  {
   "cell_type": "code",
   "execution_count": 33,
   "id": "35f5fbf4",
   "metadata": {},
   "outputs": [
    {
     "data": {
      "text/plain": [
       "260"
      ]
     },
     "execution_count": 33,
     "metadata": {},
     "output_type": "execute_result"
    }
   ],
   "source": [
    "barbell.n_nodes"
   ]
  },
  {
   "cell_type": "code",
   "execution_count": 34,
   "id": "ffbc30a3",
   "metadata": {},
   "outputs": [
    {
     "data": {
      "image/png": "[encoded data removed]",
      "text/plain": [
       "<Figure size 432x288 with 1 Axes>"
      ]
     },
     "metadata": {
      "needs_background": "light"
     },
     "output_type": "display_data"
    }
   ],
   "source": [
    "barbell.plot_signal()"
   ]
  },
  {
   "cell_type": "code",
   "execution_count": 35,
   "id": "5a3a71ae",
   "metadata": {
    "scrolled": false
   },
   "outputs": [
    {
     "data": {
      "image/png": "[encoded data removed]",
      "text/plain": [
       "<Figure size 432x288 with 1 Axes>"
      ]
     },
     "metadata": {},
     "output_type": "display_data"
    }
   ],
   "source": [
    "barbell.draw_graph()"
   ]
  },
  {
   "cell_type": "code",
   "execution_count": 36,
   "id": "7b7c36c5",
   "metadata": {},
   "outputs": [
    {
     "data": {
      "text/plain": [
       "260"
      ]
     },
     "execution_count": 36,
     "metadata": {},
     "output_type": "execute_result"
    }
   ],
   "source": [
    "barbell.n_nodes"
   ]
  },
  {
   "cell_type": "code",
   "execution_count": 37,
   "id": "39e337f1",
   "metadata": {
    "scrolled": true
   },
   "outputs": [
    {
     "data": {
      "text/plain": [
       "171"
      ]
     },
     "execution_count": 37,
     "metadata": {},
     "output_type": "execute_result"
    }
   ],
   "source": [
    "nx.number_of_nodes(nx.algorithms.approximation.treewidth_min_degree(barbell.G)[1])"
   ]
  },
  {
   "cell_type": "code",
   "execution_count": 38,
   "id": "9601fa64",
   "metadata": {},
   "outputs": [
    {
     "name": "stderr",
     "output_type": "stream",
     "text": [
      "/Users/vvr/jupyter/network_regularisation_test/simulations/examples.py:65: FutureWarning: incidence_matrix will return a scipy.sparse array instead of a matrix in Networkx 3.0.\n",
      "  self.incidence = np.asarray(nx.incidence_matrix(self.G, oriented=True).T.todense())\n",
      "/Users/vvr/jupyter/network_regularisation_test/simulations/examples.py:68: FutureWarning: incidence_matrix will return a scipy.sparse array instead of a matrix in Networkx 3.0.\n",
      "  self.incidence = np.asarray(nx.incidence_matrix(self.G, oriented=True).T.todense())\n"
     ]
    },
    {
     "data": {
      "text/plain": [
       "260"
      ]
     },
     "execution_count": 38,
     "metadata": {},
     "output_type": "execute_result"
    }
   ],
   "source": [
    "barbell = examples.BarbellGraph(length_chain = 80, size_clique = 90)\n",
    "barbell.n_nodes"
   ]
  },
  {
   "cell_type": "code",
   "execution_count": 39,
   "id": "1523a642",
   "metadata": {},
   "outputs": [
    {
     "data": {
      "text/plain": [
       "<networkx.classes.graph.Graph at 0x144513dc0>"
      ]
     },
     "execution_count": 39,
     "metadata": {},
     "output_type": "execute_result"
    }
   ],
   "source": [
    "barbell.G"
   ]
  },
  {
   "cell_type": "code",
   "execution_count": 40,
   "id": "cacb32e7",
   "metadata": {
    "scrolled": true
   },
   "outputs": [
    {
     "name": "stderr",
     "output_type": "stream",
     "text": [
      "/var/folders/19/sxn1rm81105bg9w40cjxr_kc0000gn/T/ipykernel_15507/3915449015.py:80: FutureWarning: incidence_matrix will return a scipy.sparse array instead of a matrix in Networkx 3.0.\n",
      "  self.incidence = np.asarray(nx.incidence_matrix(self.G, oriented=True).T.todense())\n"
     ]
    }
   ],
   "source": [
    "smooth2d =Smooth2D()"
   ]
  },
  {
   "cell_type": "code",
   "execution_count": 41,
   "id": "1b0cd149",
   "metadata": {},
   "outputs": [
    {
     "data": {
      "text/plain": [
       "900"
      ]
     },
     "execution_count": 41,
     "metadata": {},
     "output_type": "execute_result"
    }
   ],
   "source": [
    "nx.number_of_nodes(smooth2d.G)"
   ]
  },
  {
   "cell_type": "code",
   "execution_count": 42,
   "id": "234585dd",
   "metadata": {},
   "outputs": [],
   "source": [
    "nodes = nx.number_of_nodes(smooth2d.G)"
   ]
  },
  {
   "cell_type": "code",
   "execution_count": 43,
   "id": "02c89cc5",
   "metadata": {},
   "outputs": [
    {
     "name": "stdout",
     "output_type": "stream",
     "text": [
      "(900,) (900, 900)\n",
      "duration normal cgd: 2.8425771280017216\n",
      "iters normal cgd: 5\n",
      "computations? 8700\n",
      "2.3876749590053805\n",
      "[-0.00574196 -0.00354012  0.02039134 ...  0.03076697  0.01960622\n",
      " -0.05410843]\n",
      "break reason 1\n",
      "duration parallel cgd: 2.425790221997886\n",
      "iters parallel cgd: 2\n",
      "update_loops parallel cgd: 0\n",
      "normed diff normal 0.020693576078228925\n",
      "normed diff parallel 0.02092311546716191\n"
     ]
    },
    {
     "ename": "AttributeError",
     "evalue": "module 'matplotlib.pyplot' has no attribute 'heatmap'",
     "output_type": "error",
     "traceback": [
      "\u001b[0;31m---------------------------------------------------------------------------\u001b[0m",
      "\u001b[0;31mAttributeError\u001b[0m                            Traceback (most recent call last)",
      "\u001b[0;32m/var/folders/19/sxn1rm81105bg9w40cjxr_kc0000gn/T/ipykernel_15507/2088242799.py\u001b[0m in \u001b[0;36m<module>\u001b[0;34m\u001b[0m\n\u001b[1;32m     23\u001b[0m \u001b[0;34m\u001b[0m\u001b[0m\n\u001b[1;32m     24\u001b[0m \u001b[0mplt\u001b[0m\u001b[0;34m.\u001b[0m\u001b[0mplot\u001b[0m\u001b[0;34m(\u001b[0m\u001b[0msmooth2d\u001b[0m\u001b[0;34m.\u001b[0m\u001b[0mbeta_star\u001b[0m\u001b[0;34m,\u001b[0m \u001b[0mlabel\u001b[0m \u001b[0;34m=\u001b[0m \u001b[0;34m'true'\u001b[0m\u001b[0;34m)\u001b[0m\u001b[0;34m\u001b[0m\u001b[0;34m\u001b[0m\u001b[0m\n\u001b[0;32m---> 25\u001b[0;31m \u001b[0mplt\u001b[0m\u001b[0;34m.\u001b[0m\u001b[0mheatmap\u001b[0m\u001b[0;34m(\u001b[0m\u001b[0mbeta\u001b[0m\u001b[0;34m.\u001b[0m\u001b[0mreshape\u001b[0m\u001b[0;34m(\u001b[0m\u001b[0;34m(\u001b[0m\u001b[0mint\u001b[0m\u001b[0;34m(\u001b[0m\u001b[0mnp\u001b[0m\u001b[0;34m.\u001b[0m\u001b[0msqrt\u001b[0m\u001b[0;34m(\u001b[0m\u001b[0mnodes\u001b[0m\u001b[0;34m)\u001b[0m\u001b[0;34m)\u001b[0m\u001b[0;34m,\u001b[0m\u001b[0mint\u001b[0m\u001b[0;34m(\u001b[0m\u001b[0mnp\u001b[0m\u001b[0;34m.\u001b[0m\u001b[0msqrt\u001b[0m\u001b[0;34m(\u001b[0m\u001b[0mnodes\u001b[0m\u001b[0;34m)\u001b[0m\u001b[0;34m)\u001b[0m\u001b[0;34m)\u001b[0m\u001b[0;34m)\u001b[0m\u001b[0;34m,\u001b[0m \u001b[0mlabel\u001b[0m \u001b[0;34m=\u001b[0m \u001b[0;34m'bet a'\u001b[0m\u001b[0;34m)\u001b[0m\u001b[0;34m\u001b[0m\u001b[0;34m\u001b[0m\u001b[0m\n\u001b[0m\u001b[1;32m     26\u001b[0m \u001b[0mplt\u001b[0m\u001b[0;34m.\u001b[0m\u001b[0mheatmap\u001b[0m\u001b[0;34m(\u001b[0m\u001b[0mbeta_parallel\u001b[0m\u001b[0;34m.\u001b[0m\u001b[0mreshape\u001b[0m\u001b[0;34m(\u001b[0m\u001b[0;34m(\u001b[0m\u001b[0mint\u001b[0m\u001b[0;34m(\u001b[0m\u001b[0mnp\u001b[0m\u001b[0;34m.\u001b[0m\u001b[0msqrt\u001b[0m\u001b[0;34m(\u001b[0m\u001b[0mnodes\u001b[0m\u001b[0;34m)\u001b[0m\u001b[0;34m)\u001b[0m\u001b[0;34m,\u001b[0m\u001b[0mint\u001b[0m\u001b[0;34m(\u001b[0m\u001b[0mnp\u001b[0m\u001b[0;34m.\u001b[0m\u001b[0msqrt\u001b[0m\u001b[0;34m(\u001b[0m\u001b[0mnodes\u001b[0m\u001b[0;34m)\u001b[0m\u001b[0;34m)\u001b[0m\u001b[0;34m)\u001b[0m\u001b[0;34m)\u001b[0m\u001b[0;34m,\u001b[0m \u001b[0mlabel\u001b[0m \u001b[0;34m=\u001b[0m \u001b[0;34m'beta_terrible'\u001b[0m\u001b[0;34m)\u001b[0m\u001b[0;34m\u001b[0m\u001b[0;34m\u001b[0m\u001b[0m\n\u001b[1;32m     27\u001b[0m \u001b[0;34m\u001b[0m\u001b[0m\n",
      "\u001b[0;31mAttributeError\u001b[0m: module 'matplotlib.pyplot' has no attribute 'heatmap'"
     ]
    },
    {
     "data": {
      "image/png": "[encoded data removed]",
      "text/plain": [
       "<Figure size 432x288 with 1 Axes>"
      ]
     },
     "metadata": {
      "needs_background": "light"
     },
     "output_type": "display_data"
    }
   ],
   "source": [
    "X, y = gaussian_sample(10000, nodes, beta_star = smooth2d.beta_star, Psi = np.eye(nodes), sigma = 2)\n",
    "start_time = timeit.default_timer()\n",
    "beta, iters, comps = cgd_solver(X, y, smooth2d.incidence, lambda1 = 1, lambda2 = 2)\n",
    "end_time = timeit.default_timer()\n",
    "duration = end_time - start_time\n",
    "print(\"duration normal cgd:\", duration)\n",
    "print(\"iters normal cgd:\", iters)\n",
    "print(\"computations?\", comps)\n",
    "\n",
    "start_time = timeit.default_timer()\n",
    "beta_parallel, iters, update_loops = cgd_solver_greedy(X, y, smooth2d.incidence, lambda1 = 1, lambda2 = 2)\n",
    "end_time = timeit.default_timer()\n",
    "duration = end_time - start_time\n",
    "print(\"duration parallel cgd:\", duration)\n",
    "print(\"iters parallel cgd:\", iters)\n",
    "print(\"update_loops parallel cgd:\", update_loops)\n",
    "\n",
    "#print(\"beta_normal\", beta)\n",
    "#print(\"beta_parallel\", beta_parallel)\n",
    "print(\"normed diff normal\", la.norm(beta - smooth2d.beta_star)/np.sqrt(len(beta)))\n",
    "print(\"normed diff parallel\", la.norm(beta_parallel - smooth2d.beta_star)/np.sqrt(len(beta_parallel)))\n",
    "\n",
    "\n",
    "plt.plot(smooth2d.beta_star, label = 'true')\n",
    "plt.heatmap(beta.reshape((int(np.sqrt(nodes)),int(np.sqrt(nodes)))), label = 'bet a')\n",
    "plt.heatmap(beta_parallel.reshape((int(np.sqrt(nodes)),int(np.sqrt(nodes)))), label = 'beta_terrible')\n",
    "\n",
    "plt.legend()\n",
    "\n",
    "#print(np.max(la.norm(beta - barbell.beta_star)), np.max(la.norm(beta_parallel - barbell.beta_star)))"
   ]
  },
  {
   "cell_type": "code",
   "execution_count": 44,
   "id": "7f84be63",
   "metadata": {
    "scrolled": true
   },
   "outputs": [
    {
     "data": {
      "text/plain": [
       "<AxesSubplot:>"
      ]
     },
     "execution_count": 44,
     "metadata": {},
     "output_type": "execute_result"
    },
    {
     "data": {
      "image/png": "[encoded data removed]",
      "text/plain": [
       "<Figure size 432x288 with 2 Axes>"
      ]
     },
     "metadata": {
      "needs_background": "light"
     },
     "output_type": "display_data"
    }
   ],
   "source": [
    "\n",
    "sb.heatmap(beta.reshape((int(np.sqrt(nodes)),int(np.sqrt(nodes)))), label = 'bet a')\n"
   ]
  },
  {
   "cell_type": "code",
   "execution_count": 45,
   "id": "8960ea82",
   "metadata": {
    "scrolled": true
   },
   "outputs": [
    {
     "data": {
      "text/plain": [
       "<AxesSubplot:>"
      ]
     },
     "execution_count": 45,
     "metadata": {},
     "output_type": "execute_result"
    },
    {
     "data": {
      "image/png": "[encoded data removed]",
      "text/plain": [
       "<Figure size 432x288 with 2 Axes>"
      ]
     },
     "metadata": {
      "needs_background": "light"
     },
     "output_type": "display_data"
    }
   ],
   "source": [
    "sb.heatmap(smooth2d.beta_star.reshape((int(np.sqrt(nodes)),int(np.sqrt(nodes)))))"
   ]
  },
  {
   "cell_type": "code",
   "execution_count": 46,
   "id": "e7334182",
   "metadata": {},
   "outputs": [
    {
     "data": {
      "text/plain": [
       "<AxesSubplot:>"
      ]
     },
     "execution_count": 46,
     "metadata": {},
     "output_type": "execute_result"
    },
    {
     "data": {
      "image/png": "[encoded data removed]",
      "text/plain": [
       "<Figure size 432x288 with 2 Axes>"
      ]
     },
     "metadata": {
      "needs_background": "light"
     },
     "output_type": "display_data"
    }
   ],
   "source": [
    "sb.heatmap(beta_parallel.reshape((int(np.sqrt(nodes)),int(np.sqrt(nodes)))))"
   ]
  },
  {
   "cell_type": "code",
   "execution_count": 47,
   "id": "25adfdba",
   "metadata": {},
   "outputs": [
    {
     "data": {
      "text/plain": [
       "<AxesSubplot:>"
      ]
     },
     "execution_count": 47,
     "metadata": {},
     "output_type": "execute_result"
    },
    {
     "data": {
      "image/png": "[encoded data removed]",
      "text/plain": [
       "<Figure size 432x288 with 2 Axes>"
      ]
     },
     "metadata": {
      "needs_background": "light"
     },
     "output_type": "display_data"
    }
   ],
   "source": [
    "import seaborn as sb\n",
    "sb.heatmap(beta.reshape((int(np.sqrt(nodes)),int(np.sqrt(nodes)))), label = 'bet a')"
   ]
  },
  {
   "cell_type": "code",
   "execution_count": 48,
   "id": "d65e5532",
   "metadata": {},
   "outputs": [
    {
     "data": {
      "text/plain": [
       "array([[1.99867893, 2.00177649, 1.98899243, 1.99701145, 2.00502408,\n",
       "        2.01605277, 1.97451627, 2.036505  , 1.99645104, 2.00670361,\n",
       "        2.02282739, 1.99646959, 1.94702292, 1.95164005, 2.04672407,\n",
       "        2.00185756, 1.99076505, 1.98753888, 2.00578767, 1.99469551,\n",
       "        2.00996126, 2.01019336, 2.01876911, 2.03172267, 1.95224517,\n",
       "        1.9998692 , 1.99213605, 2.0024674 , 1.99921179, 2.00347402],\n",
       "       [2.00376584, 1.98177544, 1.98803287, 1.98021389, 1.97563829,\n",
       "        2.0130448 , 1.97314143, 1.98842988, 2.00311558, 1.97439659,\n",
       "        2.00929314, 2.00069757, 1.97948794, 2.01407086, 1.98906456,\n",
       "        1.99939337, 1.99958149, 1.97783347, 2.03345177, 1.99634997,\n",
       "        2.00996126, 2.0276643 , 1.98263667, 1.96804935, 2.03045588,\n",
       "        1.99050546, 2.02142   , 1.98187937, 1.97299713, 1.98638381],\n",
       "       [2.00291728, 1.97318221, 1.99119145, 1.9964623 , 2.02000773,\n",
       "        1.98329179, 2.00944549, 2.0010025 , 1.98923968, 2.00588799,\n",
       "        1.98761814, 2.00291897, 1.9697632 , 2.00445585, 2.00751982,\n",
       "        1.98647145, 1.97376882, 1.99559619, 2.00761851, 2.00781465,\n",
       "        1.96083353, 1.99926822, 2.01790549, 2.01440285, 2.02167149,\n",
       "        2.00322635, 1.97427002, 1.98197681, 2.03210423, 1.97424492],\n",
       "       [1.9994037 , 1.9981214 , 1.99429366, 1.99145335, 1.99145335,\n",
       "        1.9667232 , 1.97706601, 1.96808617, 2.02445958, 2.00588799,\n",
       "        1.98612439, 1.9796924 , 2.01023458, 2.04851837, 1.9849456 ,\n",
       "        2.00652792, 1.9800191 , 1.99179005, 1.95941166, 2.00387842,\n",
       "        1.98546779, 2.00008304, 2.00025031, 2.02798663, 2.01908784,\n",
       "        2.01852751, 2.02458296, 1.96255037, 2.03210423, 2.02517891],\n",
       "       [1.9895779 , 2.0047333 , 1.98009494, 2.02080594, 1.96785873,\n",
       "        2.0260754 , 2.01512858, 1.99529497, 1.99916439, 1.98262   ,\n",
       "        2.01300019, 2.00944674, 1.99087091, 2.00258532, 2.00824199,\n",
       "        2.00076282, 1.99959223, 2.00215464, 2.03075134, 1.9927571 ,\n",
       "        1.97193784, 2.00296707, 2.02944624, 2.01244147, 2.00041756,\n",
       "        2.00268865, 2.01791875, 2.02586204, 1.99859427, 1.98516938],\n",
       "       [2.01484354, 2.0047333 , 2.00003965, 2.03546308, 2.00924019,\n",
       "        2.00964849, 1.99313731, 1.99307655, 2.02306453, 2.01822524,\n",
       "        1.97921748, 2.02249604, 1.98740413, 2.04401313, 2.00017579,\n",
       "        2.00931216, 1.95984201, 1.98340961, 1.99781792, 1.9677829 ,\n",
       "        1.98909072, 2.00058098, 2.0068314 , 1.98268382, 2.00440841,\n",
       "        1.99798035, 1.98722472, 1.99789951, 2.01815634, 1.9953837 ],\n",
       "       [1.994439  , 2.01183657, 1.96624421, 2.00124634, 2.02186401,\n",
       "        1.97713895, 1.96051637, 1.99874114, 2.01595277, 1.98758631,\n",
       "        1.99702078, 2.01370419, 1.97787216, 2.00819954, 2.00004542,\n",
       "        1.99597797, 1.99422501, 2.02320735, 1.99910799, 1.99133536,\n",
       "        1.97556367, 1.98480228, 1.99073298, 1.97896397, 2.01869704,\n",
       "        2.04998495, 1.97327189, 2.00064533, 2.03584208, 1.97031352],\n",
       "       [2.00007065, 2.00702649, 2.01054801, 2.01509712, 1.98538963,\n",
       "        1.99151112, 1.99761057, 2.00258152, 2.03395367, 2.01198675,\n",
       "        2.0044165 , 2.01029977, 2.01199857, 2.0020093 , 2.00326329,\n",
       "        1.96092043, 1.96507557, 1.98662941, 1.98030961, 2.01871738,\n",
       "        1.9788736 , 1.97864584, 1.99928323, 2.01720062, 2.01869704,\n",
       "        2.02296623, 2.02012453, 1.95847003, 2.00047321, 1.97460549],\n",
       "       [1.98188418, 1.99391088, 2.03852375, 1.97675902, 2.03052583,\n",
       "        1.99332937, 1.98511092, 1.96577776, 2.00702542, 2.0001465 ,\n",
       "        1.94663897, 2.02145785, 2.00419894, 1.99886038, 2.01465446,\n",
       "        1.93871293, 2.02404793, 1.98844617, 1.98427153, 1.97119384,\n",
       "        2.02425361, 1.96950561, 2.01511719, 1.99803373, 2.01290015,\n",
       "        2.00490612, 2.01772541, 1.95595542, 2.00780205, 1.96708872],\n",
       "       [2.00267112, 1.96713099, 1.99889   , 2.0196505 , 2.01238602,\n",
       "        2.04944003, 2.04086697, 1.99165293, 2.05193515, 2.02082718,\n",
       "        1.99640216, 2.06331554, 2.41925673, 2.82088827, 3.01276938,\n",
       "        2.83359769, 2.36039038, 2.03984747, 1.98735899, 1.99240691,\n",
       "        2.02094299, 1.98851137, 1.99618068, 1.98814965, 2.02636349,\n",
       "        2.02498743, 2.01772541, 1.97647338, 2.02600413, 1.98570551],\n",
       "       [2.0121594 , 2.0147774 , 2.02223185, 2.00329293, 1.97397646,\n",
       "        2.01308005, 2.03220779, 1.97610414, 2.00183942, 2.03208057,\n",
       "        2.10720279, 2.99667088, 4.08171944, 4.79025313, 4.97603801,\n",
       "        4.76427765, 4.08336367, 3.00785183, 2.09003661, 1.96482303,\n",
       "        2.02442189, 2.02179096, 2.00706769, 1.98365258, 1.97059517,\n",
       "        2.00394883, 2.03643776, 2.01412208, 1.98913889, 2.01416782],\n",
       "       [1.97911748, 1.98935672, 1.99006964, 2.00222571, 1.96453311,\n",
       "        1.97451732, 2.05133257, 2.00375858, 2.00865163, 2.05368588,\n",
       "        2.99463588, 4.50056357, 5.65339808, 5.95571083, 5.96720763,\n",
       "        5.95723025, 5.60904092, 4.54398804, 2.97503516, 2.01518141,\n",
       "        1.99286364, 1.9981489 , 2.01662028, 2.00855568, 2.0018002 ,\n",
       "        2.02059144, 2.03611086, 2.01496702, 2.00651519, 1.99685127],\n",
       "       [1.98974213, 2.00519295, 1.98556859, 1.98851964, 1.97593158,\n",
       "        2.00437261, 2.00446321, 1.98779504, 1.9932228 , 2.41886995,\n",
       "        4.06517865, 5.55473697, 5.99234656, 5.97904484, 6.00552092,\n",
       "        5.99544354, 5.98625074, 5.60743134, 4.07145574, 2.37921073,\n",
       "        2.03230534, 1.97565028, 1.99955123, 2.0216004 , 2.00847341,\n",
       "        2.03399993, 2.04069579, 2.01918293, 1.98895549, 1.99180279],\n",
       "       [1.98295195, 1.97370262, 1.98259871, 2.00569259, 2.02723352,\n",
       "        2.02723352, 2.01870377, 1.98278094, 1.99371324, 2.8125393 ,\n",
       "        4.72865048, 6.00545165, 5.99076773, 6.00136562, 5.98622607,\n",
       "        5.98751033, 5.99255426, 5.95468577, 4.74147792, 2.84989204,\n",
       "        2.02352701, 1.98833899, 2.00765735, 1.96477698, 1.98138685,\n",
       "        2.01940927, 2.01006641, 2.01006641, 1.99856908, 2.01964256],\n",
       "       [2.02925249, 1.99119088, 1.98126994, 1.96578383, 2.01545316,\n",
       "        2.02505249, 2.00462859, 2.00063338, 1.98916872, 3.00984088,\n",
       "        5.01248478, 6.03501394, 5.98442673, 5.97014586, 6.03775334,\n",
       "        5.98611081, 5.98958976, 6.00737424, 4.99674167, 2.99726199,\n",
       "        1.98827885, 2.03148055, 2.00112822, 2.03341381, 1.98678822,\n",
       "        1.99525948, 1.99497424, 2.0204469 , 2.02416816, 1.98876772],\n",
       "       [1.97551347, 1.99216799, 2.01160235, 1.99623405, 2.03164893,\n",
       "        1.98459688, 1.98795591, 2.03180976, 2.00819551, 2.82992495,\n",
       "        4.7903682 , 5.99600253, 5.98441752, 5.9938107 , 5.96769683,\n",
       "        5.97793766, 6.01426918, 5.9676991 , 4.78326473, 2.84888976,\n",
       "        2.03758778, 1.97348155, 2.01098258, 1.96157615, 2.00269666,\n",
       "        2.02519504, 1.98997359, 1.99347081, 2.03005998, 1.97920106],\n",
       "       [2.00616336, 2.01385066, 1.99872754, 1.97562316, 2.03312123,\n",
       "        2.03312123, 2.02577361, 2.03180976, 2.01564776, 2.38028197,\n",
       "        4.04097809, 5.62701651, 5.97396839, 5.98436237, 5.99930809,\n",
       "        6.02531113, 5.99991894, 5.59199429, 4.08297367, 2.39052111,\n",
       "        2.01818587, 2.01790777, 1.97619604, 1.98503012, 1.98325658,\n",
       "        2.01077478, 1.97456691, 2.01642652, 2.01000676, 1.97454277],\n",
       "       [1.9985488 , 2.00196599, 1.96145708, 1.98037427, 1.98762792,\n",
       "        2.01549715, 1.96899777, 2.00935675, 2.01306911, 2.05935024,\n",
       "        3.01270554, 4.55546604, 5.62692637, 5.97652456, 6.01430152,\n",
       "        5.96610079, 5.60404231, 4.5322017 , 2.94733464, 2.02971929,\n",
       "        2.02107805, 2.0225419 , 1.97276988, 1.98722227, 1.98011867,\n",
       "        2.0011638 , 2.0061449 , 1.99489484, 2.01101525, 2.00430365],\n",
       "       [1.99513434, 2.02233935, 2.02021005, 1.99916548, 2.01618545,\n",
       "        2.02045179, 2.01804796, 2.0248313 , 2.02793596, 1.97705712,\n",
       "        2.13428602, 3.02711247, 4.06990599, 4.74374055, 5.0110923 ,\n",
       "        4.76735655, 4.06443129, 3.00215851, 2.16394867, 2.04441812,\n",
       "        1.97236428, 1.97550117, 1.97471958, 1.99275919, 1.96111492,\n",
       "        1.99605986, 2.00276081, 2.005327  , 2.02193856, 2.01036495],\n",
       "       [1.98319331, 2.03186904, 2.00140054, 1.99809007, 2.01192204,\n",
       "        2.00408432, 2.00043635, 2.0285708 , 1.9877286 , 2.00129187,\n",
       "        2.01116393, 2.05637433, 2.41644979, 2.81312744, 3.00941121,\n",
       "        2.80673654, 2.39007446, 2.02610611, 1.99484186, 1.96136172,\n",
       "        1.99029983, 2.05417631, 1.98860194, 2.03706325, 1.99616181,\n",
       "        1.98791814, 2.01084396, 1.95841687, 2.02617167, 1.99757884],\n",
       "       [2.00769342, 2.02171736, 1.98131254, 2.00469816, 1.9821567 ,\n",
       "        1.96814131, 2.00198253, 1.99095405, 1.97168162, 1.99387326,\n",
       "        2.00174186, 2.0240396 , 2.0049303 , 2.01036696, 2.01281537,\n",
       "        2.03534295, 2.04855478, 2.00199357, 2.00156155, 1.97590577,\n",
       "        1.97967625, 1.99511405, 1.97159118, 1.99235953, 1.99733682,\n",
       "        2.01131675, 1.99579704, 2.01300385, 1.97776393, 1.97767252],\n",
       "       [2.00122893, 1.99332212, 2.02190396, 1.97048877, 1.9916343 ,\n",
       "        1.99365503, 2.01045252, 2.01124708, 1.98960248, 2.00733364,\n",
       "        2.02845369, 2.00423515, 2.02689707, 1.98002085, 1.97859207,\n",
       "        2.03082587, 2.00715542, 1.98637563, 2.04706502, 1.98394138,\n",
       "        1.98262697, 1.99430173, 1.99670759, 1.97330133, 1.99019136,\n",
       "        1.98602192, 2.03604747, 1.99706944, 1.98909344, 1.97974894],\n",
       "       [1.97498824, 1.97714254, 2.02672821, 2.02492351, 1.97312677,\n",
       "        1.95034684, 1.99871307, 1.9865142 , 2.00095847, 1.98143842,\n",
       "        2.02892769, 1.97600243, 1.9946793 , 2.00984999, 2.02467603,\n",
       "        1.99413972, 2.02595093, 2.04313563, 1.97504762, 2.02640214,\n",
       "        1.98316555, 2.00039062, 2.04086259, 2.04221236, 1.98533154,\n",
       "        1.97490677, 2.03219466, 2.00233174, 2.02963347, 2.01649011],\n",
       "       [1.96380218, 2.01479706, 1.99825737, 2.00602314, 1.99446729,\n",
       "        2.0184133 , 2.01680278, 2.0031805 , 2.01882594, 1.97979167,\n",
       "        1.99124156, 2.02075124, 1.98998473, 2.00011864, 1.9705142 ,\n",
       "        2.01112044, 1.996761  , 1.97598316, 2.00980075, 2.02770735,\n",
       "        1.98916115, 2.02289581, 1.99714179, 2.0280537 , 2.00496722,\n",
       "        2.01963994, 1.98541314, 2.01826933, 1.983413  , 2.0243025 ],\n",
       "       [2.01049018, 2.01273591, 2.00165367, 2.00169406, 1.97923222,\n",
       "        2.02777249, 1.99005798, 2.01791307, 2.00855645, 1.99945501,\n",
       "        1.98403695, 1.99189543, 1.98690885, 1.9677914 , 1.97351554,\n",
       "        1.98342439, 1.98397109, 1.98798804, 1.99748542, 2.00744044,\n",
       "        1.98144741, 1.99862197, 2.03595826, 2.00303521, 2.00539296,\n",
       "        2.02786092, 2.02560493, 1.99748274, 1.99252016, 1.97929397],\n",
       "       [1.99784588, 2.0157296 , 1.98532262, 2.04037261, 1.98952299,\n",
       "        2.00907005, 2.01757579, 2.0194666 , 2.0156901 , 1.98792874,\n",
       "        1.94337637, 1.97291174, 2.01500336, 1.98498599, 2.00430202,\n",
       "        2.0171522 , 2.02714392, 1.97097177, 2.01437405, 1.97206564,\n",
       "        1.98995142, 1.99590535, 2.03532689, 2.00355376, 2.01650058,\n",
       "        1.96906708, 2.02653551, 1.98019492, 1.97463661, 2.00109538],\n",
       "       [2.02087649, 1.99381251, 1.98846419, 1.98043351, 2.03848866,\n",
       "        2.01964642, 2.0316802 , 2.03564768, 1.98366749, 2.03272533,\n",
       "        2.00776787, 2.00491958, 2.02238888, 2.03305423, 2.01891338,\n",
       "        2.00233841, 2.01983904, 2.00405011, 1.99781516, 1.95993041,\n",
       "        1.98886747, 2.00026443, 1.9942717 , 2.01352932, 2.03235014,\n",
       "        1.98156194, 2.00737774, 1.98469524, 2.01330553, 1.97839018],\n",
       "       [1.99650787, 1.98823049, 1.98115515, 1.95115422, 1.97749823,\n",
       "        1.96299591, 2.02138618, 2.00757588, 1.99680996, 2.01599926,\n",
       "        1.97614511, 1.99284535, 2.00592851, 2.00177682, 1.99160116,\n",
       "        2.00917646, 1.99634453, 2.03001651, 2.01868597, 2.02322683,\n",
       "        2.02684247, 1.9978786 , 1.95969093, 2.00523518, 1.98151817,\n",
       "        1.95749888, 1.99588662, 2.03366133, 2.00198402, 2.00072111],\n",
       "       [2.0084296 , 1.97142464, 2.01143669, 1.9743895 , 2.01158845,\n",
       "        2.02013081, 2.01706412, 2.01514161, 2.05175622, 2.00268051,\n",
       "        2.01008459, 1.97282723, 1.98395467, 2.00520443, 1.95867886,\n",
       "        1.99051885, 2.02429361, 1.95903718, 1.99658471, 2.02816112,\n",
       "        1.971115  , 2.00730078, 2.01546137, 1.970455  , 2.00227521,\n",
       "        1.97507649, 2.00639004, 1.99620549, 1.99041638, 1.97802086],\n",
       "       [2.01229618, 2.01394525, 2.04546595, 1.96090833, 1.97041716,\n",
       "        1.99011096, 1.97374607, 2.04994245, 1.99289866, 2.04920182,\n",
       "        2.0392968 , 2.02104246, 1.97185176, 1.97353921, 1.98845157,\n",
       "        2.0251809 , 1.98709   , 2.00675076, 1.98491166, 2.01143298,\n",
       "        1.97837453, 2.01666249, 1.96294778, 2.00184093, 1.97646527,\n",
       "        1.98425804, 2.02848085, 1.99779417, 1.97872832, 2.03217256]])"
      ]
     },
     "execution_count": 48,
     "metadata": {},
     "output_type": "execute_result"
    }
   ],
   "source": [
    "beta.reshape((int(np.sqrt(nodes)),int(np.sqrt(nodes))))"
   ]
  },
  {
   "cell_type": "code",
   "execution_count": 26,
   "id": "6538e49b",
   "metadata": {},
   "outputs": [
    {
     "name": "stderr",
     "output_type": "stream",
     "text": [
      "/Users/vvr/jupyter/network_regularisation_test/simulations/examples.py:65: FutureWarning: incidence_matrix will return a scipy.sparse array instead of a matrix in Networkx 3.0.\n",
      "  self.incidence = np.asarray(nx.incidence_matrix(self.G, oriented=True).T.todense())\n",
      "/Users/vvr/jupyter/network_regularisation_test/simulations/examples.py:68: FutureWarning: incidence_matrix will return a scipy.sparse array instead of a matrix in Networkx 3.0.\n",
      "  self.incidence = np.asarray(nx.incidence_matrix(self.G, oriented=True).T.todense())\n"
     ]
    },
    {
     "data": {
      "text/plain": [
       "210"
      ]
     },
     "execution_count": 26,
     "metadata": {},
     "output_type": "execute_result"
    }
   ],
   "source": [
    "barbell = examples.BarbellGraph(length_chain = 70, size_clique = 70)\n",
    "barbell.n_nodes"
   ]
  },
  {
   "cell_type": "markdown",
   "id": "c99907db",
   "metadata": {},
   "source": [
    "not stable for lower values of n... (first arg in X, y) \n",
    "try different ways of tau-nice sampling \n",
    "\n"
   ]
  },
  {
   "cell_type": "code",
   "execution_count": 61,
   "id": "4b5236d0",
   "metadata": {},
   "outputs": [
    {
     "name": "stdout",
     "output_type": "stream",
     "text": [
      "(105,) (105, 105)\n",
      "(119,) (119, 119)\n",
      "(133,) (133, 133)\n",
      "(147,) (147, 147)\n",
      "(161,) (161, 161)\n",
      "(112,) (112, 112)\n",
      "(126,) (126, 126)\n",
      "(140,) (140, 140)\n",
      "(154,) (154, 154)\n",
      "(168,) (168, 168)\n",
      "(119,) (119, 119)\n",
      "(133,) (133, 133)\n",
      "(147,) (147, 147)\n",
      "(161,) (161, 161)\n",
      "(175,) (175, 175)\n",
      "(126,) (126, 126)\n",
      "(140,) (140, 140)\n",
      "(154,) (154, 154)\n",
      "(168,) (168, 168)\n",
      "(182,) (182, 182)\n",
      "(133,) (133, 133)\n",
      "(147,) (147, 147)\n",
      "(161,) (161, 161)\n",
      "(175,) (175, 175)\n",
      "(189,) (189, 189)\n"
     ]
    }
   ],
   "source": [
    "param_index = []\n",
    "size_index = []\n",
    "coord_desc_times = []\n",
    "coord_desc_beta = []\n",
    "coord_desc_iters_comps = []\n",
    "\n",
    "\n",
    "\n",
    "for i in range(5, 10):\n",
    "    for j in range(5, 10): \n",
    "        length_chain = i*7\n",
    "        size_clique = j*7\n",
    "        param_index.append((length_chain, size_clique))\n",
    "        barbell = examples.BarbellGraph(length_chain = length_chain, size_clique = size_clique)\n",
    "        size_index.append(barbell.n_nodes)\n",
    "        X, y = gaussian_sample(10000, barbell.n_nodes, beta_star = barbell.beta_star, Psi = np.eye(barbell.n_nodes), sigma = 2)\n",
    "        start_time = timeit.default_timer()\n",
    "        beta, iters, comps = cgd_solver(X, y, barbell.incidence, lambda1 = 1, lambda2 = 2)\n",
    "        end_time = timeit.default_timer()\n",
    "        duration = end_time - start_time\n",
    "        coord_desc_times.append(duration)\n",
    "        coord_desc_beta.append(beta)\n",
    "        coord_desc_iters_comps.append((iters,comps))\n",
    "        "
   ]
  },
  {
   "cell_type": "code",
   "execution_count": 60,
   "id": "d977dc56",
   "metadata": {},
   "outputs": [
    {
     "name": "stderr",
     "output_type": "stream",
     "text": [
      "/Users/vvr/jupyter/network_regularisation_test/simulations/examples.py:65: FutureWarning: incidence_matrix will return a scipy.sparse array instead of a matrix in Networkx 3.0.\n",
      "  self.incidence = np.asarray(nx.incidence_matrix(self.G, oriented=True).T.todense())\n",
      "/Users/vvr/jupyter/network_regularisation_test/simulations/examples.py:68: FutureWarning: incidence_matrix will return a scipy.sparse array instead of a matrix in Networkx 3.0.\n",
      "  self.incidence = np.asarray(nx.incidence_matrix(self.G, oriented=True).T.todense())\n"
     ]
    },
    {
     "name": "stdout",
     "output_type": "stream",
     "text": [
      "(105,) (105, 105)\n",
      "(119,) (119, 119)\n",
      "(133,) (133, 133)\n",
      "(147,) (147, 147)\n",
      "(161,) (161, 161)\n",
      "(112,) (112, 112)\n",
      "(126,) (126, 126)\n",
      "(140,) (140, 140)\n",
      "(154,) (154, 154)\n",
      "(168,) (168, 168)\n",
      "(119,) (119, 119)\n",
      "(133,) (133, 133)\n",
      "(147,) (147, 147)\n",
      "(161,) (161, 161)\n",
      "(175,) (175, 175)\n",
      "(126,) (126, 126)\n",
      "(140,) (140, 140)\n",
      "(154,) (154, 154)\n",
      "(168,) (168, 168)\n",
      "(182,) (182, 182)\n",
      "(133,) (133, 133)\n",
      "(147,) (147, 147)\n",
      "(161,) (161, 161)\n",
      "(175,) (175, 175)\n",
      "(189,) (189, 189)\n"
     ]
    }
   ],
   "source": [
    "param_index = []\n",
    "size_index = []\n",
    "coord_desc_parallel_times = []\n",
    "coord_desc_parallel_beta = []\n",
    "coord_desc_parallel_iters_comps = []\n",
    "\n",
    "\n",
    "\n",
    "for i in range(5, 10):\n",
    "    for j in range(5, 10): \n",
    "        length_chain = i*7\n",
    "        size_clique = j*7\n",
    "        param_index.append((length_chain, size_clique))\n",
    "        barbell = examples.BarbellGraph(length_chain = length_chain, size_clique = size_clique)\n",
    "        size_index.append(barbell.n_nodes)\n",
    "        X, y = gaussian_sample(10000, barbell.n_nodes, beta_star = barbell.beta_star, Psi = np.eye(barbell.n_nodes), sigma = 2)\n",
    "        start_time = timeit.default_timer()\n",
    "        beta, iters, comps = cgd_solver_parallel(X, y, barbell.incidence, lambda1 = 1, lambda2 = 2)\n",
    "        end_time = timeit.default_timer()\n",
    "        duration = end_time - start_time\n",
    "        coord_desc_parallel_times.append(duration)\n",
    "        coord_desc_parallel_beta.append(beta)\n",
    "        coord_desc_parallel_iters_comps.append((iters,comps))\n",
    "        "
   ]
  },
  {
   "cell_type": "code",
   "execution_count": 53,
   "id": "146434dc",
   "metadata": {},
   "outputs": [],
   "source": []
  },
  {
   "cell_type": "code",
   "execution_count": 62,
   "id": "143c7c67",
   "metadata": {},
   "outputs": [],
   "source": [
    "true_betas = []\n",
    "coord_desc_normed_diff = []\n",
    "coord_desc_parallel_normed_diff = []\n",
    "for i in range(len(param_index)):\n",
    "    barbell= examples.BarbellGraph(*param_index[i])\n",
    "    coord_desc_normed_diff.append(la.norm(coord_desc_beta[i] - barbell.beta_star)/np.sqrt(len(coord_desc_beta[i])))\n",
    "    coord_desc_parallel_normed_diff.append(la.norm(coord_desc_parallel_beta[i] - barbell.beta_star)/np.sqrt(len(coord_desc_parallel_beta[i])))\n"
   ]
  },
  {
   "cell_type": "code",
   "execution_count": 63,
   "id": "fae1bf46",
   "metadata": {},
   "outputs": [
    {
     "data": {
      "text/plain": [
       "[0.020809304506166262,\n",
       " 0.016770107670157033,\n",
       " 0.017486271840782584,\n",
       " 0.01684242140701826,\n",
       " 0.017339730289721165,\n",
       " 0.01704790793799451,\n",
       " 0.018585638335757323,\n",
       " 0.018833365277784387,\n",
       " 0.017555421703752707,\n",
       " 0.016670173232533905,\n",
       " 0.017283995608627045,\n",
       " 0.018083756437869743,\n",
       " 0.01750293702428588,\n",
       " 0.01787245556083634,\n",
       " 0.016711873960285062,\n",
       " 0.019127573927117288,\n",
       " 0.01937433091171429,\n",
       " 0.018141270341011154,\n",
       " 0.01731536542158948,\n",
       " 0.01914768276101682,\n",
       " 0.018645368663968376,\n",
       " 0.017928261312093186,\n",
       " 0.018443692280987915,\n",
       " 0.01733469237457805,\n",
       " 0.017520840238917704]"
      ]
     },
     "execution_count": 63,
     "metadata": {},
     "output_type": "execute_result"
    }
   ],
   "source": [
    "coord_desc_normed_diff"
   ]
  },
  {
   "cell_type": "code",
   "execution_count": 64,
   "id": "96964e8a",
   "metadata": {},
   "outputs": [
    {
     "data": {
      "text/plain": [
       "[0.018542250803860606,\n",
       " 0.014337778611275921,\n",
       " 0.014774395720373605,\n",
       " 0.018572256295891484,\n",
       " 0.023813172108300706,\n",
       " 0.015443630449472836,\n",
       " 0.01676583263535472,\n",
       " 0.0190650403929132,\n",
       " 0.019029090636875648,\n",
       " 0.026178561694877638,\n",
       " 0.015679748826179837,\n",
       " 0.014890104637580446,\n",
       " 0.017616524952847958,\n",
       " 0.018701862653854075,\n",
       " 0.02619307604136593,\n",
       " 0.017983086283877372,\n",
       " 0.01906189372386306,\n",
       " 0.017375587991298038,\n",
       " 0.018909170906942503,\n",
       " 0.026542223302534525,\n",
       " 0.016361413318045633,\n",
       " 0.017578636060652804,\n",
       " 0.017424647345763926,\n",
       " 0.01790718232646599,\n",
       " 0.032372555289854145]"
      ]
     },
     "execution_count": 64,
     "metadata": {},
     "output_type": "execute_result"
    }
   ],
   "source": [
    "coord_desc_parallel_normed_diff"
   ]
  },
  {
   "cell_type": "code",
   "execution_count": 58,
   "id": "83a50d87",
   "metadata": {},
   "outputs": [
    {
     "data": {
      "text/plain": [
       "50"
      ]
     },
     "execution_count": 58,
     "metadata": {},
     "output_type": "execute_result"
    }
   ],
   "source": [
    "len(coord_desc_beta)"
   ]
  },
  {
   "cell_type": "code",
   "execution_count": 59,
   "id": "38908501",
   "metadata": {},
   "outputs": [
    {
     "data": {
      "text/plain": [
       "0"
      ]
     },
     "execution_count": 59,
     "metadata": {},
     "output_type": "execute_result"
    }
   ],
   "source": [
    "len(coord_desc_parallel_beta)"
   ]
  },
  {
   "cell_type": "code",
   "execution_count": 50,
   "id": "570dcb25",
   "metadata": {},
   "outputs": [],
   "source": [
    "barbell = examples.BarbellGraph(*param_index[1])"
   ]
  },
  {
   "cell_type": "code",
   "execution_count": 48,
   "id": "4dc380bc",
   "metadata": {},
   "outputs": [
    {
     "data": {
      "text/plain": [
       "(35, 42)"
      ]
     },
     "execution_count": 48,
     "metadata": {},
     "output_type": "execute_result"
    }
   ],
   "source": [
    "param_index[1]"
   ]
  },
  {
   "cell_type": "code",
   "execution_count": 27,
   "id": "fcfba1be",
   "metadata": {},
   "outputs": [
    {
     "data": {
      "text/plain": [
       "210"
      ]
     },
     "execution_count": 27,
     "metadata": {},
     "output_type": "execute_result"
    }
   ],
   "source": [
    "barbell.n_nodes"
   ]
  },
  {
   "cell_type": "code",
   "execution_count": null,
   "id": "31d85076",
   "metadata": {},
   "outputs": [],
   "source": [
    "barbell = examples.BarbellGraph(length_chain = 70, size_clique = 70)\n",
    "\n",
    "X, y = gaussian_sample(10000, barbell.n_nodes, beta_star = barbell.beta_star, Psi = np.eye(barbell.n_nodes), sigma = 2)\n",
    "start_time = timeit.default_timer()\n",
    "beta, iters, comps = cgd_solver(X, y, barbell.incidence, lambda1 = 1, lambda2 = 2)\n",
    "end_time = timeit.default_timer()\n",
    "duration = end_time - start_time\n",
    "\n",
    "start_time = timeit.default_timer()\n",
    "beta_parallel, iters, update_loops = cgd_solver_parallel(X, y, barbell.incidence, lambda1 = 1, lambda2 = 2)\n",
    "end_time = timeit.default_timer()\n",
    "duration = end_time - start_time\n",
    "\n",
    "plt.plot(barbell.beta_star, label = 'true')\n",
    "plt.plot(beta, label = 'beta')\n",
    "plt.plot(beta_parallel, label = 'beta_terrible')\n",
    "\n",
    "plt.legend()\n",
    "\n",
    "print(np.max(la.norm(beta - barbell.beta_star)), np.max(la.norm(beta_parallel - barbell.beta_star)))\n"
   ]
  },
  {
   "cell_type": "code",
   "execution_count": null,
   "id": "16e3addd",
   "metadata": {},
   "outputs": [],
   "source": [
    "barbell = examples.BarbellGraph(length_chain = 70, size_clique = 70)\n",
    "\n",
    "X, y = gaussian_sample(10000, barbell.n_nodes, beta_star = barbell.beta_star, Psi = np.eye(barbell.n_nodes), sigma = 2)\n",
    "start_time = timeit.default_timer()\n",
    "beta, iters, comps = cgd_solver(X, y, barbell.incidence, lambda1 = 1, lambda2 = 2)\n",
    "end_time = timeit.default_timer()\n",
    "duration = end_time - start_time\n",
    "print(\"duration normal cgd:\", duration)\n",
    "print(\"iters normal cgd:\", iters)\n",
    "print(\"computations?\", comps)\n",
    "\n",
    "start_time = timeit.default_timer()\n",
    "beta_parallel, iters, update_loops = cgd_solver_parallel(X, y, barbell.incidence, lambda1 = 1, lambda2 = 2)\n",
    "end_time = timeit.default_timer()\n",
    "duration = end_time - start_time\n",
    "print(\"duration parallel cgd:\", duration)\n",
    "print(\"iters parallel cgd:\", iters)\n",
    "print(\"update_loops parallel cgd:\", update_loops)\n",
    "\n",
    "print(\"beta_normal\", beta)\n",
    "print(\"beta_parallel\", beta_parallel)\n",
    "print(\"normed diff normal\", la.norm(beta - barbell.beta_star)/np.sqrt(len(beta)))\n",
    "print(\"normed diff parallel\", la.norm(beta_parallel - barbell.beta_star)/np.sqrt(len(beta_parallel)))\n",
    "\n",
    "\n",
    "plt.plot(barbell.beta_star, label = 'true')\n",
    "plt.plot(beta, label = 'beta')\n",
    "plt.plot(beta_parallel, label = 'beta_terrible')\n",
    "\n",
    "plt.legend()\n",
    "\n",
    "print(np.max(la.norm(beta - barbell.beta_star)), np.max(la.norm(beta_parallel - barbell.beta_star)))\n"
   ]
  },
  {
   "cell_type": "code",
   "execution_count": 68,
   "id": "c74f5560",
   "metadata": {},
   "outputs": [
    {
     "name": "stderr",
     "output_type": "stream",
     "text": [
      "/Users/vvr/jupyter/network_regularisation_test/simulations/examples.py:65: FutureWarning: incidence_matrix will return a scipy.sparse array instead of a matrix in Networkx 3.0.\n",
      "  self.incidence = np.asarray(nx.incidence_matrix(self.G, oriented=True).T.todense())\n",
      "/Users/vvr/jupyter/network_regularisation_test/simulations/examples.py:68: FutureWarning: incidence_matrix will return a scipy.sparse array instead of a matrix in Networkx 3.0.\n",
      "  self.incidence = np.asarray(nx.incidence_matrix(self.G, oriented=True).T.todense())\n"
     ]
    }
   ],
   "source": [
    "barbell = examples.BarbellGraph(length_chain = 70, size_clique = 70)"
   ]
  },
  {
   "cell_type": "code",
   "execution_count": 69,
   "id": "7f219d2c",
   "metadata": {},
   "outputs": [
    {
     "data": {
      "text/plain": [
       "210"
      ]
     },
     "execution_count": 69,
     "metadata": {},
     "output_type": "execute_result"
    }
   ],
   "source": [
    "barbell.n_nodes\n"
   ]
  },
  {
   "cell_type": "code",
   "execution_count": 73,
   "id": "3cc0514e",
   "metadata": {},
   "outputs": [
    {
     "data": {
      "text/plain": [
       "2097"
      ]
     },
     "execution_count": 73,
     "metadata": {},
     "output_type": "execute_result"
    }
   ],
   "source": [
    "stairs.n_nodes"
   ]
  },
  {
   "cell_type": "code",
   "execution_count": 80,
   "id": "0a441969",
   "metadata": {},
   "outputs": [
    {
     "name": "stderr",
     "output_type": "stream",
     "text": [
      "/Users/vvr/jupyter/network_regularisation_test/simulations/examples.py:65: FutureWarning: incidence_matrix will return a scipy.sparse array instead of a matrix in Networkx 3.0.\n",
      "  self.incidence = np.asarray(nx.incidence_matrix(self.G, oriented=True).T.todense())\n",
      "/Users/vvr/jupyter/network_regularisation_test/simulations/examples.py:68: FutureWarning: incidence_matrix will return a scipy.sparse array instead of a matrix in Networkx 3.0.\n",
      "  self.incidence = np.asarray(nx.incidence_matrix(self.G, oriented=True).T.todense())\n"
     ]
    },
    {
     "data": {
      "text/plain": [
       "5621"
      ]
     },
     "execution_count": 80,
     "metadata": {},
     "output_type": "execute_result"
    }
   ],
   "source": [
    "barbell = examples.BarbellGraph(length_chain = 70, size_clique = 75)\n",
    "nx.number_of_edges(barbell.G)\n"
   ]
  },
  {
   "cell_type": "code",
   "execution_count": null,
   "id": "17408d0a",
   "metadata": {},
   "outputs": [],
   "source": [
    "barbell = examples.BarbellGraph(length_chain = 70, size_clique = 75)\n",
    "\n",
    "X, y = gaussian_sample(10000, barbell.n_nodes, beta_star = barbell.beta_star, Psi = np.eye(barbell.n_nodes), sigma = 2)\n",
    "start_time = timeit.default_timer()\n",
    "beta, iters, comps = cgd_solver(X, y, barbell.incidence, lambda1 = 1, lambda2 = 2)\n",
    "end_time = timeit.default_timer()\n",
    "duration = end_time - start_time\n",
    "print(\"duration normal cgd:\", duration)\n",
    "print(\"iters normal cgd:\", iters)\n",
    "print(\"computations?\", comps)\n",
    "\n",
    "start_time = timeit.default_timer()\n",
    "beta_parallel, iters, update_loops = cgd_solver_parallel(X, y, barbell.incidence, lambda1 = 1, lambda2 = 2)\n",
    "end_time = timeit.default_timer()\n",
    "duration = end_time - start_time\n",
    "print(\"duration parallel cgd:\", duration)\n",
    "print(\"iters parallel cgd:\", iters)\n",
    "print(\"update_loops parallel cgd:\", update_loops)\n",
    "\n",
    "print(\"beta_normal\", beta)\n",
    "print(\"beta_parallel\", beta_parallel)\n",
    "print(\"normed diff normal\", la.norm(beta - barbell.beta_star)/np.sqrt(len(beta)))\n",
    "print(\"normed diff parallel\", la.norm(beta_parallel - barbell.beta_star)/np.sqrt(len(beta_parallel)))\n",
    "\n",
    "\n",
    "plt.plot(barbell.beta_star, label = 'true')\n",
    "plt.plot(beta, label = 'beta')\n",
    "plt.plot(beta_parallel, label = 'beta_terrible')\n",
    "\n",
    "plt.legend()\n",
    "\n",
    "print(np.max(la.norm(beta - barbell.beta_star)), np.max(la.norm(beta_parallel - barbell.beta_star)))"
   ]
  },
  {
   "cell_type": "code",
   "execution_count": null,
   "id": "705c41fb",
   "metadata": {},
   "outputs": [],
   "source": []
  },
  {
   "cell_type": "code",
   "execution_count": 84,
   "id": "e4a644d7",
   "metadata": {
    "scrolled": true
   },
   "outputs": [
    {
     "name": "stdout",
     "output_type": "stream",
     "text": [
      "(220,) (220, 220)\n",
      "duration normal cgd: 5.628245926985983\n",
      "iters normal cgd: 15\n",
      "computations? 84315\n",
      "Iterations exceed max_it\n",
      "duration parallel cgd: 83.49897339500603\n",
      "iters parallel cgd: 300000\n",
      "update_loops parallel cgd: 5999980\n",
      "beta_normal [-2.61005279e-02  8.32919336e-03  3.75275774e-02  8.51348693e-03\n",
      " -1.34029539e-02  1.07410851e-02 -2.34510305e-02 -1.41689286e-03\n",
      "  1.29929289e-02 -2.81345596e-02  2.01803782e-02  2.38510383e-03\n",
      " -1.12066137e-03  1.69066658e-02  1.55206169e-03 -2.14513549e-02\n",
      "  2.38510383e-03  4.14037523e-03 -1.41689285e-03  3.53547337e-04\n",
      "  8.32919327e-03  1.29929289e-02 -8.40808612e-03 -5.03892185e-04\n",
      " -1.82218310e-02  1.07410851e-02  3.45006757e-02  8.32919320e-03\n",
      "  4.62282165e-03 -1.45174207e-02  3.15664283e-02  8.32919317e-03\n",
      "  1.67660456e-02 -9.67691548e-04  3.53547349e-04 -4.32116865e-03\n",
      " -1.17256179e-03  1.75287656e-02  1.07410851e-02 -8.40729718e-03\n",
      "  7.10611378e-03  1.28240536e-02  2.38510382e-03 -5.03892187e-04\n",
      "  1.70165293e-03  8.32919317e-03 -3.57456833e-03 -9.11142146e-03\n",
      "  1.59577713e-02 -2.65436160e-02  3.53547348e-04 -1.41689285e-03\n",
      "  1.38478065e-02 -1.19663158e-02 -2.24217977e-02 -3.57456832e-03\n",
      "  1.01669055e-02 -1.19631268e-02  3.00476343e-02  1.29929289e-02\n",
      "  1.07410851e-02  5.10185971e-04 -1.17256179e-03  2.38510381e-03\n",
      "  1.98806740e-02  2.38510382e-03 -2.10051779e-02  7.10611379e-03\n",
      "  9.93976522e-03  1.41920505e-02 -8.40729718e-03  8.22473110e-03\n",
      "  4.12559437e-02  2.64679396e-02  8.22473110e-03 -3.99277896e-02\n",
      " -2.73059030e-02 -7.99245858e-03 -7.20130741e-04  3.10052927e-02\n",
      "  1.07329466e-02  1.58706336e-02  1.69727824e-02  3.55912775e-02\n",
      "  5.80853468e-02  6.21705241e-02  7.27081405e-02  8.10181760e-02\n",
      "  1.26706891e-01  9.77436765e-02  1.27232464e-01  1.27232464e-01\n",
      "  1.51707368e-01  1.58503020e-01  1.80013923e-01  2.02300071e-01\n",
      "  1.85876152e-01  2.60983133e-01  2.41249017e-01  2.41249017e-01\n",
      "  2.89525968e-01  3.13102746e-01  3.55638482e-01  3.33955893e-01\n",
      "  3.98818914e-01  3.55525995e-01  4.33795583e-01  4.42930326e-01\n",
      "  4.59336458e-01  5.13437219e-01  4.95988537e-01  4.78242750e-01\n",
      "  5.44453512e-01  5.82442016e-01  6.05982264e-01  6.05671054e-01\n",
      "  6.29905039e-01  6.49426518e-01  6.94131147e-01  6.93616087e-01\n",
      "  7.60091752e-01  7.42885590e-01  7.52009245e-01  7.92607219e-01\n",
      "  7.66463961e-01  8.54245543e-01  8.87876707e-01  8.54316130e-01\n",
      "  8.42994021e-01  8.67426786e-01  9.17173975e-01  8.92223203e-01\n",
      "  9.22823792e-01  9.22980500e-01  9.54053060e-01  9.78281469e-01\n",
      "  9.72744519e-01  9.75184207e-01  9.68854023e-01  1.01753841e+00\n",
      "  9.60823765e-01  9.89344177e-01  9.94133876e-01  9.97644338e-01\n",
      "  1.03162469e+00  9.99322855e-01  9.96438433e-01  9.85515243e-01\n",
      "  9.94665748e-01  9.94154289e-01  9.90014247e-01  9.86224202e-01\n",
      "  9.98223994e-01  9.97553804e-01  1.02785365e+00  9.91453114e-01\n",
      "  1.00040738e+00  9.69973535e-01  9.88821742e-01  9.98223994e-01\n",
      "  9.98223994e-01  9.91453114e-01  1.00385880e+00  9.91557721e-01\n",
      "  1.02402889e+00  1.00417726e+00  1.02036953e+00  1.00417726e+00\n",
      "  9.94710690e-01  9.85607252e-01  1.02324308e+00  1.01399360e+00\n",
      "  9.96438433e-01  9.98223994e-01  1.00818443e+00  9.78557321e-01\n",
      "  1.02776766e+00  9.80069486e-01  9.97841048e-01  9.87986411e-01\n",
      "  1.02785009e+00  9.98181469e-01  1.03754237e+00  9.83798010e-01\n",
      "  9.84888848e-01  1.01169977e+00  9.96438433e-01  9.66818024e-01\n",
      "  9.86224202e-01  1.02401113e+00  9.85537909e-01  9.97553804e-01\n",
      "  1.01224481e+00  1.00863238e+00  1.01224481e+00  1.01617884e+00\n",
      "  9.92597863e-01  9.92597863e-01  1.01528618e+00  9.97326919e-01\n",
      "  9.98223994e-01  1.03423154e+00  1.00606695e+00  9.92597863e-01\n",
      "  9.92235568e-01  9.96438433e-01  9.94481174e-01  9.92320897e-01\n",
      "  9.96237524e-01  1.00040738e+00  1.03617928e+00  1.00072846e+00\n",
      "  9.85515243e-01  1.01878417e+00  1.00053237e+00  9.97612642e-01\n",
      "  1.00636110e+00  9.93722218e-01  9.85515243e-01  9.93722218e-01]\n",
      "beta_parallel [ 1.63273611e+36  1.06105335e+36  1.66543488e+36  6.93110423e+35\n",
      "  1.24547083e+36  1.58902578e+36  1.44019303e+36  1.17308235e+36\n",
      "  1.23317639e+36  9.44956469e+35  2.43375320e+34  1.00994901e+36\n",
      " -2.34415207e+35  1.30840504e+35  1.63036141e+35 -8.25249820e+34\n",
      "  2.03888590e+34  4.31511429e+35  2.31342250e+34  1.28837405e+35\n",
      " -1.17468298e+35 -4.79731984e+34 -4.26811834e+34  2.95161207e+35\n",
      "  5.73741686e+35  2.86735255e+34 -1.07822349e+35  1.70161013e+35\n",
      " -5.45744696e+35 -2.20163440e+35 -1.71285132e+35 -2.12395650e+35\n",
      "  6.31246954e+35  4.55278589e+35 -1.10881015e+35 -2.32976900e+35\n",
      "  5.64566047e+35 -3.21687861e+35  7.64385361e+34  5.30474998e+35\n",
      "  3.22024557e+35 -9.59855992e+34  1.83736012e+35 -2.12430171e+35\n",
      "  2.10782418e+35 -2.41751055e+34 -1.77688078e+35 -1.46578048e+35\n",
      " -4.34829968e+34 -4.20580346e+35 -1.37186295e+35 -4.93264401e+35\n",
      "  2.21626218e+35 -6.34579586e+34 -3.39526587e+35 -1.08871091e+36\n",
      " -1.12434270e+36 -3.66559257e+35 -2.04496848e+35 -9.78038099e+35\n",
      " -9.21328852e+35 -2.13689276e+35 -1.41278659e+35 -9.31437844e+35\n",
      " -1.33598314e+36 -5.12086391e+35 -6.02791533e+35 -2.12956290e+35\n",
      " -1.71276553e+36 -3.55901753e+35 -6.42177389e+35 -1.32211531e+36\n",
      " -7.70702238e+35 -8.36146743e+35 -1.53774303e+35 -1.02789333e+35\n",
      " -9.05443662e+34 -1.34936494e+35  6.62032087e+34  1.48466819e+35\n",
      "  1.13607696e+34  8.39178430e+34  4.39736866e+34  1.92922345e+33\n",
      "  9.06969575e+34  1.39785796e+35 -1.58826864e+34  2.30430246e+35\n",
      " -1.63673743e+34  6.95258722e+33  4.57475443e+34  2.83985315e+34\n",
      " -1.05741041e+35  3.02661465e+34  1.02041967e+35  9.34039810e+34\n",
      "  8.54722283e+34 -7.03594640e+34 -3.87623823e+34 -5.63616199e+34\n",
      " -1.46461568e+35 -4.81502827e+34 -9.36151595e+34  5.46408901e+34\n",
      "  9.48760155e+34  5.41021460e+34 -4.76142609e+34 -6.77168079e+33\n",
      " -7.47873158e+34 -7.08230587e+33  3.75082652e+33  1.57286831e+35\n",
      " -6.71603637e+34  7.28840145e+34  8.84655542e+34  1.31015363e+35\n",
      "  9.64331652e+34  2.04296777e+34 -5.71413605e+34  1.63738015e+35\n",
      " -5.54223551e+34 -7.25162808e+34 -5.84145733e+34  1.45646142e+35\n",
      "  9.65206711e+34  7.28248729e+34 -7.34553107e+34 -2.33439308e+34\n",
      "  7.99585208e+34 -6.63473283e+33  4.01905616e+34  1.48976767e+34\n",
      "  1.73677011e+35 -8.37912950e+33 -3.92091779e+34 -3.25948465e+34\n",
      "  1.68637785e+34 -7.97312008e+34 -1.11936803e+34  1.04108212e+35\n",
      "  4.57469668e+33 -6.37688945e+34 -1.19709135e+35 -8.84711500e+34\n",
      "  4.74583058e+34  3.80547470e+35  1.04690434e+36  1.43039070e+36\n",
      "  1.26771395e+35  1.89563162e+36  1.42942698e+35  9.76009026e+35\n",
      "  7.58026306e+35 -2.02572606e+35  6.14872275e+32  1.81890215e+35\n",
      "  8.66344393e+35  8.04874710e+34  7.00649076e+35  1.43370862e+35\n",
      "  5.26367222e+35  3.07202468e+35  8.33061231e+35  3.68099645e+34\n",
      " -6.41542261e+34  2.20316009e+35 -6.09464211e+34  2.31829611e+35\n",
      "  2.92374455e+35  1.53837653e+35 -1.20699471e+35  8.06901690e+35\n",
      " -5.21387661e+34  2.58519496e+35 -1.89294091e+35  6.68888816e+35\n",
      "  2.42786642e+35  1.38131633e+35 -2.65555758e+35 -1.77146991e+35\n",
      "  1.40002241e+35  2.85355438e+35  1.02999890e+35  3.10784901e+35\n",
      "  6.10541308e+33  1.86273837e+35 -4.29494207e+34  1.82435058e+35\n",
      "  6.36269501e+33  1.67527427e+35 -4.19285321e+33 -3.75093007e+35\n",
      " -5.52235764e+34  2.50789002e+35 -5.96110452e+35  2.17033929e+35\n",
      " -3.49476620e+35 -3.27778145e+35 -3.47864394e+34  2.86887974e+35\n",
      "  8.78955056e+34 -6.13507553e+35 -8.83643499e+35 -5.84700140e+35\n",
      " -2.73477851e+35 -4.30541763e+35  1.77793696e+35 -1.14743427e+35\n",
      " -1.78323278e+35 -1.02117833e+35  2.73541529e+35 -2.92790325e+35\n",
      " -4.73956979e+35 -6.78045436e+34 -2.11837081e+36 -1.79592355e+36\n",
      "  2.18752083e+35 -4.21897352e+35 -3.84073559e+36 -1.68628359e+36]\n",
      "normed diff normal 0.016759460391476855\n",
      "normed diff parallel 5.9477879081591644e+35\n",
      "0.2485829695996207 8.821995137211175e+36\n"
     ]
    },
    {
     "data": {
      "image/png": "[encoded data removed]",
      "text/plain": [
       "<Figure size 432x288 with 1 Axes>"
      ]
     },
     "metadata": {
      "needs_background": "light"
     },
     "output_type": "display_data"
    }
   ],
   "source": [
    "barbell = examples.BarbellGraph(length_chain = 70, size_clique = 75)\n",
    "n =10000\n",
    "sigma = 2\n",
    "rho_gamma = 1\n",
    "lambda1 = 32* sigma  * np.sqrt(np.log(barbell.n_nodes)/n)\n",
    "lambda2 = lambda1\n",
    "\n",
    "X, y = gaussian_sample(n, barbell.n_nodes, \n",
    "                       beta_star = barbell.beta_star, Psi = np.eye(barbell.n_nodes), sigma = sigma)\n",
    "start_time = timeit.default_timer()\n",
    "beta, iters, comps = cgd_solver(X, y, barbell.incidence, lambda1 = lambda1, lambda2 = lambda2)\n",
    "end_time = timeit.default_timer()\n",
    "duration = end_time - start_time\n",
    "print(\"duration normal cgd:\", duration)\n",
    "print(\"iters normal cgd:\", iters)\n",
    "print(\"computations?\", comps)\n",
    "\n",
    "start_time = timeit.default_timer()\n",
    "beta_parallel, iters, update_loops = cgd_solver_parallel(X, y, barbell.incidence, \n",
    "                                                         lambda1 = lambda1, lambda2 = lambda2)\n",
    "end_time = timeit.default_timer()\n",
    "duration = end_time - start_time\n",
    "print(\"duration parallel cgd:\", duration)\n",
    "print(\"iters parallel cgd:\", iters)\n",
    "print(\"update_loops parallel cgd:\", update_loops)\n",
    "\n",
    "print(\"beta_normal\", beta)\n",
    "print(\"beta_parallel\", beta_parallel)\n",
    "print(\"normed diff normal\", la.norm(beta - barbell.beta_star)/np.sqrt(len(beta)))\n",
    "print(\"normed diff parallel\", la.norm(beta_parallel - barbell.beta_star)/np.sqrt(len(beta_parallel)))\n",
    "\n",
    "\n",
    "plt.plot(barbell.beta_star, label = 'true')\n",
    "plt.plot(beta, label = 'beta')\n",
    "plt.plot(beta_parallel, label = 'beta_terrible')\n",
    "\n",
    "plt.legend()\n",
    "\n",
    "print(np.max(la.norm(beta - barbell.beta_star)), np.max(la.norm(beta_parallel - barbell.beta_star)))"
   ]
  },
  {
   "cell_type": "code",
   "execution_count": 16,
   "id": "96666943",
   "metadata": {},
   "outputs": [
    {
     "name": "stdout",
     "output_type": "stream",
     "text": [
      "(67,) (67, 67)\n"
     ]
    }
   ],
   "source": [
    "X, y = gaussian_sample(25000, stairs.n_nodes, beta_star = stairs.beta_star, Psi = stairs.Psi, sigma = 1)"
   ]
  },
  {
   "cell_type": "code",
   "execution_count": 17,
   "id": "335ad9b1",
   "metadata": {},
   "outputs": [
    {
     "data": {
      "text/plain": [
       "(25000, 67)"
      ]
     },
     "execution_count": 17,
     "metadata": {},
     "output_type": "execute_result"
    }
   ],
   "source": [
    "np.shape(X)"
   ]
  },
  {
   "cell_type": "code",
   "execution_count": 18,
   "id": "e00c4ea9",
   "metadata": {},
   "outputs": [
    {
     "data": {
      "text/plain": [
       "25000"
      ]
     },
     "execution_count": 18,
     "metadata": {},
     "output_type": "execute_result"
    }
   ],
   "source": [
    "len(X)"
   ]
  },
  {
   "cell_type": "code",
   "execution_count": 19,
   "id": "f21d9606",
   "metadata": {},
   "outputs": [
    {
     "data": {
      "text/plain": [
       "(25000,)"
      ]
     },
     "execution_count": 19,
     "metadata": {},
     "output_type": "execute_result"
    }
   ],
   "source": [
    "np.shape(y)"
   ]
  },
  {
   "cell_type": "code",
   "execution_count": 20,
   "id": "38fb5bc9",
   "metadata": {},
   "outputs": [],
   "source": [
    "def cgd_solver_parallel(X, y, Gamma, lambda1, lambda2, weight = 5, processors = 20, eps = 1e-5, max_it = 300000):\n",
    "    m, p = Gamma.shape\n",
    "    X_til, y_til = np.vstack((X, np.sqrt(2*lambda2) * Gamma)), np.concatenate((y, np.zeros(m)))\n",
    "    X_til_pinv = la.pinv(X_til)\n",
    "\n",
    "    y_v = X_til @ X_til_pinv @ y_til\n",
    "    Gamma_v = Gamma @ X_til_pinv\n",
    "    Q = Gamma_v @ Gamma_v.T\n",
    "    b = Gamma_v @ y_v\n",
    "    \n",
    "    single_blocks = np.arange(m)\n",
    "    max_vals = [max(Q[i]) for i in range(Q.shape[0])]\n",
    "    \n",
    "    \n",
    "    u = np.zeros(m)\n",
    "    n_iter = 0\n",
    "    update_loops = 0\n",
    "    prev_u = 0 # For stopping criteria\n",
    "    while True:\n",
    "        n_iter += 1\n",
    "        if n_iter >= max_it:\n",
    "            #raise ValueError(\"Iterations exceed max_it\")\n",
    "            print(\"Iterations exceed max_it\")\n",
    "            return (X_til_pinv @ (y_v - Gamma_v.T @ u)), n_iter, update_loops\n",
    "        updates = []\n",
    "\n",
    "        samples = np.random.choice(single_blocks, processors, replace = False)\n",
    "        for i in samples: \n",
    "            update_loops +=1\n",
    "            t = -(np.dot(Q[i], u) + b[i])/(processors*max_vals[i])\n",
    "            updates.append((i, t))\n",
    "            \n",
    "        #print(np.shape(samples))\n",
    "        \n",
    "        for pair in updates:\n",
    "            index = pair[0]\n",
    "            update = pair[1]\n",
    "            u[index] = np.sign(u[index] + update) * min(u[index] + update, lambda1)\n",
    "            \n",
    "                #break\n",
    "            \n",
    "            #there should be better truncation methods\n",
    "            \n",
    "        if la.norm(u - prev_u) <= eps:\n",
    "            break\n",
    "\n",
    "        prev_u = np.copy(u)   # Recall array is similar to list\n",
    "\n",
    "    beta = X_til_pinv @ (y_v - Gamma_v.T @ u)\n",
    "    return beta, n_iter, update_loops"
   ]
  },
  {
   "cell_type": "code",
   "execution_count": 27,
   "id": "bc3323a4",
   "metadata": {},
   "outputs": [
    {
     "name": "stderr",
     "output_type": "stream",
     "text": [
      "/Users/vvr/jupyter/network_regularisation_test/simulations/examples.py:55: FutureWarning: incidence_matrix will return a scipy.sparse array instead of a matrix in Networkx 3.0.\n",
      "  self.incidence = np.asarray(nx.incidence_matrix(self.G, oriented=True).T.todense())\n"
     ]
    }
   ],
   "source": [
    "stairs = examples.SmoothStair(n_repeat= 500)"
   ]
  },
  {
   "cell_type": "code",
   "execution_count": 28,
   "id": "a6440d5f",
   "metadata": {},
   "outputs": [
    {
     "data": {
      "text/plain": [
       "3497"
      ]
     },
     "execution_count": 28,
     "metadata": {},
     "output_type": "execute_result"
    }
   ],
   "source": [
    "stairs.n_nodes"
   ]
  },
  {
   "cell_type": "code",
   "execution_count": 32,
   "id": "3e857598",
   "metadata": {},
   "outputs": [
    {
     "name": "stderr",
     "output_type": "stream",
     "text": [
      "/Users/vvr/jupyter/network_regularisation_test/simulations/examples.py:55: FutureWarning: incidence_matrix will return a scipy.sparse array instead of a matrix in Networkx 3.0.\n",
      "  self.incidence = np.asarray(nx.incidence_matrix(self.G, oriented=True).T.todense())\n"
     ]
    },
    {
     "name": "stdout",
     "output_type": "stream",
     "text": [
      "(3497,) (3497, 3497)\n",
      "duration normal cgd: 24.231293628000003\n",
      "iters normal cgd: 6\n",
      "computations? 20976\n",
      "duration parallel cgd: 31.907744768000157\n",
      "iters parallel cgd: 36002\n",
      "update_loops parallel cgd: 720040\n",
      "beta_normal [   3.24488061    3.24488061    3.24488061 ... 1499.01616864 1499.1125007\n",
      " 1499.1125007 ]\n",
      "beta_parallel [   3.02732029    2.7699964     2.77471217 ... 1499.31697203 1499.56083675\n",
      " 1499.56624721]\n",
      "normed diff normal 0.7293286505750544\n",
      "normed diff parallel 0.7277251457582665\n",
      "43.12916902842037 43.0343450691167\n"
     ]
    },
    {
     "data": {
      "image/png": "[encoded data removed]",
      "text/plain": [
       "<Figure size 432x288 with 1 Axes>"
      ]
     },
     "metadata": {
      "needs_background": "light"
     },
     "output_type": "display_data"
    }
   ],
   "source": [
    "stairs = examples.SmoothStair(n_repeat= 500)\n",
    "\n",
    "X, y = gaussian_sample(500, stairs.n_nodes, beta_star = stairs.beta_star, Psi = stairs.Psi, sigma = 2)\n",
    "start_time = timeit.default_timer()\n",
    "beta, iters, comps = cgd_solver(X, y, stairs.incidence, lambda1 = 1, lambda2 = 2)\n",
    "end_time = timeit.default_timer()\n",
    "duration = end_time - start_time\n",
    "print(\"duration normal cgd:\", duration)\n",
    "print(\"iters normal cgd:\", iters)\n",
    "print(\"computations?\", comps)\n",
    "\n",
    "start_time = timeit.default_timer()\n",
    "beta_parallel, iters, update_loops = cgd_solver_parallel(X, y, stairs.incidence, lambda1 = 1, lambda2 = 2)\n",
    "end_time = timeit.default_timer()\n",
    "duration = end_time - start_time\n",
    "print(\"duration parallel cgd:\", duration)\n",
    "print(\"iters parallel cgd:\", iters)\n",
    "print(\"update_loops parallel cgd:\", update_loops)\n",
    "\n",
    "print(\"beta_normal\", beta)\n",
    "print(\"beta_parallel\", beta_parallel)\n",
    "print(\"normed diff normal\", la.norm(beta - stairs.beta_star)/np.sqrt(len(beta)))\n",
    "print(\"normed diff parallel\", la.norm(beta_parallel - stairs.beta_star)/np.sqrt(len(beta_parallel)))\n",
    "\n",
    "\n",
    "plt.plot(stairs.beta_star, label = 'true')\n",
    "plt.plot(beta, label = 'beta')\n",
    "plt.plot(beta_parallel, label = 'beta_parallel')\n",
    "\n",
    "plt.legend()\n",
    "\n",
    "print(np.max(la.norm(beta - stairs.beta_star)), np.max(la.norm(beta_parallel - stairs.beta_star)))"
   ]
  },
  {
   "cell_type": "code",
   "execution_count": null,
   "id": "b500747a",
   "metadata": {},
   "outputs": [],
   "source": []
  },
  {
   "cell_type": "code",
   "execution_count": null,
   "id": "43c5266e",
   "metadata": {},
   "outputs": [],
   "source": []
  },
  {
   "cell_type": "code",
   "execution_count": null,
   "id": "560285a1",
   "metadata": {},
   "outputs": [],
   "source": []
  },
  {
   "cell_type": "code",
   "execution_count": null,
   "id": "9f8bcb6d",
   "metadata": {},
   "outputs": [],
   "source": []
  },
  {
   "cell_type": "code",
   "execution_count": null,
   "id": "f8edef54",
   "metadata": {},
   "outputs": [],
   "source": []
  },
  {
   "cell_type": "code",
   "execution_count": null,
   "id": "f718a560",
   "metadata": {},
   "outputs": [],
   "source": [
    "def cgd_solver_parallel(X, y, Gamma, lambda1, lambda2, weight = 5, processors = 20, eps = 1e-5, max_it = 300000):"
   ]
  },
  {
   "cell_type": "code",
   "execution_count": 22,
   "id": "dd2cb782",
   "metadata": {},
   "outputs": [
    {
     "name": "stdout",
     "output_type": "stream",
     "text": [
      "(67,) (67, 67)\n"
     ]
    },
    {
     "ename": "ValueError",
     "evalue": "too many values to unpack (expected 2)",
     "output_type": "error",
     "traceback": [
      "\u001b[0;31m---------------------------------------------------------------------------\u001b[0m",
      "\u001b[0;31mValueError\u001b[0m                                Traceback (most recent call last)",
      "\u001b[0;32m/var/folders/19/sxn1rm81105bg9w40cjxr_kc0000gn/T/ipykernel_19292/3155066554.py\u001b[0m in \u001b[0;36m<module>\u001b[0;34m\u001b[0m\n\u001b[1;32m      1\u001b[0m \u001b[0mX\u001b[0m\u001b[0;34m,\u001b[0m \u001b[0my\u001b[0m \u001b[0;34m=\u001b[0m \u001b[0mgaussian_sample\u001b[0m\u001b[0;34m(\u001b[0m\u001b[0;36m10000\u001b[0m\u001b[0;34m,\u001b[0m \u001b[0mstairs\u001b[0m\u001b[0;34m.\u001b[0m\u001b[0mn_nodes\u001b[0m\u001b[0;34m,\u001b[0m \u001b[0mbeta_star\u001b[0m \u001b[0;34m=\u001b[0m \u001b[0mstairs\u001b[0m\u001b[0;34m.\u001b[0m\u001b[0mbeta_star\u001b[0m\u001b[0;34m,\u001b[0m \u001b[0mPsi\u001b[0m \u001b[0;34m=\u001b[0m \u001b[0mstairs\u001b[0m\u001b[0;34m.\u001b[0m\u001b[0mPsi\u001b[0m\u001b[0;34m,\u001b[0m \u001b[0msigma\u001b[0m \u001b[0;34m=\u001b[0m \u001b[0;36m5\u001b[0m\u001b[0;34m)\u001b[0m\u001b[0;34m\u001b[0m\u001b[0;34m\u001b[0m\u001b[0m\n\u001b[1;32m      2\u001b[0m \u001b[0mstart_time\u001b[0m \u001b[0;34m=\u001b[0m \u001b[0mtimeit\u001b[0m\u001b[0;34m.\u001b[0m\u001b[0mdefault_timer\u001b[0m\u001b[0;34m(\u001b[0m\u001b[0;34m)\u001b[0m\u001b[0;34m\u001b[0m\u001b[0;34m\u001b[0m\u001b[0m\n\u001b[0;32m----> 3\u001b[0;31m \u001b[0mbeta\u001b[0m\u001b[0;34m,\u001b[0m \u001b[0miters\u001b[0m \u001b[0;34m=\u001b[0m \u001b[0mcgd_solver\u001b[0m\u001b[0;34m(\u001b[0m\u001b[0mX\u001b[0m\u001b[0;34m,\u001b[0m \u001b[0my\u001b[0m\u001b[0;34m,\u001b[0m \u001b[0mstairs\u001b[0m\u001b[0;34m.\u001b[0m\u001b[0mincidence\u001b[0m\u001b[0;34m,\u001b[0m \u001b[0mlambda1\u001b[0m \u001b[0;34m=\u001b[0m \u001b[0;36m1\u001b[0m\u001b[0;34m,\u001b[0m \u001b[0mlambda2\u001b[0m \u001b[0;34m=\u001b[0m \u001b[0;36m2\u001b[0m\u001b[0;34m)\u001b[0m\u001b[0;34m\u001b[0m\u001b[0;34m\u001b[0m\u001b[0m\n\u001b[0m\u001b[1;32m      4\u001b[0m \u001b[0mend_time\u001b[0m \u001b[0;34m=\u001b[0m \u001b[0mtimeit\u001b[0m\u001b[0;34m.\u001b[0m\u001b[0mdefault_timer\u001b[0m\u001b[0;34m(\u001b[0m\u001b[0;34m)\u001b[0m\u001b[0;34m\u001b[0m\u001b[0;34m\u001b[0m\u001b[0m\n\u001b[1;32m      5\u001b[0m \u001b[0mduration\u001b[0m \u001b[0;34m=\u001b[0m \u001b[0mend_time\u001b[0m \u001b[0;34m-\u001b[0m \u001b[0mstart_time\u001b[0m\u001b[0;34m\u001b[0m\u001b[0;34m\u001b[0m\u001b[0m\n",
      "\u001b[0;31mValueError\u001b[0m: too many values to unpack (expected 2)"
     ]
    }
   ],
   "source": [
    "X, y = gaussian_sample(10000, stairs.n_nodes, beta_star = stairs.beta_star, Psi = stairs.Psi, sigma = 5)\n",
    "start_time = timeit.default_timer()\n",
    "beta, iters = cgd_solver(X, y, stairs.incidence, lambda1 = 1, lambda2 = 2)\n",
    "end_time = timeit.default_timer()\n",
    "duration = end_time - start_time\n",
    "print(\"duration normal cgd:\", duration)\n",
    "print(\"iters normal cgd:\", iters)\n",
    "\n",
    "start_time = timeit.default_timer()\n",
    "beta_terrible, iters, update_loops = cgd_solver_terrible(X, y, stairs.incidence, lambda1 = 1, lambda2 = 2)\n",
    "end_time = timeit.default_timer()\n",
    "duration = end_time - start_time\n",
    "print(\"duration parallel cgd:\", duration)\n",
    "print(\"iters parallel cgd:\", iters)\n",
    "print(\"update_loops parallel cgd:\", iters)\n",
    "\n",
    "print(\"beta_normal\", beta)\n",
    "print(\"beta_parallel\", beta_terrible)\n",
    "print(\"normed diff\", la.norm(beta - beta_terrible)/np.sqrt(len(beta)))\n",
    "\n",
    "plt.plot(beta, label = 'beta')\n",
    "plt.plot(stairs.beta_star, label = 'true')\n",
    "plt.plot(beta_terrible, label = 'beta_terrible')\n",
    "\n",
    "plt.legend()\n"
   ]
  },
  {
   "cell_type": "code",
   "execution_count": 85,
   "id": "73e3d87b",
   "metadata": {},
   "outputs": [
    {
     "name": "stdout",
     "output_type": "stream",
     "text": [
      "(60,) (60, 60)\n",
      "401\n",
      "duration normal cgd: 0.12652880599989658\n",
      "iters normal cgd: 20\n",
      "duration parallel cgd: 0.02012474299999667\n",
      "iters parallel cgd: 172\n",
      "update_loops parallel cgd: 172\n",
      "beta_normal [ 0.0051389   0.01166059  0.01166059  0.00628201  0.00242454  0.01166059\n",
      "  0.01945721  0.01166059  0.04858836  0.01166059  0.01166059  0.01166059\n",
      "  0.01166059  0.00628201  0.01166058  0.01166058  0.01166059  0.01001487\n",
      "  0.01166059 -0.01421972  0.04565786 -0.05372455  0.11782404  0.07353808\n",
      "  0.10724707  0.21017127  0.21787502  0.31126075  0.43625994  0.51892958\n",
      "  0.51892958  0.54559888  0.72314989  0.78702999  0.78702999  0.84313944\n",
      "  0.95616853  0.95794826  0.98604706  1.03387929  0.98655704  1.00710961\n",
      "  1.01503625  1.01711492  1.01255573  1.01711492  1.0032441   1.01503625\n",
      "  1.0032441   1.00324409  1.00324409  1.01711492  1.00324409  0.9990286\n",
      "  1.00324409  1.00324409  1.00324409  1.00324409  1.01711492  1.00324409]\n",
      "beta_parallel [ 0.00710153  0.01411992  0.05252002  0.01697053 -0.01482767  0.01428607\n",
      "  0.05413529  0.00709069  0.06988602  0.0303167   0.0088096   0.02166297\n",
      "  0.01610543 -0.02167886  0.03755522  0.01693551 -0.02272802 -0.00651421\n",
      "  0.02604492 -0.07394602  0.05525169 -0.05629805  0.12028911  0.07007742\n",
      "  0.11368988  0.21807452  0.22420629  0.32226652  0.42671425  0.51023626\n",
      "  0.52251566  0.54438779  0.70672633  0.77559517  0.78151078  0.8480824\n",
      "  0.95666789  0.9493687   0.99949284  1.03729149  0.98643046  1.02875313\n",
      "  1.05018466  1.06227614  1.04408137  1.05900106  0.98002716  1.04114601\n",
      "  0.99036779  0.98433698  0.97615472  1.04941776  0.97334747  0.95407709\n",
      "  0.98835768  0.97176614  0.98778303  0.97701744  1.01250642  1.00182971]\n",
      "normed diff 0.02134477565307928\n"
     ]
    },
    {
     "data": {
      "text/plain": [
       "<matplotlib.legend.Legend at 0x143397e50>"
      ]
     },
     "execution_count": 85,
     "metadata": {},
     "output_type": "execute_result"
    },
    {
     "data": {
      "image/png": "[encoded data removed]",
      "text/plain": [
       "<Figure size 432x288 with 1 Axes>"
      ]
     },
     "metadata": {
      "needs_background": "light"
     },
     "output_type": "display_data"
    }
   ],
   "source": [
    "X, y = gaussian_sample(500, barbell.n_nodes, beta_star = barbell.beta_star, Psi = np.eye(barbell.n_nodes), sigma = 1)\n",
    "start_time = timeit.default_timer()\n",
    "beta, iters = cgd_solver(X, y, barbell.incidence, lambda1 = 1, lambda2 = 2)\n",
    "end_time = timeit.default_timer()\n",
    "duration = end_time - start_time\n",
    "print(\"duration normal cgd:\", duration)\n",
    "print(\"iters normal cgd:\", iters)\n",
    "\n",
    "start_time = timeit.default_timer()\n",
    "beta_terrible, iters, update_loops = cgd_solver_terrible(X, y, barbell.incidence, lambda1 = 1, lambda2 = 2)\n",
    "end_time = timeit.default_timer()\n",
    "duration = end_time - start_time\n",
    "print(\"duration parallel cgd:\", duration)\n",
    "print(\"iters parallel cgd:\", iters)\n",
    "print(\"update_loops parallel cgd:\", iters)\n",
    "\n",
    "print(\"beta_normal\", beta)\n",
    "print(\"beta_parallel\", beta_terrible)\n",
    "print(\"normed diff\", la.norm(beta - beta_terrible)/np.sqrt(len(beta)))\n",
    "\n",
    "plt.plot(beta, label = 'beta')\n",
    "plt.plot(stairs.beta_star, label = 'true')\n",
    "plt.plot(beta_terrible, label = 'beta_terrible')\n",
    "\n",
    "plt.legend()\n"
   ]
  },
  {
   "cell_type": "markdown",
   "id": "e070dac1",
   "metadata": {},
   "source": [
    "improves when you decrease the step size (error)"
   ]
  },
  {
   "cell_type": "markdown",
   "id": "84acceac",
   "metadata": {},
   "source": [
    "norm current vs norm previous on with few processors does terribly compared to many processors"
   ]
  },
  {
   "cell_type": "markdown",
   "id": "734b1c33",
   "metadata": {},
   "source": [
    "does better when n gets higher"
   ]
  },
  {
   "cell_type": "code",
   "execution_count": 58,
   "id": "c8cc7456",
   "metadata": {
    "scrolled": false
   },
   "outputs": [
    {
     "data": {
      "text/plain": [
       "<matplotlib.legend.Legend at 0x13709d6c0>"
      ]
     },
     "execution_count": 58,
     "metadata": {},
     "output_type": "execute_result"
    },
    {
     "data": {
      "image/png": "[encoded data removed]",
      "text/plain": [
       "<Figure size 432x288 with 1 Axes>"
      ]
     },
     "metadata": {
      "needs_background": "light"
     },
     "output_type": "display_data"
    }
   ],
   "source": [
    "plt.plot(beta, label = 'beta')\n",
    "plt.plot(stairs.beta_star, label = 'true')\n",
    "plt.plot(beta_terrible, label = 'beta_terrible')\n",
    "\n",
    "plt.legend()"
   ]
  },
  {
   "cell_type": "code",
   "execution_count": null,
   "id": "f3bebea3",
   "metadata": {},
   "outputs": [],
   "source": []
  },
  {
   "cell_type": "code",
   "execution_count": null,
   "id": "d05ae954",
   "metadata": {},
   "outputs": [],
   "source": []
  },
  {
   "cell_type": "code",
   "execution_count": null,
   "id": "ec96cd3d",
   "metadata": {},
   "outputs": [],
   "source": []
  },
  {
   "cell_type": "code",
   "execution_count": null,
   "id": "4c7839d5",
   "metadata": {},
   "outputs": [],
   "source": []
  },
  {
   "cell_type": "code",
   "execution_count": null,
   "id": "45ca5be2",
   "metadata": {},
   "outputs": [],
   "source": []
  },
  {
   "cell_type": "code",
   "execution_count": null,
   "id": "04742ebe",
   "metadata": {},
   "outputs": [],
   "source": []
  },
  {
   "cell_type": "code",
   "execution_count": null,
   "id": "7e3b2498",
   "metadata": {
    "scrolled": true
   },
   "outputs": [],
   "source": [
    "plt.plot(stairs.beta_star)"
   ]
  },
  {
   "cell_type": "code",
   "execution_count": null,
   "id": "16539b0f",
   "metadata": {},
   "outputs": [],
   "source": [
    "beta"
   ]
  },
  {
   "cell_type": "code",
   "execution_count": null,
   "id": "a28a8d8c",
   "metadata": {},
   "outputs": [],
   "source": [
    "np.linalg.norm(beta - stairs.beta_star)"
   ]
  },
  {
   "cell_type": "code",
   "execution_count": null,
   "id": "1987338a",
   "metadata": {},
   "outputs": [],
   "source": [
    "stairs.incidence.shape[0]"
   ]
  },
  {
   "cell_type": "code",
   "execution_count": null,
   "id": "7213c4ee",
   "metadata": {},
   "outputs": [],
   "source": [
    "X_til, y_til = np.vstack((X, np.sqrt(2) * stairs.incidence)), np.concatenate((y, np.zeros(stairs.incidence.shape[0])))\n",
    "X_til_pinv = la.pinv(X_til)"
   ]
  },
  {
   "cell_type": "code",
   "execution_count": null,
   "id": "1aece83d",
   "metadata": {},
   "outputs": [],
   "source": [
    "(stairs.incidence @ X_til_pinv)[-2:]"
   ]
  },
  {
   "cell_type": "code",
   "execution_count": null,
   "id": "2039f626",
   "metadata": {},
   "outputs": [],
   "source": [
    "stairs.incidence @ stairs.incidence.T"
   ]
  },
  {
   "cell_type": "code",
   "execution_count": null,
   "id": "a1f56b4f",
   "metadata": {},
   "outputs": [],
   "source": [
    "gamma_til = (stairs.incidence @ X_til_pinv)"
   ]
  },
  {
   "cell_type": "code",
   "execution_count": null,
   "id": "ca6df233",
   "metadata": {
    "scrolled": true
   },
   "outputs": [],
   "source": [
    "list = [sum((stairs.incidence @ X_til_pinv)[i] != 0) for i in range(len(gamma_til))]"
   ]
  },
  {
   "cell_type": "code",
   "execution_count": null,
   "id": "23c49f13",
   "metadata": {},
   "outputs": [],
   "source": [
    "np.shape(gamma_til)"
   ]
  },
  {
   "cell_type": "code",
   "execution_count": null,
   "id": "248db4b1",
   "metadata": {},
   "outputs": [],
   "source": [
    "np.shape(stairs.incidence)"
   ]
  },
  {
   "cell_type": "code",
   "execution_count": null,
   "id": "88108a11",
   "metadata": {},
   "outputs": [],
   "source": [
    "np.shape(X_til)"
   ]
  },
  {
   "cell_type": "code",
   "execution_count": null,
   "id": "7d2a08d5",
   "metadata": {},
   "outputs": [],
   "source": [
    "import numpy as np\n",
    "import pywt\n",
    "from numpy import linalg as la\n",
    "\n",
    "\n",
    "\n",
    "def cgd_solver_terrible_replace(X, y, Gamma, lambda1, lambda2, processors = 20, eps = 1e-4, max_it = 10000):\n",
    "    m, p = Gamma.shape\n",
    "    X_til, y_til = np.vstack((X, np.sqrt(2*lambda2) * Gamma)), np.concatenate((y, np.zeros(m)))\n",
    "    X_til_pinv = la.pinv(X_til)\n",
    "\n",
    "    y_v = X_til @ X_til_pinv @ y_til\n",
    "    Gamma_v = Gamma @ X_til_pinv\n",
    "    Q = Gamma_v @ Gamma_v.T\n",
    "    b = Gamma_v @ y_v\n",
    "    \n",
    "    single_blocks = np.arange(m)\n",
    "    max_vals = [max(Q[i]) for i in range(Q.shape[0])]\n",
    "    \n",
    "    \n",
    "    u = np.zeros(m)\n",
    "    n_iter = 0\n",
    "    prev_u = 0 # For stopping criteria\n",
    "    while True:\n",
    "        n_iter += 1\n",
    "        if n_iter >= max_it:\n",
    "            #raise ValueError(\"Iterations exceed max_it\")\n",
    "            print(\"Iterations exceed max_it\")\n",
    "            return (X_til_pinv @ (y_v - Gamma_v.T @ u)), n_iter\n",
    "        updates = []\n",
    "        \n",
    "        try:\n",
    "            samples = np.random.choice(single_blocks, processors, replace = False)\n",
    "        except: \n",
    "            return (X_til_pinv @ (y_v - Gamma_v.T @ u)), n_iter\n",
    "        \n",
    "        for i in samples: \n",
    "            t = -(np.dot(Q[i], u) + b[i])/(processors*max_vals[i]/10)\n",
    "            updates.append((i, t))\n",
    "        \n",
    "        for pair in updates:\n",
    "            index = pair[0]\n",
    "            update = pair[1]\n",
    "            prev_u = u[index]\n",
    "            u[index] = np.sign(u[index] + update) * min(u[index] + update, lambda1)\n",
    "            \n",
    "            if la.norm(u[index] - prev_u) <= eps:\n",
    "                np.delete(single_blocks, index)\n",
    "            \n",
    "            if len(single_blocks) < processors: \n",
    "                processors -= 1\n",
    "        #if la.norm(u - prev_u) <= eps:\n",
    "            #break\n",
    "\n",
    "        #prev_u = np.copy(u)   # Recall array is similar to list\n",
    "\n",
    "    beta = X_til_pinv @ (y_v - Gamma_v.T @ u)\n",
    "    return beta, n_iter"
   ]
  },
  {
   "cell_type": "code",
   "execution_count": null,
   "id": "5862b29b",
   "metadata": {},
   "outputs": [],
   "source": [
    "import numpy as np\n",
    "import pywt\n",
    "from numpy import linalg as la\n",
    "\n",
    "\n",
    "\n",
    "def cgd_solver(X, y, Gamma, lambda1, lambda2, eps = 1e-4, max_it = 50000):\n",
    "    m, p = Gamma.shape\n",
    "    X_til, y_til = np.vstack((X, np.sqrt(2*lambda2) * Gamma)), np.concatenate((y, np.zeros(m)))\n",
    "    X_til_pinv = la.pinv(X_til)\n",
    "\n",
    "    y_v = X_til @ X_til_pinv @ y_til\n",
    "    Gamma_v = Gamma @ X_til_pinv\n",
    "\n",
    "    Q = Gamma_v @ Gamma_v.T\n",
    "    b = Gamma_v @ y_v\n",
    "\n",
    "    u = np.zeros(m)\n",
    "    n_iter = 0\n",
    "    prev_u = 0 # For stopping criteria\n",
    "    while True:\n",
    "        n_iter += 1\n",
    "        if n_iter >= max_it:\n",
    "            #raise ValueError(\"Iterations exceed max_it\")\n",
    "            print(\"Iterations exceed max_it\")\n",
    "            return X_til_pinv @ (y_v - Gamma_v.T @ u)\n",
    "        for i in range(m):\n",
    "            if Q[i, i] > 1e-4:\n",
    "                t = 1/Q[i,i] * (b[i] - np.dot(np.delete(Q[i], i), np.delete(u, i)))\n",
    "            else:\n",
    "                t = 0\n",
    "\n",
    "            u[i] = np.sign(t) * min(np.abs(t), lambda1)   #there should be better truncation methods\n",
    "\n",
    "        if la.norm(u - prev_u) <= eps:\n",
    "            break\n",
    "\n",
    "        prev_u = np.copy(u)   # Recall array is similar to list\n",
    "\n",
    "    beta = X_til_pinv @ (y_v - Gamma_v.T @ u)\n",
    "    return beta, n_iter"
   ]
  },
  {
   "cell_type": "code",
   "execution_count": null,
   "id": "2c25b31c",
   "metadata": {},
   "outputs": [],
   "source": [
    "import numpy as np\n",
    "import pywt\n",
    "from numpy import linalg as la\n",
    "\n",
    "\n",
    "\n",
    "def cgd_solver(X, y, Gamma, lambda1, lambda2, processors = 2, eps = 1e-4, max_it = 50000):\n",
    "    m, p = Gamma.shape\n",
    "    X_til, y_til = np.vstack((X, np.sqrt(2*lambda2) * Gamma)), np.concatenate((y, np.zeros(m)))\n",
    "    X_til_pinv = la.pinv(X_til)\n",
    "\n",
    "    y_v = X_til @ X_til_pinv @ y_til\n",
    "    Gamma_v = Gamma @ X_til_pinv\n",
    "    Q = Gamma_v @ Gamma_v.T\n",
    "    b = Gamma_v @ y_v\n",
    "    \n",
    "    single_blocks = np.arange(m)\n",
    "    max_vals = [max(Q[i]) for i in range(Q.shape[0])]\n",
    "    \n",
    "    \n",
    "    u = np.zeros(m)\n",
    "    n_iter = 0\n",
    "    prev_u = 0 # For stopping criteria\n",
    "    while True:\n",
    "        n_iter += 1\n",
    "        if n_iter >= max_it:\n",
    "            #raise ValueError(\"Iterations exceed max_it\")\n",
    "            print(\"Iterations exceed max_it\")\n",
    "            return X_til_pinv @ (y_v - Gamma_v.T @ u)\n",
    "        updates = []\n",
    "\n",
    "        samples = np.random.choice(single_blocks, processors, repeat = False)\n",
    "        for i in samples: \n",
    "            t = -(np.dot(Q[i], u) + b)/(processors*max_vals[i])\n",
    "            updates.append((i, t))\n",
    "        \n",
    "        for pair in updates:\n",
    "            u[pair[0]] = np.sign(u[pair[0]] + t) * min(u[pair[0]] + t, lambda1)\n",
    "            \n",
    "            #there should be better truncation methods\n",
    "            \n",
    "        #if la.norm(u - prev_u) <= eps:\n",
    "            #break\n",
    "\n",
    "        #prev_u = np.copy(u)   # Recall array is similar to list\n",
    "\n",
    "    beta = X_til_pinv @ (y_v - Gamma_v.T @ u)\n",
    "    return beta, n_iter"
   ]
  },
  {
   "cell_type": "code",
   "execution_count": null,
   "id": "91a830c9",
   "metadata": {},
   "outputs": [],
   "source": [
    "X.shape"
   ]
  },
  {
   "cell_type": "code",
   "execution_count": null,
   "id": "1ef05323",
   "metadata": {},
   "outputs": [],
   "source": [
    "np.random.choice(np.arange(5), 2)"
   ]
  },
  {
   "cell_type": "code",
   "execution_count": null,
   "id": "3726de0c",
   "metadata": {},
   "outputs": [],
   "source": [
    "[max(X[i]) for i in range(X.shape[0])]"
   ]
  },
  {
   "cell_type": "code",
   "execution_count": null,
   "id": "289a1a2a",
   "metadata": {},
   "outputs": [],
   "source": [
    "barbell = examples.Barbell()"
   ]
  },
  {
   "cell_type": "code",
   "execution_count": null,
   "id": "0a00dd69",
   "metadata": {},
   "outputs": [],
   "source": []
  },
  {
   "cell_type": "code",
   "execution_count": 19,
   "id": "ade09a07",
   "metadata": {},
   "outputs": [],
   "source": [
    "import numpy as np\n",
    "import pywt\n",
    "from numpy import linalg as la\n",
    "\n",
    "\n",
    "\n",
    "def cgd_solver_terrible(X, y, Gamma, lambda1, lambda2, processors = 20, eps = 1e-4, max_it = 10000):\n",
    "    m, p = Gamma.shape\n",
    "    X_til, y_til = np.vstack((X, np.sqrt(2*lambda2) * Gamma)), np.concatenate((y, np.zeros(m)))\n",
    "    X_til_pinv = la.pinv(X_til)\n",
    "\n",
    "    y_v = X_til @ X_til_pinv @ y_til\n",
    "    Gamma_v = Gamma @ X_til_pinv\n",
    "    Q = Gamma_v @ Gamma_v.T\n",
    "    b = Gamma_v @ y_v\n",
    "    \n",
    "    single_blocks = np.arange(m)\n",
    "    max_vals = [max(Q[i]) for i in range(Q.shape[0])]\n",
    "    \n",
    "    \n",
    "    u = np.zeros(m)\n",
    "    n_iter = 0\n",
    "    prev_u = 0 # For stopping criteria\n",
    "    while True:\n",
    "        n_iter += 1\n",
    "        if n_iter >= max_it:\n",
    "            #raise ValueError(\"Iterations exceed max_it\")\n",
    "            print(\"Iterations exceed max_it\")\n",
    "            return (X_til_pinv @ (y_v - Gamma_v.T @ u)), n_iter\n",
    "        updates = []\n",
    "        \n",
    "        try:\n",
    "            samples = np.random.choice(single_blocks, processors, replace = False)\n",
    "        except: \n",
    "            return (X_til_pinv @ (y_v - Gamma_v.T @ u)), n_iter\n",
    "        \n",
    "        for i in samples: \n",
    "            t = -(np.dot(Q[i], u) + b[i])/(processors*max_vals[i]/10)\n",
    "            updates.append((i, t))\n",
    "        \n",
    "        for pair in updates:\n",
    "            index = pair[0]\n",
    "            update = pair[1]\n",
    "            prev_u = u[index]\n",
    "            u[index] = np.sign(u[index] + update) * min(u[index] + update, lambda1)\n",
    "            \n",
    "            if la.norm(u[index] - prev_u) <= eps:\n",
    "                np.delete(single_blocks, index)\n",
    "            \n",
    "            if len(single_blocks) < processors: \n",
    "                processors -= 1\n",
    "        #if la.norm(u - prev_u) <= eps:\n",
    "            #break\n",
    "\n",
    "        #prev_u = np.copy(u)   # Recall array is similar to list\n",
    "\n",
    "    beta = X_til_pinv @ (y_v - Gamma_v.T @ u)\n",
    "    return beta, n_iter"
   ]
  },
  {
   "cell_type": "code",
   "execution_count": 14,
   "id": "37f0df16",
   "metadata": {},
   "outputs": [
    {
     "data": {
      "text/plain": [
       "[<matplotlib.lines.Line2D at 0x135ee26e0>]"
      ]
     },
     "execution_count": 14,
     "metadata": {},
     "output_type": "execute_result"
    },
    {
     "data": {
      "image/png": "[encoded data removed]",
      "text/plain": [
       "<Figure size 432x288 with 1 Axes>"
      ]
     },
     "metadata": {
      "needs_background": "light"
     },
     "output_type": "display_data"
    }
   ],
   "source": [
    "t = np.arange(5, 15, 1)\n",
    "\n",
    "\n",
    "increasing_part = 7.5 + 2.5*np.sin(np.pi*t/10 - np.pi)\n",
    "flat_part = np.array([5]*10)\n",
    "#beta = cflat_part, increasing_part, 5 + flat_part)\n",
    "\n",
    "beta = np.concatenate((flat_part, increasing_part, 5 + flat_part))\n",
    "\n",
    "plt.plot(beta)"
   ]
  },
  {
   "cell_type": "code",
   "execution_count": 120,
   "id": "7fe9af95",
   "metadata": {},
   "outputs": [],
   "source": [
    "def cgd_solver_parallel_2(X, y, Gamma, lambda1, lambda2, weight = 5, processors = 20, eps = 1e-5, max_it = 50000):\n",
    "    m, p = Gamma.shape\n",
    "    X_til, y_til = np.vstack((X, np.sqrt(2*lambda2) * Gamma)), np.concatenate((y, np.zeros(m)))\n",
    "    X_til_pinv = la.pinv(X_til)\n",
    "\n",
    "    y_v = X_til @ X_til_pinv @ y_til\n",
    "    Gamma_v = Gamma @ X_til_pinv\n",
    "    Q = Gamma_v @ Gamma_v.T\n",
    "    b = Gamma_v @ y_v\n",
    "    \n",
    "    single_blocks = np.arange(m)\n",
    "    max_vals = [max(Q[i]) for i in range(Q.shape[0])]\n",
    "    \n",
    "    \n",
    "    u = np.zeros(m)\n",
    "    n_iter = 0\n",
    "    update_loops = 0\n",
    "    prev_u = np.copy(u) # For stopping criteria\n",
    "    while True:\n",
    "        n_iter += 1\n",
    "        if n_iter >= max_it:\n",
    "            #raise ValueError(\"Iterations exceed max_it\")\n",
    "            print(\"Iterations exceed max_it\")\n",
    "            return (X_til_pinv @ (y_v - Gamma_v.T @ u)), n_iter, update_loops\n",
    "        updates = []\n",
    "\n",
    "        samples = np.random.choice(single_blocks, processors, replace = False)\n",
    "        for i in samples: \n",
    "            t = -(np.dot(Q[i], u) + b[i])/(processors*max_vals[i]*weight)\n",
    "            updates.append((i, t))\n",
    "        \n",
    "        for pair in updates:\n",
    "            index = pair[0]\n",
    "            update = pair[1]\n",
    "            u[index] = np.sign(u[index] + update) * min(u[index] + update, lambda1)\n",
    "            update_loops +=1\n",
    "            \n",
    "                #break\n",
    "            \n",
    "            #there should be better truncation methods\n",
    "            \n",
    "        if la.norm(u - prev_u) <= eps:\n",
    "            break\n",
    "            \n",
    "        #print(prev_u)\n",
    "        #print(u)\n",
    "        \n",
    "        ##print(eval_obj(Q, b, u) )\n",
    "        #print(eval_obj(Q, b, prev_u))\n",
    "        \n",
    "        if eval_obj(Q, b, u) > eval_obj(Q, b, prev_u):\n",
    "            u = prev_u\n",
    "\n",
    "        prev_u = np.copy(u)   # Recall array is similar to list\n",
    "\n",
    "    beta = X_til_pinv @ (y_v - Gamma_v.T @ u)\n",
    "    return beta, n_iter, update_loops"
   ]
  },
  {
   "cell_type": "code",
   "execution_count": null,
   "id": "8ee3047f",
   "metadata": {},
   "outputs": [],
   "source": []
  }
 ],
 "metadata": {
  "kernelspec": {
   "display_name": "Python 3 (ipykernel)",
   "language": "python",
   "name": "python3"
  },
  "language_info": {
   "codemirror_mode": {
    "name": "ipython",
    "version": 3
   },
   "file_extension": ".py",
   "mimetype": "text/x-python",
   "name": "python",
   "nbconvert_exporter": "python",
   "pygments_lexer": "ipython3",
   "version": "3.10.6"
  }
 },
 "nbformat": 4,
 "nbformat_minor": 5
}
